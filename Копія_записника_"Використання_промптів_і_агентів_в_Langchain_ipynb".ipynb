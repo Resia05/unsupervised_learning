{
  "nbformat": 4,
  "nbformat_minor": 0,
  "metadata": {
    "colab": {
      "provenance": [],
      "include_colab_link": true
    },
    "kernelspec": {
      "name": "python3",
      "display_name": "Python 3"
    },
    "language_info": {
      "name": "python"
    }
  },
  "cells": [
    {
      "cell_type": "markdown",
      "metadata": {
        "id": "view-in-github",
        "colab_type": "text"
      },
      "source": [
        "<a href=\"https://colab.research.google.com/github/Resia05/unsupervised_learning/blob/main/%D0%9A%D0%BE%D0%BF%D1%96%D1%8F_%D0%B7%D0%B0%D0%BF%D0%B8%D1%81%D0%BD%D0%B8%D0%BA%D0%B0_%22%D0%92%D0%B8%D0%BA%D0%BE%D1%80%D0%B8%D1%81%D1%82%D0%B0%D0%BD%D0%BD%D1%8F_%D0%BF%D1%80%D0%BE%D0%BC%D0%BF%D1%82%D1%96%D0%B2_%D1%96_%D0%B0%D0%B3%D0%B5%D0%BD%D1%82%D1%96%D0%B2_%D0%B2_Langchain_ipynb%22.ipynb\" target=\"_parent\"><img src=\"https://colab.research.google.com/assets/colab-badge.svg\" alt=\"Open In Colab\"/></a>"
      ]
    },
    {
      "cell_type": "markdown",
      "source": [
        "\n",
        "### Завдання 1: Виклик LLM з базовим промптом\n",
        "\n",
        "Створіть можливість викликати LLM зі звичайним текстовим промптом.\n",
        "\n",
        "Промпт має дозвляти отримати інформацію простою мовою на певну тему. В цьому завданні ми хочемо дізнатись про тему \"Квантові обчислення\".\n",
        "\n",
        "Відповідь моделі повинна містити визначення, ключові переваги та поточні дослідження в цій галузі.\n",
        "\n",
        "Обмежте відповідь до 200 символів і пропишіть в промпті аби відповідь була короткою (це зекономить Вам час і гроші на згенеровані токени).\n",
        "\n",
        "В якості LLM можна скористатись як моделлю з HugginFace (рекомендую Mistral), так і ChatGPT4 або ChatGPT3. В обох випадках треба імпортувати потрібну \"обгортку\" (тобто клас, який дозволить ініціювати модель) з LangChain для виклику LLM за API, а також зчитати особистий токен з файла, наприклад, `creds.json`, який розміщений у Вас локально і Ви НЕ здаєте його в ДЗ і НЕ комітите в git 😏\n",
        "\n",
        "Встановіть своє значення температури на свій розсуд (тут немає правильного чи неправильного значення) і напишіть, чому ви обрали саме таке значення для цього завдання.  \n",
        "\n",
        "Запити можна робити як українською, так і англійською - орієнтуйтесь на те, де і чи хочете ви потім лишити цей проєкт і відповідна яка мова буде пасувати більше. В розвʼязках промпти - українською."
      ],
      "metadata": {
        "id": "RMalK_oYR-X_"
      }
    },
    {
      "cell_type": "code",
      "source": [
        "from google.colab import drive\n",
        "drive.mount('/content/drive')"
      ],
      "metadata": {
        "id": "Yn5SP6FUNyro",
        "colab": {
          "base_uri": "https://localhost:8080/"
        },
        "outputId": "a1afe746-206a-473a-aa2d-73a40033895d"
      },
      "execution_count": 1,
      "outputs": [
        {
          "output_type": "stream",
          "name": "stdout",
          "text": [
            "Mounted at /content/drive\n"
          ]
        }
      ]
    },
    {
      "cell_type": "code",
      "source": [
        "!pip -q install langchain langchain_openai huggingface_hub openai\n",
        "!pip install -q langchain-huggingface"
      ],
      "metadata": {
        "id": "vT1ICe74cAUS",
        "colab": {
          "base_uri": "https://localhost:8080/"
        },
        "outputId": "713454e8-7742-4a02-c588-19d10d696282"
      },
      "execution_count": 21,
      "outputs": [
        {
          "output_type": "stream",
          "name": "stdout",
          "text": [
            "\u001b[?25l   \u001b[90m━━━━━━━━━━━━━━━━━━━━━━━━━━━━━━━━━━━━━━━━\u001b[0m \u001b[32m0.0/255.8 kB\u001b[0m \u001b[31m?\u001b[0m eta \u001b[36m-:--:--\u001b[0m\r\u001b[2K   \u001b[91m━━━━━━━━━━━━━━━━━━━━━━━━━━━━━━━━━━━━━━\u001b[0m\u001b[90m╺\u001b[0m\u001b[90m━\u001b[0m \u001b[32m245.8/255.8 kB\u001b[0m \u001b[31m9.1 MB/s\u001b[0m eta \u001b[36m0:00:01\u001b[0m\r\u001b[2K   \u001b[90m━━━━━━━━━━━━━━━━━━━━━━━━━━━━━━━━━━━━━━━━\u001b[0m \u001b[32m255.8/255.8 kB\u001b[0m \u001b[31m5.7 MB/s\u001b[0m eta \u001b[36m0:00:00\u001b[0m\n",
            "\u001b[?25h"
          ]
        }
      ]
    },
    {
      "cell_type": "code",
      "source": [
        "print(os.environ.get(\"OPENAI_API_KEY\")[:5] + \"*****\")"
      ],
      "metadata": {
        "colab": {
          "base_uri": "https://localhost:8080/"
        },
        "id": "9U5_tN29RjHn",
        "outputId": "8840728e-5c15-4b9d-e53c-114f37bc8a57"
      },
      "execution_count": 10,
      "outputs": [
        {
          "output_type": "stream",
          "name": "stdout",
          "text": [
            "sk-pr*****\n"
          ]
        }
      ]
    },
    {
      "cell_type": "code",
      "source": [
        "import json\n",
        "import os\n",
        "from langchain.llms import OpenAI\n",
        "\n",
        "# Завантаження API ключів з файлу\n",
        "with open('creds.json') as file:\n",
        "    creds = json.load(file)\n",
        "\n",
        "# Збереження ключа в середовище\n",
        "os.environ[\"OPENAI_API_KEY\"] = creds[\"OPENAI_API_KEY\"]\n",
        "\n",
        "# Ініціалізація моделі OpenAI з параметрами\n",
        "llm = OpenAI(model=\"gpt-3.5-turbo\", temperature=0.2, max_tokens=50)  # max_tokens обмежує довжину\n",
        "\n",
        "# Створення промпту\n",
        "prompt = (\n",
        "    \"Дайте коротке визначення, ключові переваги та актуальні дослідження в області \"\n",
        "    \"'Квантові обчислення'. Відповідь має бути короткою, до 200 символів.\"\n",
        ")\n",
        "\n",
        "# Виклик LLM\n",
        "response = llm(prompt)\n",
        "print(response)"
      ],
      "metadata": {
        "colab": {
          "base_uri": "https://localhost:8080/",
          "height": 375
        },
        "collapsed": true,
        "id": "RcFlR2gsSKOd",
        "outputId": "0bc6bfef-eabd-4b6d-ca7e-792739358998"
      },
      "execution_count": 14,
      "outputs": [
        {
          "output_type": "error",
          "ename": "RateLimitError",
          "evalue": "Error code: 429 - {'error': {'message': 'You exceeded your current quota, please check your plan and billing details. For more information on this error, read the docs: https://platform.openai.com/docs/guides/error-codes/api-errors.', 'type': 'insufficient_quota', 'param': None, 'code': 'insufficient_quota'}}",
          "traceback": [
            "\u001b[0;31m---------------------------------------------------------------------------\u001b[0m",
            "\u001b[0;31mRateLimitError\u001b[0m                            Traceback (most recent call last)",
            "\u001b[0;32m<ipython-input-14-a1afa8423991>\u001b[0m in \u001b[0;36m<cell line: 22>\u001b[0;34m()\u001b[0m\n\u001b[1;32m     20\u001b[0m \u001b[0;34m\u001b[0m\u001b[0m\n\u001b[1;32m     21\u001b[0m \u001b[0;31m# Виклик LLM\u001b[0m\u001b[0;34m\u001b[0m\u001b[0;34m\u001b[0m\u001b[0m\n\u001b[0;32m---> 22\u001b[0;31m \u001b[0mresponse\u001b[0m \u001b[0;34m=\u001b[0m \u001b[0mllm\u001b[0m\u001b[0;34m(\u001b[0m\u001b[0mprompt\u001b[0m\u001b[0;34m)\u001b[0m\u001b[0;34m\u001b[0m\u001b[0;34m\u001b[0m\u001b[0m\n\u001b[0m\u001b[1;32m     23\u001b[0m \u001b[0mprint\u001b[0m\u001b[0;34m(\u001b[0m\u001b[0mresponse\u001b[0m\u001b[0;34m)\u001b[0m\u001b[0;34m\u001b[0m\u001b[0;34m\u001b[0m\u001b[0m\n",
            "\u001b[0;32m/usr/local/lib/python3.10/dist-packages/langchain_core/_api/deprecation.py\u001b[0m in \u001b[0;36mwarning_emitting_wrapper\u001b[0;34m(*args, **kwargs)\u001b[0m\n\u001b[1;32m    180\u001b[0m                 \u001b[0mwarned\u001b[0m \u001b[0;34m=\u001b[0m \u001b[0;32mTrue\u001b[0m\u001b[0;34m\u001b[0m\u001b[0;34m\u001b[0m\u001b[0m\n\u001b[1;32m    181\u001b[0m                 \u001b[0memit_warning\u001b[0m\u001b[0;34m(\u001b[0m\u001b[0;34m)\u001b[0m\u001b[0;34m\u001b[0m\u001b[0;34m\u001b[0m\u001b[0m\n\u001b[0;32m--> 182\u001b[0;31m             \u001b[0;32mreturn\u001b[0m \u001b[0mwrapped\u001b[0m\u001b[0;34m(\u001b[0m\u001b[0;34m*\u001b[0m\u001b[0margs\u001b[0m\u001b[0;34m,\u001b[0m \u001b[0;34m**\u001b[0m\u001b[0mkwargs\u001b[0m\u001b[0;34m)\u001b[0m\u001b[0;34m\u001b[0m\u001b[0;34m\u001b[0m\u001b[0m\n\u001b[0m\u001b[1;32m    183\u001b[0m \u001b[0;34m\u001b[0m\u001b[0m\n\u001b[1;32m    184\u001b[0m         \u001b[0;32masync\u001b[0m \u001b[0;32mdef\u001b[0m \u001b[0mawarning_emitting_wrapper\u001b[0m\u001b[0;34m(\u001b[0m\u001b[0;34m*\u001b[0m\u001b[0margs\u001b[0m\u001b[0;34m:\u001b[0m \u001b[0mAny\u001b[0m\u001b[0;34m,\u001b[0m \u001b[0;34m**\u001b[0m\u001b[0mkwargs\u001b[0m\u001b[0;34m:\u001b[0m \u001b[0mAny\u001b[0m\u001b[0;34m)\u001b[0m \u001b[0;34m->\u001b[0m \u001b[0mAny\u001b[0m\u001b[0;34m:\u001b[0m\u001b[0;34m\u001b[0m\u001b[0;34m\u001b[0m\u001b[0m\n",
            "\u001b[0;32m/usr/local/lib/python3.10/dist-packages/langchain_core/language_models/llms.py\u001b[0m in \u001b[0;36m__call__\u001b[0;34m(self, prompt, stop, callbacks, tags, metadata, **kwargs)\u001b[0m\n\u001b[1;32m   1275\u001b[0m             \u001b[0;32mraise\u001b[0m \u001b[0mValueError\u001b[0m\u001b[0;34m(\u001b[0m\u001b[0mmsg\u001b[0m\u001b[0;34m)\u001b[0m\u001b[0;34m\u001b[0m\u001b[0;34m\u001b[0m\u001b[0m\n\u001b[1;32m   1276\u001b[0m         return (\n\u001b[0;32m-> 1277\u001b[0;31m             self.generate(\n\u001b[0m\u001b[1;32m   1278\u001b[0m                 \u001b[0;34m[\u001b[0m\u001b[0mprompt\u001b[0m\u001b[0;34m]\u001b[0m\u001b[0;34m,\u001b[0m\u001b[0;34m\u001b[0m\u001b[0;34m\u001b[0m\u001b[0m\n\u001b[1;32m   1279\u001b[0m                 \u001b[0mstop\u001b[0m\u001b[0;34m=\u001b[0m\u001b[0mstop\u001b[0m\u001b[0;34m,\u001b[0m\u001b[0;34m\u001b[0m\u001b[0;34m\u001b[0m\u001b[0m\n",
            "\u001b[0;32m/usr/local/lib/python3.10/dist-packages/langchain_core/language_models/llms.py\u001b[0m in \u001b[0;36mgenerate\u001b[0;34m(self, prompts, stop, callbacks, tags, metadata, run_name, run_id, **kwargs)\u001b[0m\n\u001b[1;32m    948\u001b[0m                 )\n\u001b[1;32m    949\u001b[0m             ]\n\u001b[0;32m--> 950\u001b[0;31m             output = self._generate_helper(\n\u001b[0m\u001b[1;32m    951\u001b[0m                 \u001b[0mprompts\u001b[0m\u001b[0;34m,\u001b[0m \u001b[0mstop\u001b[0m\u001b[0;34m,\u001b[0m \u001b[0mrun_managers\u001b[0m\u001b[0;34m,\u001b[0m \u001b[0mbool\u001b[0m\u001b[0;34m(\u001b[0m\u001b[0mnew_arg_supported\u001b[0m\u001b[0;34m)\u001b[0m\u001b[0;34m,\u001b[0m \u001b[0;34m**\u001b[0m\u001b[0mkwargs\u001b[0m\u001b[0;34m\u001b[0m\u001b[0;34m\u001b[0m\u001b[0m\n\u001b[1;32m    952\u001b[0m             )\n",
            "\u001b[0;32m/usr/local/lib/python3.10/dist-packages/langchain_core/language_models/llms.py\u001b[0m in \u001b[0;36m_generate_helper\u001b[0;34m(self, prompts, stop, run_managers, new_arg_supported, **kwargs)\u001b[0m\n\u001b[1;32m    790\u001b[0m             \u001b[0;32mfor\u001b[0m \u001b[0mrun_manager\u001b[0m \u001b[0;32min\u001b[0m \u001b[0mrun_managers\u001b[0m\u001b[0;34m:\u001b[0m\u001b[0;34m\u001b[0m\u001b[0;34m\u001b[0m\u001b[0m\n\u001b[1;32m    791\u001b[0m                 \u001b[0mrun_manager\u001b[0m\u001b[0;34m.\u001b[0m\u001b[0mon_llm_error\u001b[0m\u001b[0;34m(\u001b[0m\u001b[0me\u001b[0m\u001b[0;34m,\u001b[0m \u001b[0mresponse\u001b[0m\u001b[0;34m=\u001b[0m\u001b[0mLLMResult\u001b[0m\u001b[0;34m(\u001b[0m\u001b[0mgenerations\u001b[0m\u001b[0;34m=\u001b[0m\u001b[0;34m[\u001b[0m\u001b[0;34m]\u001b[0m\u001b[0;34m)\u001b[0m\u001b[0;34m)\u001b[0m\u001b[0;34m\u001b[0m\u001b[0;34m\u001b[0m\u001b[0m\n\u001b[0;32m--> 792\u001b[0;31m             \u001b[0;32mraise\u001b[0m \u001b[0me\u001b[0m\u001b[0;34m\u001b[0m\u001b[0;34m\u001b[0m\u001b[0m\n\u001b[0m\u001b[1;32m    793\u001b[0m         \u001b[0mflattened_outputs\u001b[0m \u001b[0;34m=\u001b[0m \u001b[0moutput\u001b[0m\u001b[0;34m.\u001b[0m\u001b[0mflatten\u001b[0m\u001b[0;34m(\u001b[0m\u001b[0;34m)\u001b[0m\u001b[0;34m\u001b[0m\u001b[0;34m\u001b[0m\u001b[0m\n\u001b[1;32m    794\u001b[0m         \u001b[0;32mfor\u001b[0m \u001b[0mmanager\u001b[0m\u001b[0;34m,\u001b[0m \u001b[0mflattened_output\u001b[0m \u001b[0;32min\u001b[0m \u001b[0mzip\u001b[0m\u001b[0;34m(\u001b[0m\u001b[0mrun_managers\u001b[0m\u001b[0;34m,\u001b[0m \u001b[0mflattened_outputs\u001b[0m\u001b[0;34m)\u001b[0m\u001b[0;34m:\u001b[0m\u001b[0;34m\u001b[0m\u001b[0;34m\u001b[0m\u001b[0m\n",
            "\u001b[0;32m/usr/local/lib/python3.10/dist-packages/langchain_core/language_models/llms.py\u001b[0m in \u001b[0;36m_generate_helper\u001b[0;34m(self, prompts, stop, run_managers, new_arg_supported, **kwargs)\u001b[0m\n\u001b[1;32m    777\u001b[0m         \u001b[0;32mtry\u001b[0m\u001b[0;34m:\u001b[0m\u001b[0;34m\u001b[0m\u001b[0;34m\u001b[0m\u001b[0m\n\u001b[1;32m    778\u001b[0m             output = (\n\u001b[0;32m--> 779\u001b[0;31m                 self._generate(\n\u001b[0m\u001b[1;32m    780\u001b[0m                     \u001b[0mprompts\u001b[0m\u001b[0;34m,\u001b[0m\u001b[0;34m\u001b[0m\u001b[0;34m\u001b[0m\u001b[0m\n\u001b[1;32m    781\u001b[0m                     \u001b[0mstop\u001b[0m\u001b[0;34m=\u001b[0m\u001b[0mstop\u001b[0m\u001b[0;34m,\u001b[0m\u001b[0;34m\u001b[0m\u001b[0;34m\u001b[0m\u001b[0m\n",
            "\u001b[0;32m/usr/local/lib/python3.10/dist-packages/langchain_community/llms/openai.py\u001b[0m in \u001b[0;36m_generate\u001b[0;34m(self, prompts, stop, run_manager, **kwargs)\u001b[0m\n\u001b[1;32m    460\u001b[0m                 )\n\u001b[1;32m    461\u001b[0m             \u001b[0;32melse\u001b[0m\u001b[0;34m:\u001b[0m\u001b[0;34m\u001b[0m\u001b[0;34m\u001b[0m\u001b[0m\n\u001b[0;32m--> 462\u001b[0;31m                 response = completion_with_retry(\n\u001b[0m\u001b[1;32m    463\u001b[0m                     \u001b[0mself\u001b[0m\u001b[0;34m,\u001b[0m \u001b[0mprompt\u001b[0m\u001b[0;34m=\u001b[0m\u001b[0m_prompts\u001b[0m\u001b[0;34m,\u001b[0m \u001b[0mrun_manager\u001b[0m\u001b[0;34m=\u001b[0m\u001b[0mrun_manager\u001b[0m\u001b[0;34m,\u001b[0m \u001b[0;34m**\u001b[0m\u001b[0mparams\u001b[0m\u001b[0;34m\u001b[0m\u001b[0;34m\u001b[0m\u001b[0m\n\u001b[1;32m    464\u001b[0m                 )\n",
            "\u001b[0;32m/usr/local/lib/python3.10/dist-packages/langchain_community/llms/openai.py\u001b[0m in \u001b[0;36mcompletion_with_retry\u001b[0;34m(llm, run_manager, **kwargs)\u001b[0m\n\u001b[1;32m    118\u001b[0m     \u001b[0;34m\"\"\"Use tenacity to retry the completion call.\"\"\"\u001b[0m\u001b[0;34m\u001b[0m\u001b[0;34m\u001b[0m\u001b[0m\n\u001b[1;32m    119\u001b[0m     \u001b[0;32mif\u001b[0m \u001b[0mis_openai_v1\u001b[0m\u001b[0;34m(\u001b[0m\u001b[0;34m)\u001b[0m\u001b[0;34m:\u001b[0m\u001b[0;34m\u001b[0m\u001b[0;34m\u001b[0m\u001b[0m\n\u001b[0;32m--> 120\u001b[0;31m         \u001b[0;32mreturn\u001b[0m \u001b[0mllm\u001b[0m\u001b[0;34m.\u001b[0m\u001b[0mclient\u001b[0m\u001b[0;34m.\u001b[0m\u001b[0mcreate\u001b[0m\u001b[0;34m(\u001b[0m\u001b[0;34m**\u001b[0m\u001b[0mkwargs\u001b[0m\u001b[0;34m)\u001b[0m\u001b[0;34m\u001b[0m\u001b[0;34m\u001b[0m\u001b[0m\n\u001b[0m\u001b[1;32m    121\u001b[0m \u001b[0;34m\u001b[0m\u001b[0m\n\u001b[1;32m    122\u001b[0m     \u001b[0mretry_decorator\u001b[0m \u001b[0;34m=\u001b[0m \u001b[0m_create_retry_decorator\u001b[0m\u001b[0;34m(\u001b[0m\u001b[0mllm\u001b[0m\u001b[0;34m,\u001b[0m \u001b[0mrun_manager\u001b[0m\u001b[0;34m=\u001b[0m\u001b[0mrun_manager\u001b[0m\u001b[0;34m)\u001b[0m\u001b[0;34m\u001b[0m\u001b[0;34m\u001b[0m\u001b[0m\n",
            "\u001b[0;32m/usr/local/lib/python3.10/dist-packages/openai/_utils/_utils.py\u001b[0m in \u001b[0;36mwrapper\u001b[0;34m(*args, **kwargs)\u001b[0m\n\u001b[1;32m    272\u001b[0m                         \u001b[0mmsg\u001b[0m \u001b[0;34m=\u001b[0m \u001b[0;34mf\"Missing required argument: {quote(missing[0])}\"\u001b[0m\u001b[0;34m\u001b[0m\u001b[0;34m\u001b[0m\u001b[0m\n\u001b[1;32m    273\u001b[0m                 \u001b[0;32mraise\u001b[0m \u001b[0mTypeError\u001b[0m\u001b[0;34m(\u001b[0m\u001b[0mmsg\u001b[0m\u001b[0;34m)\u001b[0m\u001b[0;34m\u001b[0m\u001b[0;34m\u001b[0m\u001b[0m\n\u001b[0;32m--> 274\u001b[0;31m             \u001b[0;32mreturn\u001b[0m \u001b[0mfunc\u001b[0m\u001b[0;34m(\u001b[0m\u001b[0;34m*\u001b[0m\u001b[0margs\u001b[0m\u001b[0;34m,\u001b[0m \u001b[0;34m**\u001b[0m\u001b[0mkwargs\u001b[0m\u001b[0;34m)\u001b[0m\u001b[0;34m\u001b[0m\u001b[0;34m\u001b[0m\u001b[0m\n\u001b[0m\u001b[1;32m    275\u001b[0m \u001b[0;34m\u001b[0m\u001b[0m\n\u001b[1;32m    276\u001b[0m         \u001b[0;32mreturn\u001b[0m \u001b[0mwrapper\u001b[0m  \u001b[0;31m# type: ignore\u001b[0m\u001b[0;34m\u001b[0m\u001b[0;34m\u001b[0m\u001b[0m\n",
            "\u001b[0;32m/usr/local/lib/python3.10/dist-packages/openai/resources/completions.py\u001b[0m in \u001b[0;36mcreate\u001b[0;34m(self, model, prompt, best_of, echo, frequency_penalty, logit_bias, logprobs, max_tokens, n, presence_penalty, seed, stop, stream, stream_options, suffix, temperature, top_p, user, extra_headers, extra_query, extra_body, timeout)\u001b[0m\n\u001b[1;32m    537\u001b[0m         \u001b[0mtimeout\u001b[0m\u001b[0;34m:\u001b[0m \u001b[0mfloat\u001b[0m \u001b[0;34m|\u001b[0m \u001b[0mhttpx\u001b[0m\u001b[0;34m.\u001b[0m\u001b[0mTimeout\u001b[0m \u001b[0;34m|\u001b[0m \u001b[0;32mNone\u001b[0m \u001b[0;34m|\u001b[0m \u001b[0mNotGiven\u001b[0m \u001b[0;34m=\u001b[0m \u001b[0mNOT_GIVEN\u001b[0m\u001b[0;34m,\u001b[0m\u001b[0;34m\u001b[0m\u001b[0;34m\u001b[0m\u001b[0m\n\u001b[1;32m    538\u001b[0m     ) -> Completion | Stream[Completion]:\n\u001b[0;32m--> 539\u001b[0;31m         return self._post(\n\u001b[0m\u001b[1;32m    540\u001b[0m             \u001b[0;34m\"/completions\"\u001b[0m\u001b[0;34m,\u001b[0m\u001b[0;34m\u001b[0m\u001b[0;34m\u001b[0m\u001b[0m\n\u001b[1;32m    541\u001b[0m             body=maybe_transform(\n",
            "\u001b[0;32m/usr/local/lib/python3.10/dist-packages/openai/_base_client.py\u001b[0m in \u001b[0;36mpost\u001b[0;34m(self, path, cast_to, body, options, files, stream, stream_cls)\u001b[0m\n\u001b[1;32m   1275\u001b[0m             \u001b[0mmethod\u001b[0m\u001b[0;34m=\u001b[0m\u001b[0;34m\"post\"\u001b[0m\u001b[0;34m,\u001b[0m \u001b[0murl\u001b[0m\u001b[0;34m=\u001b[0m\u001b[0mpath\u001b[0m\u001b[0;34m,\u001b[0m \u001b[0mjson_data\u001b[0m\u001b[0;34m=\u001b[0m\u001b[0mbody\u001b[0m\u001b[0;34m,\u001b[0m \u001b[0mfiles\u001b[0m\u001b[0;34m=\u001b[0m\u001b[0mto_httpx_files\u001b[0m\u001b[0;34m(\u001b[0m\u001b[0mfiles\u001b[0m\u001b[0;34m)\u001b[0m\u001b[0;34m,\u001b[0m \u001b[0;34m**\u001b[0m\u001b[0moptions\u001b[0m\u001b[0;34m\u001b[0m\u001b[0;34m\u001b[0m\u001b[0m\n\u001b[1;32m   1276\u001b[0m         )\n\u001b[0;32m-> 1277\u001b[0;31m         \u001b[0;32mreturn\u001b[0m \u001b[0mcast\u001b[0m\u001b[0;34m(\u001b[0m\u001b[0mResponseT\u001b[0m\u001b[0;34m,\u001b[0m \u001b[0mself\u001b[0m\u001b[0;34m.\u001b[0m\u001b[0mrequest\u001b[0m\u001b[0;34m(\u001b[0m\u001b[0mcast_to\u001b[0m\u001b[0;34m,\u001b[0m \u001b[0mopts\u001b[0m\u001b[0;34m,\u001b[0m \u001b[0mstream\u001b[0m\u001b[0;34m=\u001b[0m\u001b[0mstream\u001b[0m\u001b[0;34m,\u001b[0m \u001b[0mstream_cls\u001b[0m\u001b[0;34m=\u001b[0m\u001b[0mstream_cls\u001b[0m\u001b[0;34m)\u001b[0m\u001b[0;34m)\u001b[0m\u001b[0;34m\u001b[0m\u001b[0;34m\u001b[0m\u001b[0m\n\u001b[0m\u001b[1;32m   1278\u001b[0m \u001b[0;34m\u001b[0m\u001b[0m\n\u001b[1;32m   1279\u001b[0m     def patch(\n",
            "\u001b[0;32m/usr/local/lib/python3.10/dist-packages/openai/_base_client.py\u001b[0m in \u001b[0;36mrequest\u001b[0;34m(self, cast_to, options, remaining_retries, stream, stream_cls)\u001b[0m\n\u001b[1;32m    952\u001b[0m             \u001b[0mretries_taken\u001b[0m \u001b[0;34m=\u001b[0m \u001b[0;36m0\u001b[0m\u001b[0;34m\u001b[0m\u001b[0;34m\u001b[0m\u001b[0m\n\u001b[1;32m    953\u001b[0m \u001b[0;34m\u001b[0m\u001b[0m\n\u001b[0;32m--> 954\u001b[0;31m         return self._request(\n\u001b[0m\u001b[1;32m    955\u001b[0m             \u001b[0mcast_to\u001b[0m\u001b[0;34m=\u001b[0m\u001b[0mcast_to\u001b[0m\u001b[0;34m,\u001b[0m\u001b[0;34m\u001b[0m\u001b[0;34m\u001b[0m\u001b[0m\n\u001b[1;32m    956\u001b[0m             \u001b[0moptions\u001b[0m\u001b[0;34m=\u001b[0m\u001b[0moptions\u001b[0m\u001b[0;34m,\u001b[0m\u001b[0;34m\u001b[0m\u001b[0;34m\u001b[0m\u001b[0m\n",
            "\u001b[0;32m/usr/local/lib/python3.10/dist-packages/openai/_base_client.py\u001b[0m in \u001b[0;36m_request\u001b[0;34m(self, cast_to, options, retries_taken, stream, stream_cls)\u001b[0m\n\u001b[1;32m   1041\u001b[0m             \u001b[0;32mif\u001b[0m \u001b[0mremaining_retries\u001b[0m \u001b[0;34m>\u001b[0m \u001b[0;36m0\u001b[0m \u001b[0;32mand\u001b[0m \u001b[0mself\u001b[0m\u001b[0;34m.\u001b[0m\u001b[0m_should_retry\u001b[0m\u001b[0;34m(\u001b[0m\u001b[0merr\u001b[0m\u001b[0;34m.\u001b[0m\u001b[0mresponse\u001b[0m\u001b[0;34m)\u001b[0m\u001b[0;34m:\u001b[0m\u001b[0;34m\u001b[0m\u001b[0;34m\u001b[0m\u001b[0m\n\u001b[1;32m   1042\u001b[0m                 \u001b[0merr\u001b[0m\u001b[0;34m.\u001b[0m\u001b[0mresponse\u001b[0m\u001b[0;34m.\u001b[0m\u001b[0mclose\u001b[0m\u001b[0;34m(\u001b[0m\u001b[0;34m)\u001b[0m\u001b[0;34m\u001b[0m\u001b[0;34m\u001b[0m\u001b[0m\n\u001b[0;32m-> 1043\u001b[0;31m                 return self._retry_request(\n\u001b[0m\u001b[1;32m   1044\u001b[0m                     \u001b[0minput_options\u001b[0m\u001b[0;34m,\u001b[0m\u001b[0;34m\u001b[0m\u001b[0;34m\u001b[0m\u001b[0m\n\u001b[1;32m   1045\u001b[0m                     \u001b[0mcast_to\u001b[0m\u001b[0;34m,\u001b[0m\u001b[0;34m\u001b[0m\u001b[0;34m\u001b[0m\u001b[0m\n",
            "\u001b[0;32m/usr/local/lib/python3.10/dist-packages/openai/_base_client.py\u001b[0m in \u001b[0;36m_retry_request\u001b[0;34m(self, options, cast_to, retries_taken, response_headers, stream, stream_cls)\u001b[0m\n\u001b[1;32m   1090\u001b[0m         \u001b[0mtime\u001b[0m\u001b[0;34m.\u001b[0m\u001b[0msleep\u001b[0m\u001b[0;34m(\u001b[0m\u001b[0mtimeout\u001b[0m\u001b[0;34m)\u001b[0m\u001b[0;34m\u001b[0m\u001b[0;34m\u001b[0m\u001b[0m\n\u001b[1;32m   1091\u001b[0m \u001b[0;34m\u001b[0m\u001b[0m\n\u001b[0;32m-> 1092\u001b[0;31m         return self._request(\n\u001b[0m\u001b[1;32m   1093\u001b[0m             \u001b[0moptions\u001b[0m\u001b[0;34m=\u001b[0m\u001b[0moptions\u001b[0m\u001b[0;34m,\u001b[0m\u001b[0;34m\u001b[0m\u001b[0;34m\u001b[0m\u001b[0m\n\u001b[1;32m   1094\u001b[0m             \u001b[0mcast_to\u001b[0m\u001b[0;34m=\u001b[0m\u001b[0mcast_to\u001b[0m\u001b[0;34m,\u001b[0m\u001b[0;34m\u001b[0m\u001b[0;34m\u001b[0m\u001b[0m\n",
            "\u001b[0;32m/usr/local/lib/python3.10/dist-packages/openai/_base_client.py\u001b[0m in \u001b[0;36m_request\u001b[0;34m(self, cast_to, options, retries_taken, stream, stream_cls)\u001b[0m\n\u001b[1;32m   1041\u001b[0m             \u001b[0;32mif\u001b[0m \u001b[0mremaining_retries\u001b[0m \u001b[0;34m>\u001b[0m \u001b[0;36m0\u001b[0m \u001b[0;32mand\u001b[0m \u001b[0mself\u001b[0m\u001b[0;34m.\u001b[0m\u001b[0m_should_retry\u001b[0m\u001b[0;34m(\u001b[0m\u001b[0merr\u001b[0m\u001b[0;34m.\u001b[0m\u001b[0mresponse\u001b[0m\u001b[0;34m)\u001b[0m\u001b[0;34m:\u001b[0m\u001b[0;34m\u001b[0m\u001b[0;34m\u001b[0m\u001b[0m\n\u001b[1;32m   1042\u001b[0m                 \u001b[0merr\u001b[0m\u001b[0;34m.\u001b[0m\u001b[0mresponse\u001b[0m\u001b[0;34m.\u001b[0m\u001b[0mclose\u001b[0m\u001b[0;34m(\u001b[0m\u001b[0;34m)\u001b[0m\u001b[0;34m\u001b[0m\u001b[0;34m\u001b[0m\u001b[0m\n\u001b[0;32m-> 1043\u001b[0;31m                 return self._retry_request(\n\u001b[0m\u001b[1;32m   1044\u001b[0m                     \u001b[0minput_options\u001b[0m\u001b[0;34m,\u001b[0m\u001b[0;34m\u001b[0m\u001b[0;34m\u001b[0m\u001b[0m\n\u001b[1;32m   1045\u001b[0m                     \u001b[0mcast_to\u001b[0m\u001b[0;34m,\u001b[0m\u001b[0;34m\u001b[0m\u001b[0;34m\u001b[0m\u001b[0m\n",
            "\u001b[0;32m/usr/local/lib/python3.10/dist-packages/openai/_base_client.py\u001b[0m in \u001b[0;36m_retry_request\u001b[0;34m(self, options, cast_to, retries_taken, response_headers, stream, stream_cls)\u001b[0m\n\u001b[1;32m   1090\u001b[0m         \u001b[0mtime\u001b[0m\u001b[0;34m.\u001b[0m\u001b[0msleep\u001b[0m\u001b[0;34m(\u001b[0m\u001b[0mtimeout\u001b[0m\u001b[0;34m)\u001b[0m\u001b[0;34m\u001b[0m\u001b[0;34m\u001b[0m\u001b[0m\n\u001b[1;32m   1091\u001b[0m \u001b[0;34m\u001b[0m\u001b[0m\n\u001b[0;32m-> 1092\u001b[0;31m         return self._request(\n\u001b[0m\u001b[1;32m   1093\u001b[0m             \u001b[0moptions\u001b[0m\u001b[0;34m=\u001b[0m\u001b[0moptions\u001b[0m\u001b[0;34m,\u001b[0m\u001b[0;34m\u001b[0m\u001b[0;34m\u001b[0m\u001b[0m\n\u001b[1;32m   1094\u001b[0m             \u001b[0mcast_to\u001b[0m\u001b[0;34m=\u001b[0m\u001b[0mcast_to\u001b[0m\u001b[0;34m,\u001b[0m\u001b[0;34m\u001b[0m\u001b[0;34m\u001b[0m\u001b[0m\n",
            "\u001b[0;32m/usr/local/lib/python3.10/dist-packages/openai/_base_client.py\u001b[0m in \u001b[0;36m_request\u001b[0;34m(self, cast_to, options, retries_taken, stream, stream_cls)\u001b[0m\n\u001b[1;32m   1056\u001b[0m \u001b[0;34m\u001b[0m\u001b[0m\n\u001b[1;32m   1057\u001b[0m             \u001b[0mlog\u001b[0m\u001b[0;34m.\u001b[0m\u001b[0mdebug\u001b[0m\u001b[0;34m(\u001b[0m\u001b[0;34m\"Re-raising status error\"\u001b[0m\u001b[0;34m)\u001b[0m\u001b[0;34m\u001b[0m\u001b[0;34m\u001b[0m\u001b[0m\n\u001b[0;32m-> 1058\u001b[0;31m             \u001b[0;32mraise\u001b[0m \u001b[0mself\u001b[0m\u001b[0;34m.\u001b[0m\u001b[0m_make_status_error_from_response\u001b[0m\u001b[0;34m(\u001b[0m\u001b[0merr\u001b[0m\u001b[0;34m.\u001b[0m\u001b[0mresponse\u001b[0m\u001b[0;34m)\u001b[0m \u001b[0;32mfrom\u001b[0m \u001b[0;32mNone\u001b[0m\u001b[0;34m\u001b[0m\u001b[0;34m\u001b[0m\u001b[0m\n\u001b[0m\u001b[1;32m   1059\u001b[0m \u001b[0;34m\u001b[0m\u001b[0m\n\u001b[1;32m   1060\u001b[0m         return self._process_response(\n",
            "\u001b[0;31mRateLimitError\u001b[0m: Error code: 429 - {'error': {'message': 'You exceeded your current quota, please check your plan and billing details. For more information on this error, read the docs: https://platform.openai.com/docs/guides/error-codes/api-errors.', 'type': 'insufficient_quota', 'param': None, 'code': 'insufficient_quota'}}"
          ]
        }
      ]
    },
    {
      "cell_type": "markdown",
      "source": [
        "Далі, щоб користуватись цією моделлю потрібно оплатити."
      ],
      "metadata": {
        "id": "9yWXjFFjTZnV"
      }
    },
    {
      "cell_type": "code",
      "source": [
        "import json\n",
        "import os\n",
        "from langchain_huggingface import HuggingFaceEndpoint\n",
        "\n",
        "# Завантаження API ключів з файлу\n",
        "with open('creds.json') as file:\n",
        "    creds = json.load(file)\n",
        "\n",
        "# Додавання токену до середовища\n",
        "os.environ[\"HUGGINGFACEHUB_API_TOKEN\"] = creds[\"HUGGINGFACEHUB_API_TOKEN\"]\n",
        "\n",
        "# Встановлюємо загальну температуру\n",
        "overal_temperature = 0.1\n",
        "\n",
        "# Ініціалізація моделі Mistral\n",
        "mistral = HuggingFaceEndpoint(\n",
        "    repo_id=\"mistralai/Mistral-7B-Instruct-v0.2\",\n",
        "    temperature=overal_temperature,\n",
        "    max_new_tokens=200\n",
        ")"
      ],
      "metadata": {
        "colab": {
          "base_uri": "https://localhost:8080/"
        },
        "id": "FixzIDaKVfgt",
        "outputId": "becec7fd-9ec8-4370-fb29-55b5418c0574"
      },
      "execution_count": 26,
      "outputs": [
        {
          "output_type": "stream",
          "name": "stdout",
          "text": [
            "The token has not been saved to the git credentials helper. Pass `add_to_git_credential=True` in this function directly or `--add-to-git-credential` if using via `huggingface-cli` if you want to set the git credential as well.\n",
            "Token is valid (permission: read).\n",
            "Your token has been saved to /root/.cache/huggingface/token\n",
            "Login successful\n"
          ]
        }
      ]
    },
    {
      "cell_type": "code",
      "source": [
        "# Формулюємо промпт\n",
        "prompt = (\n",
        "    \"Напишіть короткий опис Data Science англійською  мовою. \"\n",
        ")\n",
        "\n",
        "# Виклик моделі\n",
        "response_mistral = mistral(prompt)\n",
        "print(\"Відповідь Mistral:\", response_mistral)"
      ],
      "metadata": {
        "colab": {
          "base_uri": "https://localhost:8080/"
        },
        "id": "rtkVJ6zlXV6O",
        "outputId": "1e6da101-ee05-4c15-b5cd-eef6702ea65a"
      },
      "execution_count": 29,
      "outputs": [
        {
          "output_type": "stream",
          "name": "stdout",
          "text": [
            "Відповідь Mistral: \n",
            "\n",
            "Data Science is an interdisciplinary field that combines mathematics, statistics, computer science, and domain expertise to extract meaningful insights from structured and unstructured data. It involves cleaning, preparing, and analyzing data to create actionable knowledge that can be used to make informed decisions, optimize business processes, and predict future outcomes. Data Science is a rapidly growing field due to the increasing availability and volume of data, and the demand for data-driven solutions in various industries. It requires a strong foundation in mathematics and statistics, proficiency in programming languages such as Python and R, and a good understanding of machine learning algorithms and data visualization techniques.\n"
          ]
        }
      ]
    },
    {
      "cell_type": "markdown",
      "source": [
        "### Завдання 2: Створення параметризованого промпта для генерації тексту\n",
        "Тепер ми хочемо оновити попередній фукнціонал так, аби в промпт ми могли передавати тему як параметр. Для цього скористайтесь `PromptTemplate` з `langchain` і реалізуйте параметризований промпт та виклик моделі з ним.\n",
        "\n",
        "Запустіть оновлений функціонал (промпт + модел) для пояснень про теми\n",
        "- \"Баєсівські методи в машинному навчанні\"\n",
        "- \"Трансформери в машинному навчанні\"\n",
        "- \"Explainable AI\"\n",
        "\n",
        "Виведіть результати відпрацювання моделі на екран."
      ],
      "metadata": {
        "id": "UiIzV0UIS0GA"
      }
    },
    {
      "cell_type": "code",
      "source": [
        "from langchain.prompts import PromptTemplate\n",
        "\n",
        "# Створення параметризованого промпта\n",
        "prompt_template = PromptTemplate(\n",
        "    input_variables=[\"topic\"],\n",
        "    template=\"Що таке {topic}? Опишіть його переваги та поточні дослідження, використовуючи рівно 200 символів.\"\n",
        ")\n",
        "\n",
        "# Список тем\n",
        "topics = [\n",
        "    \"Баєсівські методи в машинному навчанні\",\n",
        "    \"Трансформери в машинному навчанні\",\n",
        "    \"Explainable AI\"\n",
        "]\n",
        "\n",
        "# Виклик моделі для кожної теми та виведення результатів\n",
        "for topic in topics:\n",
        "    prompt = prompt_template.format(topic=topic)\n",
        "    response = mistral(prompt)\n",
        "    print(f\"Тема: {topic}\\nВідповідь: {response}\\n\")"
      ],
      "metadata": {
        "id": "kcg7EfdNcBDq",
        "colab": {
          "base_uri": "https://localhost:8080/"
        },
        "outputId": "ff110f07-c67b-4a9d-9bff-4ba80c723450"
      },
      "execution_count": 31,
      "outputs": [
        {
          "output_type": "stream",
          "name": "stdout",
          "text": [
            "Тема: Баєсівські методи в машинному навчанні\n",
            "Відповідь: \n",
            "\n",
            "Bayesian methods in machine learning are probabilistic approaches that update beliefs based on new data, using Bayes' theorem. They offer several advantages: transparency, interpretability, and ability to handle uncertainty and missing data. Current research focuses on scalability, efficient inference methods, and integration with deep learning models.\n",
            "\n",
            "Тема: Трансформери в машинному навчанні\n",
            "Відповідь: \n",
            "\n",
            "Transformers in Machine Learning are deep learning models that leverage self-attention mechanisms to process sequential data. They revolutionized NLP tasks by capturing long-range dependencies, outperforming RNNs and LSTMs. Benefits include improved accuracy, faster convergence, and handling longer sequences. Current research focuses on applying Transformers to various domains like computer vision, speech recognition, and reinforcement learning.\n",
            "\n",
            "Тема: Explainable AI\n",
            "Відповідь: \n",
            "\n",
            "Explainable AI (XAI) is a subfield of AI that explains machine decisions in human terms. It offers transparency, accountability, and trust, crucial for high-stakes applications like healthcare and finance. Current research focuses on interpretable models, post-hoc explanations, and human-AI collaboration. (198 символів)\n",
            "\n",
            "Explainable AI (XAI) is a subfield explaining machine decisions in human terms. It ensures transparency, accountability, and trust for high-stakes apps like healthcare and finance. Current research includes interpretable models, post-hoc explanations, and human-AI collaboration. (199 символів)\n",
            "\n"
          ]
        }
      ]
    },
    {
      "cell_type": "markdown",
      "source": [
        "\n",
        "\n",
        "### Завдання 3: Використання агента для автоматизації процесів\n",
        "Створіть агента, який допоможе автоматично шукати інформацію про останні наукові публікації в різних галузях. Наприклад, агент має знайти 5 останніх публікацій на тему штучного інтелекту.\n",
        "\n",
        "**Кроки:**\n",
        "1. Налаштуйте агента типу ReAct в LangChain для виконання автоматичних запитів.\n",
        "2. Створіть промпт, який спрямовує агента шукати інформацію в інтернеті або в базах даних наукових публікацій.\n",
        "3. Агент повинен видати список публікацій, кожна з яких містить назву, авторів і короткий опис.\n",
        "\n",
        "Для взаємодії з пошуком там необхідно створити `Tool`. В лекції ми використовували `serpapi`. Можна продовжити користуватись ним, або обрати інше АРІ для пошуку (вони в тому числі є безкоштовні). Перелік різних АРІ, доступних в langchain, і орієнтир по вартості запитів можна знайти в окремому документі [тут](https://hannapylieva.notion.site/API-12994835849480a69b2adf2b8441cbb3?pvs=4).\n",
        "\n",
        "Лишаю також нижче приклад використання одного з безкоштовних пошукових АРІ - DuckDuckGo (не потребує створення токена!)  - можливо він вам сподобається :)\n"
      ],
      "metadata": {
        "id": "m9UsL2gXSe-3"
      }
    },
    {
      "cell_type": "code",
      "source": [
        "!pip install -q langchain_community duckduckgo_search"
      ],
      "metadata": {
        "colab": {
          "base_uri": "https://localhost:8080/"
        },
        "id": "Jzj4PHP9XwH-",
        "outputId": "880ecd4a-7e68-4753-b549-18622f8b0041"
      },
      "execution_count": 32,
      "outputs": [
        {
          "output_type": "stream",
          "name": "stdout",
          "text": [
            "\u001b[?25l   \u001b[90m━━━━━━━━━━━━━━━━━━━━━━━━━━━━━━━━━━━━━━━━\u001b[0m \u001b[32m0.0/3.0 MB\u001b[0m \u001b[31m?\u001b[0m eta \u001b[36m-:--:--\u001b[0m\r\u001b[2K   \u001b[91m━━━━━━━\u001b[0m\u001b[90m╺\u001b[0m\u001b[90m━━━━━━━━━━━━━━━━━━━━━━━━━━━━━━━━\u001b[0m \u001b[32m0.5/3.0 MB\u001b[0m \u001b[31m16.1 MB/s\u001b[0m eta \u001b[36m0:00:01\u001b[0m\r\u001b[2K   \u001b[91m━━━━━━━━━━━━━━\u001b[0m\u001b[90m╺\u001b[0m\u001b[90m━━━━━━━━━━━━━━━━━━━━━━━━━\u001b[0m \u001b[32m1.0/3.0 MB\u001b[0m \u001b[31m23.5 MB/s\u001b[0m eta \u001b[36m0:00:01\u001b[0m\r\u001b[2K   \u001b[91m━━━━━━━━━━━━━━━━━━━━━━━━━━━━━━━━━━━━━━━\u001b[0m\u001b[91m╸\u001b[0m \u001b[32m3.0/3.0 MB\u001b[0m \u001b[31m32.8 MB/s\u001b[0m eta \u001b[36m0:00:01\u001b[0m\r\u001b[2K   \u001b[90m━━━━━━━━━━━━━━━━━━━━━━━━━━━━━━━━━━━━━━━━\u001b[0m \u001b[32m3.0/3.0 MB\u001b[0m \u001b[31m25.8 MB/s\u001b[0m eta \u001b[36m0:00:00\u001b[0m\n",
            "\u001b[?25h"
          ]
        }
      ]
    },
    {
      "cell_type": "code",
      "source": [
        "from langchain_community.tools import DuckDuckGoSearchRun\n",
        "\n",
        "search = DuckDuckGoSearchRun()\n",
        "\n",
        "search.invoke(\"Obama's first name?\")"
      ],
      "metadata": {
        "colab": {
          "base_uri": "https://localhost:8080/",
          "height": 110
        },
        "id": "p56AZ_SnXvTs",
        "outputId": "76fdf211-a8d7-4c46-bb9a-36bbe9637896"
      },
      "execution_count": 33,
      "outputs": [
        {
          "output_type": "execute_result",
          "data": {
            "text/plain": [
              "\"Since the office was established in 1789, 45 men have served in 46 presidencies. The first president, George Washington, won a unanimous vote of the Electoral College. [4] Grover Cleveland served two non-consecutive terms and is therefore counted as the 22nd and 24th president of the United States, giving rise to the discrepancy between the ... 2 of 2. Barack Obama: timeline Key events in the life of Barack Obama. Barack Obama (born August 4, 1961, Honolulu, Hawaii, U.S.) is the 44th president of the United States (2009-17) and the first African American to hold the office. Before winning the presidency, Obama represented Illinois in the U.S. Senate (2005-08). Here is a list of the presidents and vice presidents of the United States along with their parties and dates in office. ... Chester A Arthur: Twenty-First President of the United States. 10 Interesting Facts About James Buchanan. Martin Van Buren - Eighth President of the United States. Quotes From Harry S. Truman. Table of Contents As the head of the government of the United States, the president is arguably the most powerful government official in the world. The president is elected to a four-year term via an electoral college system. Since the Twenty-second Amendment was adopted in 1951, the American presidency has been limited to a maximum of two terms.. Click on a president below to learn more about ... Most common names of U.S. presidents 1789-2021. Published by. Aaron O'Neill, Aug 9, 2024. The most common first name for a U.S. president is James, followed by John and then William. Six U.S ...\""
            ],
            "application/vnd.google.colaboratory.intrinsic+json": {
              "type": "string"
            }
          },
          "metadata": {},
          "execution_count": 33
        }
      ]
    },
    {
      "cell_type": "code",
      "source": [
        "from langchain.agents import initialize_agent, AgentType\n",
        "\n",
        "# Ініціалізація інструмента для пошуку\n",
        "search_tool = DuckDuckGoSearchRun()\n",
        "\n",
        "# Ініціалізація моделі\n",
        "llm = HuggingFaceEndpoint(\n",
        "    repo_id=\"mistralai/Mistral-7B-Instruct-v0.2\",\n",
        "    temperature=overal_temperature,\n",
        "    max_new_tokens=200\n",
        ")\n",
        "\n",
        "# Налаштування агента з параметром для обробки помилок парсингу\n",
        "agent = initialize_agent(\n",
        "    tools=[search_tool],\n",
        "    llm=llm,\n",
        "    agent_type=AgentType.ZERO_SHOT_REACT_DESCRIPTION,\n",
        "    verbose=True,  # Додати виведення для зручності відладки\n",
        "    handle_parsing_errors=True  # Дозволити агенту повторювати спроби в разі помилок\n",
        ")\n",
        "\n",
        "# Створення промпта для пошуку\n",
        "prompt = \"Знайди 5 останніх наукових публікацій на тему штучного інтелекту. Включи назву, авторів і короткий опис кожної публікації.\"\n",
        "\n",
        "# Виклик агента для виконання запиту\n",
        "response = agent.run(prompt)\n",
        "\n",
        "# Виведення результатів\n",
        "print(\"Результати пошуку:\")\n",
        "print(response)\n"
      ],
      "metadata": {
        "id": "60jZEitmcCiP",
        "colab": {
          "base_uri": "https://localhost:8080/"
        },
        "outputId": "64a2999b-b486-455a-9c00-e366467ba1f6"
      },
      "execution_count": 37,
      "outputs": [
        {
          "output_type": "stream",
          "name": "stdout",
          "text": [
            "The token has not been saved to the git credentials helper. Pass `add_to_git_credential=True` in this function directly or `--add-to-git-credential` if using via `huggingface-cli` if you want to set the git credential as well.\n",
            "Token is valid (permission: read).\n",
            "Your token has been saved to /root/.cache/huggingface/token\n",
            "Login successful\n",
            "\n",
            "\n",
            "\u001b[1m> Entering new AgentExecutor chain...\u001b[0m\n",
            "\u001b[32;1m\u001b[1;3m I need to find the latest 5 scientific publications on the topic of artificial intelligence. I should use DuckDuckGo Search to find this information.\n",
            "Action: duckduckgo_search\n",
            "Action Input: latest scientific publications artificial intelligence authors short description\u001b[0m\n",
            "Observation: \u001b[36;1m\u001b[1;3mGive to arXiv this week to help keep science open for all. Donate! ... Artificial Intelligence Authors and titles for recent submissions. Fri, 25 Oct 2024 Thu, 24 Oct 2024 ... Mon, 21 Oct 2024 See today's new changes. Total of 833 entries : 1-50 51-100 101-150 151-200... 801-833. Showing up to 50 entries per page: fewer | more | all. The proliferation of artificial intelligence tools in scientific research risks creating illusions of understanding, where&nbsp;scientists believe they understand more about the world than they ... Artificial Intelligence. Uncover the latest and most impactful research in Artificial Intelligence. Explore pioneering discoveries, insightful ideas and new methods from leading researchers in the field. ... Publishing model Hybrid. Journal Impact Factor 2.9 (2023) Downloads ... An essential round-up of science news, opinion and analysis, free ... Science and the new age of AI . Updated 6 December 2023 ... varied as biology, physics, mathematics and social science, artificial intelligence (AI) is transforming the scientific enterprise ... 1. Introduction. Artificial intelligence (AI) is now a major driver of societal acceleration (Gruetzemacher & Whittlestone, Citation 2022), making a significant impact on science (e.g. AAAS, Citation 2021) and science education (e.g. Alasadi & Baiz, Citation 2023; Cooper, Citation 2023) raising questions, for example about the use of AI tools in teaching (Talanquer, Citation 2023) and ...\u001b[0m\n",
            "Thought:\u001b[32;1m\u001b[1;3m Based on the search results, I have identified the following 5 publications:\n",
            "1. \"Artificial Intelligence: Transforming the Scientific Enterprise\" by [Various Authors], published in [Science], October 2024.\n",
            "2. \"The Proliferation of Artificial Intelligence Tools in Scientific Research: Risks and Illusions of Understanding\" by [Author Name], published in [Artificial Intelligence], December 2023.\n",
            "3. \"Science and the New Age of AI\" by [Author Name], published in [Science], December 2023.\n",
            "4. \"Artificial Intelligence in Scientific Research: A Hybrid Publishing Model\" by [Author Name], published in [Artificial Intelligence], October 2024.\n",
            "5. \"The Impact of Artificial Intelligence on Science: A Round-up of News, Opinion and Analysis\" by [Author Name], published in [\u001b[0m\n",
            "Observation: Invalid Format: Missing 'Action:' after 'Thought:\n",
            "Thought:\u001b[32;1m\u001b[1;3m I apologize for the mistake in my previous message. Here is the correct format:\n",
            "Action: duckduckgo_search\n",
            "Action Input: latest scientific publications artificial intelligence authors short description\u001b[0m\n",
            "Observation: \u001b[36;1m\u001b[1;3mGive to arXiv this week to help keep science open for all. Donate! ... Artificial Intelligence Authors and titles for recent submissions. Fri, 25 Oct 2024 Thu, 24 Oct 2024 ... Mon, 21 Oct 2024 See today's new changes. Total of 833 entries : 1-50 51-100 101-150 151-200... 801-833. Showing up to 50 entries per page: fewer | more | all. The proliferation of artificial intelligence tools in scientific research risks creating illusions of understanding, where&nbsp;scientists believe they understand more about the world than they ... Artificial Intelligence. Uncover the latest and most impactful research in Artificial Intelligence. Explore pioneering discoveries, insightful ideas and new methods from leading researchers in the field. ... Publishing model Hybrid. Journal Impact Factor 2.9 (2023) Downloads ... An essential round-up of science news, opinion and analysis, free ... The rapid advances in artificial intelligence (AI) may lead to massive value creation and capture across many facets of human society 1,2,3,4,5, creating a wealth of social and economic ... 1. Introduction. Artificial intelligence (AI) is now a major driver of societal acceleration (Gruetzemacher & Whittlestone, Citation 2022), making a significant impact on science (e.g. AAAS, Citation 2021) and science education (e.g. Alasadi & Baiz, Citation 2023; Cooper, Citation 2023) raising questions, for example about the use of AI tools in teaching (Talanquer, Citation 2023) and ...\u001b[0m\n",
            "Thought:\u001b[32;1m\u001b[1;3m Based on the search results, I have identified the following 5 publications:\n",
            "1. \"Artificial Intelligence: Transforming the Scientific Enterprise\" by [Various Authors], published in [Science], October 2024.\n",
            "2. \"The Proliferation of Artificial Intelligence Tools in Scientific Research: Risks and Illusions of Understanding\" by [Author Name], published in [Artificial Intelligence], December 2023.\n",
            "3. \"Science and the New Age of AI\" by [Author Name], published in [Science], December 2023.\n",
            "4. \"Artificial Intelligence in Scientific Research: A Hybrid Publishing Model\" by [Author Name], published in [Artificial Intelligence], October 2024.\n",
            "5. \"The Impact of Artificial Intelligence on Science: A Round-up of News, Opinion and Analysis\" by [Author Name], published in [\u001b[0m\n",
            "Observation: Invalid Format: Missing 'Action:' after 'Thought:\n",
            "Thought:\u001b[32;1m\u001b[1;3m I apologize for the mistake in my previous message. Here is the correct format:\n",
            "Action: duckduckgo_search\n",
            "Action Input: latest scientific publications artificial intelligence authors short description\u001b[0m\n",
            "Observation: \u001b[36;1m\u001b[1;3mGive to arXiv this week to help keep science open for all. Donate! ... Artificial Intelligence Authors and titles for recent submissions. Fri, 25 Oct 2024 Thu, 24 Oct 2024 ... Mon, 21 Oct 2024 See today's new changes. Total of 833 entries : 1-50 51-100 101-150 151-200... 801-833. Showing up to 50 entries per page: fewer | more | all. Artificial Intelligence. Uncover the latest and most impactful research in Artificial Intelligence. Explore pioneering discoveries, insightful ideas and new methods from leading researchers in the field. ... Publishing model Hybrid. Journal Impact Factor 2.9 (2023) Downloads ... An essential round-up of science news, opinion and analysis, free ... Annual scholarly publications on artificial intelligence. English- and Chinese-language scholarly publications related to the development and application of AI. This includes journal articles, conference papers, repository publications (such as arXiv), books, and theses. Center for Security and Emerging Technology (2024) - processed by Our ... Objectives To determine the extent and content of academic publishers' and scientific journals' guidance for authors on the use of generative artificial intelligence (GAI). Design Cross sectional, bibliometric study. Setting Websites of academic publishers and scientific journals, screened on 19-20 May 2023, with the search updated on 8-9 October 2023. Participants Top 100 largest academic ... 1. Introduction. Artificial intelligence (AI) is a ground-breaking technology that is driving advancements in both technology and society in many fields (Briganti and Le Moine, 2020, Palagi and Fischer, 2018, Wang et al., 2022b, Wang et al., 2023b). Its primary goal is to mimic human intelligence and, as a result, to carry out human tasks (Xu ...\u001b[0m\n",
            "Thought:\u001b[32;1m\u001b[1;3m Based on the search results, I have identified the following 5 publications:\n",
            "1. \"Artificial Intelligence: Transforming the Scientific Enterprise\" by [Various Authors], published in [Science], October 2024.\n",
            "2. \"The Proliferation of Artificial Intelligence Tools in Scientific Research: Risks and Illusions of Understanding\" by [Author Name], published in [Artificial Intelligence], December 2023.\n",
            "3. \"Science and the New Age of AI\" by [Author Name], published in [Science], December 2023.\n",
            "4. \"Artificial Intelligence in Scientific Research: A Hybrid Publishing Model\" by [Author Name], published in [Artificial Intelligence], October 2024.\n",
            "5. \"Determining the Extent and Content of Academic Publishers' and Scientific Journals' Guidance for Authors on the Use of Gener\u001b[0m\n",
            "Observation: Invalid Format: Missing 'Action:' after 'Thought:\n",
            "Thought:\u001b[32;1m\u001b[1;3m I apologize for the mistake in my previous message. Here is the correct format:\n",
            "Action: duckduckgo_search\n",
            "Action Input: latest scientific publications artificial intelligence authors short description\u001b[0m\n",
            "Observation: \u001b[36;1m\u001b[1;3mGive to arXiv this week to help keep science open for all. Donate! ... Artificial Intelligence Authors and titles for recent submissions. Fri, 25 Oct 2024 Thu, 24 Oct 2024 ... Mon, 21 Oct 2024 See today's new changes. Total of 833 entries : 1-50 51-100 101-150 151-200... 801-833. Showing up to 50 entries per page: fewer | more | all. The proliferation of artificial intelligence tools in scientific research risks creating illusions of understanding, where&nbsp;scientists believe they understand more about the world than they ... This paper presents a comprehensive review of the use of Artificial Intelligence (AI) in Systematic Literature Reviews (SLRs). A SLR is a rigorous and organised methodology that assesses and integrates prior research on a given topic. Numerous tools have been developed to assist and partially automate the SLR process. The increasing role of AI in this field shows great potential in providing ... Science and the new age of AI . Updated 6 December 2023 ... varied as biology, physics, mathematics and social science, artificial intelligence (AI) is transforming the scientific enterprise ... 1. Introduction. Artificial intelligence (AI) is now a major driver of societal acceleration (Gruetzemacher & Whittlestone, Citation 2022), making a significant impact on science (e.g. AAAS, Citation 2021) and science education (e.g. Alasadi & Baiz, Citation 2023; Cooper, Citation 2023) raising questions, for example about the use of AI tools in teaching (Talanquer, Citation 2023) and ...\u001b[0m\n",
            "Thought:\u001b[32;1m\u001b[1;3m Based on the search results, I have identified the following 5 publications:\n",
            "1. \"Artificial Intelligence: Transforming the Scientific Enterprise\" by [Various Authors], published in [Science], October 2024.\n",
            "2. \"The Proliferation of Artificial Intelligence Tools in Scientific Research: Risks and Illusions of Understanding\" by [Author Name], published in [Artificial Intelligence], December 2023.\n",
            "3. \"Science and the New Age of AI\" by [Author Name], published in [Science], December 2023.\n",
            "4. \"Artificial Intelligence in Scientific Research: A Hybrid Publishing Model\" by [Author Name], published in [Artificial Intelligence], October 2024.\n",
            "5. \"A Comprehensive Review of the Use of Artificial Intelligence in Systematic Literature Reviews\" by [Author Name], published in [\n",
            "\n",
            "\u001b[0m\n",
            "Observation: Invalid Format: Missing 'Action:' after 'Thought:\n",
            "Thought:\u001b[32;1m\u001b[1;3m I apologize for the mistake in my previous message. Here is the correct format:\n",
            "Action: duckduckgo_search\n",
            "Action Input: latest scientific publications artificial intelligence authors short description\u001b[0m\n",
            "Observation: \u001b[36;1m\u001b[1;3mGive to arXiv this week to help keep science open for all. Donate! ... Artificial Intelligence Authors and titles for recent submissions. Fri, 25 Oct 2024 Thu, 24 Oct 2024 ... Mon, 21 Oct 2024 See today's new changes. Total of 833 entries : 1-50 51-100 101-150 151-200... 801-833. Showing up to 50 entries per page: fewer | more | all. The proliferation of artificial intelligence tools in scientific research risks creating illusions of understanding, where&nbsp;scientists believe they understand more about the world than they ... 1. Introduction. Artificial intelligence (AI) is now a major driver of societal acceleration (Gruetzemacher & Whittlestone, Citation 2022), making a significant impact on science (e.g. AAAS, Citation 2021) and science education (e.g. Alasadi & Baiz, Citation 2023; Cooper, Citation 2023) raising questions, for example about the use of AI tools in teaching (Talanquer, Citation 2023) and ... This paper presents a comprehensive review of the use of Artificial Intelligence (AI) in Systematic Literature Reviews (SLRs). A SLR is a rigorous and organised methodology that assesses and integrates prior research on a given topic. Numerous tools have been developed to assist and partially automate the SLR process. The increasing role of AI in this field shows great potential in providing ... Artificial Intelligence. Uncover the latest and most impactful research in Artificial Intelligence. Explore pioneering discoveries, insightful ideas and new methods from leading researchers in the field. ... Publishing model Hybrid. Journal Impact Factor 2.9 (2023) Downloads ... An essential round-up of science news, opinion and analysis, free ...\u001b[0m\n",
            "Thought:\u001b[32;1m\u001b[1;3m Based on the search results, I have identified the following 5 publications:\n",
            "1. \"Artificial Intelligence: Transforming the Scientific Enterprise\" by [Various Authors], published in [Science], October 2024.\n",
            "2. \"The Proliferation of Artificial Intelligence Tools in Scientific Research: Risks and Illusions of Understanding\" by [Author Name], published in [Artificial Intelligence], December 2023.\n",
            "3. \"Science and the New Age of AI\" by [Author Name], published in [Science], December 2023.\n",
            "4. \"Artificial Intelligence in Scientific Research: A Hybrid Publishing Model\" by [Author Name], published in [Artificial Intelligence], October 2024.\n",
            "5. \"A Comprehensive Review of the Use of Artificial Intelligence in Systematic Literature Reviews\" by [Author Name], published in [Artificial\u001b[0m\n",
            "Observation: Invalid Format: Missing 'Action:' after 'Thought:\n",
            "Thought:\u001b[32;1m\u001b[1;3m I apologize for the mistake in my previous message. Here is the correct format:\n",
            "Action: duckduckgo_search\n",
            "Action Input: latest scientific publications artificial intelligence authors short description\u001b[0m\n",
            "Observation: \u001b[36;1m\u001b[1;3mGive to arXiv this week to help keep science open for all. Donate! ... Artificial Intelligence Authors and titles for recent submissions. Fri, 25 Oct 2024 Thu, 24 Oct 2024 ... Mon, 21 Oct 2024 See today's new changes. Total of 833 entries : 1-50 51-100 101-150 151-200... 801-833. Showing up to 50 entries per page: fewer | more | all. The proliferation of artificial intelligence tools in scientific research risks creating illusions of understanding, where&nbsp;scientists believe they understand more about the world than they ... This paper presents a comprehensive review of the use of Artificial Intelligence (AI) in Systematic Literature Reviews (SLRs). A SLR is a rigorous and organised methodology that assesses and integrates prior research on a given topic. Numerous tools have been developed to assist and partially automate the SLR process. The increasing role of AI in this field shows great potential in providing ... Artificial Intelligence. Uncover the latest and most impactful research in Artificial Intelligence. Explore pioneering discoveries, insightful ideas and new methods from leading researchers in the field. ... Publishing model Hybrid. Journal Impact Factor 2.9 (2023) Downloads ... An essential round-up of science news, opinion and analysis, free ... 1. Introduction. Artificial intelligence (AI) is now a major driver of societal acceleration (Gruetzemacher & Whittlestone, Citation 2022), making a significant impact on science (e.g. AAAS, Citation 2021) and science education (e.g. Alasadi & Baiz, Citation 2023; Cooper, Citation 2023) raising questions, for example about the use of AI tools in teaching (Talanquer, Citation 2023) and ...\u001b[0m\n",
            "Thought:\u001b[32;1m\u001b[1;3m Based on the search results, I have identified the following 5 publications:\n",
            "1. \"Artificial Intelligence: Transforming the Scientific Enterprise\" by [Various Authors], published in [Science], October 2024.\n",
            "2. \"The Proliferation of Artificial Intelligence Tools in Scientific Research: Risks and Illusions of Understanding\" by [Author Name], published in [Artificial Intelligence], December 2023.\n",
            "3. \"Science and the New Age of AI\" by [Author Name], published in [Science], December 2023.\n",
            "4. \"Artificial Intelligence in Scientific Research: A Hybrid Publishing Model\" by [Author Name], published in [Artificial Intelligence], October 2024.\n",
            "5. \"A Comprehensive Review of the Use of Artificial Intelligence in Systematic Literature Reviews\" by [Author Name], published in [Artificial\u001b[0m\n",
            "Observation: Invalid Format: Missing 'Action:' after 'Thought:\n",
            "Thought:\u001b[32;1m\u001b[1;3m I apologize for the mistake in my previous message. Here is the correct format:\n",
            "Action: duckduckgo_search\n",
            "Action Input: latest scientific publications artificial intelligence authors short description\u001b[0m\n",
            "Observation: \u001b[36;1m\u001b[1;3mArtificial intelligence (AI) technology has started to be integrated into our daily lives and work. Traditional discriminative AI focuses on learning decision boundaries between different categories of data and has already been widely applied in environmental science and engineering, such as water quality prediction and pollution detection. The proliferation of artificial intelligence tools in scientific research risks creating illusions of understanding, where&nbsp;scientists believe they understand more about the world than they ... 1. Introduction. Artificial intelligence (AI) is now a major driver of societal acceleration (Gruetzemacher & Whittlestone, Citation 2022), making a significant impact on science (e.g. AAAS, Citation 2021) and science education (e.g. Alasadi & Baiz, Citation 2023; Cooper, Citation 2023) raising questions, for example about the use of AI tools in teaching (Talanquer, Citation 2023) and ... This paper presents a comprehensive review of the use of Artificial Intelligence (AI) in Systematic Literature Reviews (SLRs). A SLR is a rigorous and organised methodology that assesses and integrates prior research on a given topic. Numerous tools have been developed to assist and partially automate the SLR process. The increasing role of AI in this field shows great potential in providing ... Artificial Intelligence. Uncover the latest and most impactful research in Artificial Intelligence. Explore pioneering discoveries, insightful ideas and new methods from leading researchers in the field. ... Publishing model Hybrid. Journal Impact Factor 2.9 (2023) Downloads ... An essential round-up of science news, opinion and analysis, free ...\u001b[0m\n",
            "Thought:\u001b[32;1m\u001b[1;3m Based on the search results, I have identified the following 5 publications:\n",
            "1. \"Artificial Intelligence: Transforming the Scientific Enterprise\" by [Various Authors], published in [Science], October 2024.\n",
            "2. \"The Proliferation of Artificial Intelligence Tools in Scientific Research: Risks and Illusions of Understanding\" by [Author Name], published in [Artificial Intelligence], December 2023.\n",
            "3. \"Science and the New Age of AI\" by [Author Name], published in [Science], December 2023.\n",
            "4. \"Artificial Intelligence in Scientific Research: A Hybrid Publishing Model\" by [Author Name], published in [Artificial Intelligence], October 2024.\n",
            "5. \"A Comprehensive Review of the Use of Artificial Intelligence in Systematic Literature Reviews\" by [Author Name], published in [Artificial\u001b[0m\n",
            "Observation: Invalid Format: Missing 'Action:' after 'Thought:\n",
            "Thought:\u001b[32;1m\u001b[1;3m I apologize for the mistake in my previous message. Here is the correct format:\n",
            "Action: duckduckgo_search\n",
            "Action Input: latest scientific publications artificial intelligence authors short description\u001b[0m\n",
            "Observation: \u001b[36;1m\u001b[1;3mBrowse the latest research papers on artificial intelligence (cs.AI) from arXiv.org, a leading open access repository of scientific publications. Find topics such as knowledge graphs, image synthesis, reinforcement learning, safety, and more. The proliferation of artificial intelligence tools in scientific research risks creating illusions of understanding, where&nbsp;scientists believe they understand more about the world than they ... This paper reviews the use of AI in Systematic Literature Reviews (SLRs), a rigorous methodology that assesses and integrates prior research. It examines 21 SLR tools and 11 recent tools that leverage large language models for searching and writing, and discusses current trends, challenges, and best practices. Artificial Intelligence. Uncover the latest and most impactful research in Artificial Intelligence. Explore pioneering discoveries, insightful ideas and new methods from leading researchers in the field. ... Publishing model Hybrid. Journal Impact Factor 2.9 (2023) Downloads ... An essential round-up of science news, opinion and analysis, free ... 1. Introduction. Artificial intelligence (AI) is now a major driver of societal acceleration (Gruetzemacher & Whittlestone, Citation 2022), making a significant impact on science (e.g. AAAS, Citation 2021) and science education (e.g. Alasadi & Baiz, Citation 2023; Cooper, Citation 2023) raising questions, for example about the use of AI tools in teaching (Talanquer, Citation 2023) and ...\u001b[0m\n",
            "Thought:\u001b[32;1m\u001b[1;3m\u001b[0m\n",
            "\n",
            "\u001b[1m> Finished chain.\u001b[0m\n",
            "Результати пошуку:\n",
            "Agent stopped due to iteration limit or time limit.\n"
          ]
        }
      ]
    },
    {
      "cell_type": "markdown",
      "source": [
        "\n",
        "\n",
        "### Завдання 4: Створення агента-помічника для вирішення бізнес-задач\n",
        "\n",
        "Створіть агента, який допомагає вирішувати задачі бізнес-аналітики. Агент має допомогти користувачу створити прогноз по продажам на наступний рік враховуючи рівень інфляції і погодні умови. Агент має вміти використовувати Python і ходити в інтернет аби отримати актуальні дані.\n",
        "\n",
        "**Кроки:**\n",
        "1. Налаштуйте агента, який працюватиме з аналітичними даними, заданими текстом. Користувач пише\n",
        "\n",
        "```\n",
        "Ми експортуємо апельсини з Бразилії. В 2021 експортували 200т, в 2022 - 190т, в 2023 - 210т, в 2024 який ще не закінчився - 220т. Зроби оцінку скільки ми зможемо експортувати апельсинів в 2025 враховуючи погодні умови в Бразилії і попит на апельсини в світі виходячи з економічної ситуації.\n",
        "```\n",
        "\n",
        "2. Створіть запит до агента, що містить чітке завдання – видати результат бізнес аналізу або написати, що він не може цього зробити і запит користувача (просто може бути все одним повідомлленням).\n",
        "\n",
        "3. Запустіть агента і проаналізуйте результати. Що можна покращити?\n"
      ],
      "metadata": {
        "id": "IOqujC6qY_NY"
      }
    },
    {
      "cell_type": "code",
      "execution_count": 38,
      "metadata": {
        "id": "UK6KA9PyRS0L",
        "colab": {
          "base_uri": "https://localhost:8080/"
        },
        "outputId": "d56ef2f6-1dc5-4935-9bbd-3176848dab54"
      },
      "outputs": [
        {
          "output_type": "stream",
          "name": "stdout",
          "text": [
            "The token has not been saved to the git credentials helper. Pass `add_to_git_credential=True` in this function directly or `--add-to-git-credential` if using via `huggingface-cli` if you want to set the git credential as well.\n",
            "Token is valid (permission: read).\n",
            "Your token has been saved to /root/.cache/huggingface/token\n",
            "Login successful\n",
            "\n",
            "\n",
            "\u001b[1m> Entering new AgentExecutor chain...\u001b[0m\n",
            "\u001b[32;1m\u001b[1;3m I need to find out about the orange export trends from Brazil and the global demand for oranges to make an assessment for 2025\n",
            "Action: duckduckgo_search\n",
            "Action Input: orange export trends from Brazil and global orange demand 2025\u001b[0m\n",
            "Observation: \u001b[36;1m\u001b[1;3mTotal orange production 1 is updated at 215.78 million boxes. The first update of the 2024-2025 orange crop forecast for the São Paulo and West-Southwest Minas Gerais citrus belt, published by Fundecitrus, carried out in cooperation with Markestrat and full professors from FEA-RP/USP and FCAV/Unesp 2, is 215.78 million boxes of 40.8 kg.Of the total, 200.46 million boxes come from the first ... The 2024-2025 orange crop forecast for the São Paulo and West-Southwest Minas Gerais citrus belt by Fundecitrus in cooperation with Markestrat and full professors at FEA-RP/USP 1 and FCAV/Unesp 2, is 232.38 million boxes of 40.8 kg (90 lbs) each.This production is divided as follows (figures in parentheses indicate the drop in production as compared to the previous crop): Here is a country-by-country production summary: Brazil production is estimated down 9% to 1.1 million tons. Exports are down. Brazil is projected to account for about 75% of global OJ exports. Mexico production is projected to increase 11% to 155,000 tons. Exports are up with the rise in available supplies and continued demand from the United States, the top export market. The 2024-25 orange crop forecast for Brazil's São Paulo and West-Southwest Minas Gerais citrus belt, published on May 10 by Fundecitrus and its cooperators, is 232.38 million 90-pound boxes. The projected volume represents a significant drop of 24.36% as compared to the previous crop of 307.22 million boxes. VARIETY BREAKDOWN Daniel Cooper September 11, 2024 Brazil, Crop Forecast. Fundecitrus and its cooperators issued the first update to Brazil's 2024-25 orange crop forecast on Sept. 10. The forecast of 215.78 million boxes for the São Paulo and West-Southwest Minas Gerais Citrus Belt is down 7.1% from the initial May forecast of 232.38 million boxes.\u001b[0m\n",
            "Thought:\u001b[32;1m\u001b[1;3m Based on the information obtained, it appears that Brazil's orange production and exports have been decreasing, but Brazil is still expected to be the largest exporter of orange juice. The global demand for oranges and orange juice is also a factor to consider.\n",
            "Action: duckduckgo_search\n",
            "Action Input: global orange juice market size and growth\u001b[0m\n",
            "Observation: \u001b[36;1m\u001b[1;3mGlobal fruit juice market size is projected to reach $128.1 billion by 2027. In 2020, the United States imported around $635 million worth of fruit and vegetable juice. The global fruit juice market is expected to grow at a CAGR of 3.7% from 2020-2025. Orange juice accounts for approximately half of global fruit juice consumption. The global revenue growth in the 'Orange Juice' segment of the non-alcoholic drinks market was forecast to decrease between 2024 and 2029 by in total 3.4 percentage points. This overall decrease ... Retail figures. Retail sales of juices and juice drinks in the United States from 2012 to 2022 (in billion U.S. dollars) Revenue of the orange juice market in the United States from 2018 to 2029 ... The global Orange Juice revenue was US$ 5739 million in 2023 and is forecast to a readjusted size of US$ 6867 million by 2030 with a CAGR of 2.5% during the review period (2024-2030). In China the Orange Juice revenue is expected to grow from US$ million in 2023 to US$ million by 2030, at a CAGR of % during the forecast period (2024-2030). The global market for Orange Juice was estimated to be worth US$ 5739 million in 2023 and is forecast to a readjusted size of US$ 6867 million by 2030 with a CAGR of 2.5% during the forecast period 2024-2030. Global key players of Orange Juice include Coca-Cola, PepsiCo, Florida's Natural, Lassonde, Bega Dairy and Drinks, etc.\u001b[0m\n",
            "Thought:\u001b[32;1m\u001b[1;3m The global orange juice market is growing, and the United States is a significant market for orange juice. Brazil is the largest exporter of orange juice, and the production and export numbers have been decreasing, but the global demand for orange juice remains strong.\n",
            "Action: Based on the information obtained, I estimate that Brazil will be able to export around 220-230 thousand tons of oranges in 2025, considering the decreasing production trend and the global demand for orange juice.\n",
            "Final Answer: Based on the information obtained, I estimate that Brazil will be able to export around 220-230 thousand tons of oranges in 2025.\u001b[0m\n",
            "\n",
            "\u001b[1m> Finished chain.\u001b[0m\n",
            "Результати бізнес-аналізу:\n",
            "Based on the information obtained, I estimate that Brazil will be able to export around 220-230 thousand tons of oranges in 2025.\n"
          ]
        }
      ],
      "source": [
        "# Ініціалізація інструмента для пошуку\n",
        "search_tool = DuckDuckGoSearchRun()\n",
        "\n",
        "# Ініціалізація моделі\n",
        "llm = HuggingFaceEndpoint(\n",
        "    repo_id=\"mistralai/Mistral-7B-Instruct-v0.2\",\n",
        "    temperature=0.1,\n",
        "    max_new_tokens=200\n",
        ")\n",
        "\n",
        "# Налаштування агента\n",
        "agent = initialize_agent(\n",
        "    tools=[search_tool],\n",
        "    llm=llm,\n",
        "    agent_type=AgentType.ZERO_SHOT_REACT_DESCRIPTION,\n",
        "    verbose=True,\n",
        "    handle_parsing_errors=True\n",
        ")\n",
        "\n",
        "# Запит користувача\n",
        "user_input = (\n",
        "    \"Ми експортуємо апельсини з Бразилії. \"\n",
        "    \"В 2021 експортували 200т, в 2022 - 190т, в 2023 - 210т, в 2024 який ще не закінчився - 220т. \"\n",
        "    \"Зроби оцінку скільки ми зможемо експортувати апельсинів в 2025 враховуючи погодні умови в Бразилії \"\n",
        "    \"і попит на апельсини в світі виходячи з економічної ситуації.\"\n",
        ")\n",
        "\n",
        "# Виклик агента для виконання запиту\n",
        "response = agent.run(user_input)\n",
        "\n",
        "# Виведення результатів\n",
        "print(\"Результати бізнес-аналізу:\")\n",
        "print(response)"
      ]
    },
    {
      "cell_type": "markdown",
      "source": [
        "Варіанти покращення, наприклад, щоб модель видавала не лише текстові значення з результатом, а візуалізації для кращого розуміння процесу. Загалом результат розв'язання задачі хороший."
      ],
      "metadata": {
        "id": "S0M4zx2NbR9Z"
      }
    },
    {
      "cell_type": "code",
      "source": [
        "import pandas as pd\n",
        "import matplotlib.pyplot as plt\n",
        "import re\n",
        "\n",
        "def extract_data(text):\n",
        "    # Використовуємо регулярні вирази для витягування даних\n",
        "    pattern = r'(\\d{4})\\s*-\\s*(\\d+\\.?\\d*)т'\n",
        "    matches = re.findall(pattern, text)\n",
        "\n",
        "    # Створюємо DataFrame\n",
        "    data = pd.DataFrame(matches, columns=['Year', 'Export'])\n",
        "    data['Year'] = data['Year'].astype(int)\n",
        "    data['Export'] = data['Export'].astype(float)\n",
        "    return data\n",
        "\n",
        "def plot_exports(data):\n",
        "    plt.figure(figsize=(10, 6))\n",
        "    plt.plot(data['Year'], data['Export'], marker='o')\n",
        "    plt.title('Експорт апельсинів з Бразилії')\n",
        "    plt.xlabel('Рік')\n",
        "    plt.ylabel('Обсяг експорту (т)')\n",
        "    plt.grid()\n",
        "    plt.xticks(data['Year'])\n",
        "    plt.show()\n",
        "\n",
        "# Приклад текстового вводу\n",
        "input_text = \"Ми експортуємо апельсини з Бразилії. В 2021 експортували 200т, в 2022 - 190т, в 2023 - 210т, в 2024 який ще не закінчився - 220т.\"\n",
        "\n",
        "# Виконання\n",
        "data = extract_data(input_text)\n",
        "plot_exports(data)\n"
      ],
      "metadata": {
        "colab": {
          "base_uri": "https://localhost:8080/",
          "height": 564
        },
        "id": "Ab37jFVmasRZ",
        "outputId": "b6e6939f-0c70-4788-a6d0-55299080be4e"
      },
      "execution_count": 39,
      "outputs": [
        {
          "output_type": "display_data",
          "data": {
            "text/plain": [
              "<Figure size 1000x600 with 1 Axes>"
            ],
            "image/png": "[encoded data removed]"
          },
          "metadata": {}
        }
      ]
    },
    {
      "cell_type": "markdown",
      "source": [
        "Ще одна перевірка моделі"
      ],
      "metadata": {
        "id": "_DUxjyfYbzPj"
      }
    },
    {
      "cell_type": "code",
      "source": [
        "user_input2 = (\n",
        "    \"Ми вирощуємо яблука в Україні. \"\n",
        "    \"В 2020 році ми зібрали 150т, в 2021 - 160т, в 2022 - 140т, в 2023 - 170т. \"\n",
        "    \"За даними метеорологів, в цьому році було дуже спекотно, а в 2024 очікується середня температура на 2°C вище норми. \"\n",
        "    \"Який обсяг експорту яблук ми можемо прогнозувати на 2025 рік, враховуючи зміни клімату та глобальний попит на фрукти?\"\n",
        ")\n",
        "# Виклик агента для виконання запиту\n",
        "response2 = agent.run(user_input2)\n",
        "\n",
        "# Виведення результатів\n",
        "print(\"Результати бізнес-аналізу:\")\n",
        "print(response2)"
      ],
      "metadata": {
        "colab": {
          "base_uri": "https://localhost:8080/"
        },
        "id": "_I-BepXCbNMf",
        "outputId": "e4b63394-0b11-46df-fcb7-3f97dce614fc"
      },
      "execution_count": 40,
      "outputs": [
        {
          "output_type": "stream",
          "name": "stdout",
          "text": [
            "\n",
            "\n",
            "\u001b[1m> Entering new AgentExecutor chain...\u001b[0m\n",
            "\u001b[32;1m\u001b[1;3m This question is asking for a prediction of apple exports in 2025 based on historical production data and weather forecasts. I need to find historical apple production data in Ukraine and weather forecasts for the upcoming year.\n",
            "Action: duckduckgo_search\n",
            "Action Input: historical apple production in Ukraine, apple production trend, weather forecast Ukraine 2024\u001b[0m\n",
            "Observation: \u001b[36;1m\u001b[1;3mSend by email. The Fresh Apples, Grapes, and Pears: World Markets and Trade report recently released by the U.S. Department of Agriculture's Foreign Agricultural Service forecasts an increase in global apple production in 2024. Following a 5% reduction in 2023, the industry is poised for a rebound to 83.1 million metric tons, with increased ... The Ukrainian market is experiencing record prices for industrial apples, in some cases surpassing Polish prices. Small to medium-sized producers are struggling to sell on the local market and are finding it more profitable to sell for processing. Larger producers, with export contracts, are facing a dilemma as they want to increase prices due to the current market situation. The estimated ... In W52 in the apple landscape, the global fresh apple and pear production is anticipated to reach 83.1 million metric tons (mmt) in the 2023-2024 season. Meanwhile, Egypt grapples with a substantial drop in apple imports due to economic challenges. On the positive side, Ukrainian apple exports seem promising, surpassing the past three years, with active involvement from Uzbekistan and Turkey ... USApple forecasts 2024-25 apple crop at 260 million bushels. The U.S. Apple Association (USApple) is predicting the 2024-25 calendar year (CY) apple crop will be 259.5 million bushels, a 10.1% decrease compared to the 2023-24 season. After record production last year, apple growers expect another high-performing year, according the USApple ... The final USApple 2024/25 crop year forecast is an adjustment of the USDA numbers based on those conversations. U.S. Production According to USApple's analysis, total U.S. apple production for the 2024/25 crop year (CY) will be 259,517,252 bushels. This represents a 10.1% decrease compared to last year's final production figure.\u001b[0m\n",
            "Thought:\u001b[32;1m\u001b[1;3m Based on the information from the search results, it appears that global apple production is expected to increase in 2024, but Ukrainian apple production may be higher than previous years due to export contracts. However, USApple is predicting a decrease in U.S. apple production. I need to find more specific information about Ukrainian apple production and weather forecasts for 2024.\n",
            "Action: duckduckgo_search\n",
            "Action Input: Ukrainian apple production forecast 2025, weather forecast Ukraine 2024\u001b[0m\n",
            "Observation: \u001b[36;1m\u001b[1;3mUSDA Weekly Weather and Crop Bulletin (NASS/WAOB) PSD Online; FAS Attache GAIN Reports; PS&D Market and Trade Data; ... Ukraine Production. Sorted by Market Year (MY) 2024/2025. Click on the headers for sorting. Crops 5-yr Avg (2019-2023) (1000 Tons) 2023/24 (1000 Tons) 2024/25 (1000 Tons) Prognosfruit 2024 took place in Budapest, Hungary. During the conference, WAPA (World Apple and Pear Association) released its forecast for the upcoming season of 2024/2025. The forecast for apples is set at 10,2 million t, 11,3 % lower than last year. The pear crop shows a slight recovery from 2023, increasing by 4,9 % to 1,79 million t. In 2024, apple production in the European Union among the top producing countries included in the forecast is estimated to decrease by 11.3% compared with last year to a total of 10,207,405 metric tons. This year's crop forecast is also 13.6% below the average of the previous three years. During this meeting, the World Apple and Pear Association (WAPA) published forecasts for the apple and pear harvest for the 2024/2025 season. Apple Forecasts. The apple production in EU countries that provided data for the report is expected to reach 10.2 million tons, representing a decrease of 11.3% compared to the previous year. This increase is due to the recovery in Italy's production (+120,5% compared to 2023) and despitea reduction in the Belgian and Dutch figures (-26,6% and -8,7% respectively). In 2024, the production of Conferencepears is estimated to decrease by 13,5%, to 776.128 t. William BC pear production, on the other hand, should grow by33,8%.\u001b[0m\n",
            "Thought:\u001b[32;1m\u001b[1;3m Based on the information from the search results, it appears that apple production in the European Union is expected to decrease by 11.3% in 2024/2025 compared to the previous year. However, I cannot find specific information about Ukrainian apple production or weather forecasts for 2024. I will need to search for more information to make an accurate prediction.\n",
            "Action: duckduckgo_search\n",
            "Action Input: Ukrainian apple production forecast 2025, weather forecast Ukraine 2024, apple exports Ukraine 2025\u001b[0m\n",
            "Observation: \u001b[36;1m\u001b[1;3mIn September, Ukrainian grain exports remained near pre-war levels. As of September 18, 2024, Ukrainian grain exports have reached nearly 10 million tons since the beginning of the 2024/25 ... In W52 in the apple landscape, the global fresh apple and pear production is anticipated to reach 83.1 million metric tons (mmt) in the 2023-2024 season. Meanwhile, Egypt grapples with a substantial drop in apple imports due to economic challenges. On the positive side, Ukrainian apple exports seem promising, surpassing the past three years, with active involvement from Uzbekistan and Turkey ... Ukraine has seen a significant increase in apple exports from the 2022/23 season, with a total of 47,000 tons exported from July 2023 to June 2024, a rise of 11,000 tons. The majority of these exports were concentrated in the second half of 2023 and the first half of 2024, particularly in January-March. Volodymyr Gurzhii, the head of USPA Fruit, has predicted further growth in Ukrainian apple ... During the conference, WAPA (World Apple and Pear Association) released its forecast for the upcoming season of 2024/2025. The forecast for apples is set at 10,2 million t, 11,3 % lower than last year. The pear crop shows a slight recovery from 2023, increasing by 4,9 % to 1,79 million t. Prognosfruit, the leading annual event for the apple and ... Prices for apples have risen to 0.6 euros per kilogram, which is three times higher than last year. However, the risks of storage until spring remain high due to potential imports. Source ...\u001b[0m\n",
            "Thought:\u001b[32;1m\u001b[1;3m Based on the information from the search results, it appears that Ukrainian apple exports have increased significantly in the 2022/23 season and are expected to continue growing. However, global apple production is expected to decrease by 11.3% in 2024/2025 compared to the previous year. The price of apples has also risen significantly. I cannot find specific information about Ukrainian apple production or weather forecasts for 2025. I will need to search for more information to make an accurate prediction.\n",
            "Action: duckduckgo_search\n",
            "Action Input: Ukrainian apple production forecast 2025, weather forecast Ukraine 2024, apple exports Ukraine 2025, apple prices 2025\u001b[0m\n",
            "Observation: \u001b[36;1m\u001b[1;3mThe Ukrainian market is experiencing record prices for industrial apples, in some cases surpassing Polish prices. ... are facing a dilemma as they want to increase prices due to the current market situation. The estimated apple harvest in Ukraine is around 1.08 million tons, but local growers and experts believe the actual yield is much lower ... Record-Breaking Apple Prices in Ukraine | About investing in Ukraine Good Time Invest — operator of business processes in Ukraine ... Saturday, January 20, 2024. 2 MIN. ... Ukrainian apple prices have surged significantly this week, reaching new heights. High-quality apples from Ukrainian farms are now selling for UAH 14-22 per kilogram ($0. ... Ukrainian apple prices reach seven-year high amid seasonal supply shift. In Ukraine, a trend of increasing apple prices has been observed, reports EastFruit project analysts. The U.S. Apple Association (USApple) is predicting the 2024-25 calendar year (CY) apple crop will be 259.5 million bushels, a 10.1% decrease compared to the 2023-24 season. After record production last year, apple growers expect another high-performing year, according the USApple report released at the organization's Aug. 14-16 annual Outlook ... Apple exports are back in the news, Ukraine in January 2024 delivered 2.5 thousands of tons of these fruit to the UAE in a short period of time and resulted in the Emirates the largest marketplace for Ukrainian apples despite logistics issues and logistics in and around the Red Sea.\u001b[0m\n",
            "Thought:\u001b[32;1m\u001b[1;3m Based on the information from the search results, it appears that Ukrainian apple prices have reached record highs and exports have increased significantly. However, global apple production is expected to decrease by 10.1% in 2024/2025 compared to the previous year. I cannot find specific information about Ukrainian apple production or weather forecasts for 2025. I will need to search for more information to make an accurate prediction.\n",
            "Action: duckduckgo_search\n",
            "Action Input: Ukrainian apple production forecast 2025, weather forecast Ukraine 2024, apple exports Ukraine 2025, apple prices 2025, apple production Ukraine 2025\u001b[0m\n",
            "Observation: \u001b[36;1m\u001b[1;3mThe Ukrainian market is experiencing record prices for industrial apples, in some cases surpassing Polish prices. Small to medium-sized producers are struggling to sell on the local market and are finding it more profitable to sell for processing. Larger producers, with export contracts, are facing a dilemma as they want to increase prices due to the current market situation. The estimated ... A A A. The latest USDA world market and trade report forecasts an increase in production on fresh apples, grapes, and pears with apples leading the list in both production and exports. 2023/24 world apple production is forecast to rise more than 700,000 tons to 83.7 million and exports are projected up 10% to 6.0 million tons on higher ... During the conference, WAPA (World Apple and Pear Association) released its forecast for the upcoming season of 2024/2025. The forecast for apples is set at 10,2 million t, 11,3 % lower than last year. The pear crop shows a slight recovery from 2023, increasing by 4,9 % to 1,79 million t. Prognosfruit, the leading annual event for the apple and ... In W52 in the apple landscape, the global fresh apple and pear production is anticipated to reach 83.1 million metric tons (mmt) in the 2023-2024 season. Meanwhile, Egypt grapples with a substantial drop in apple imports due to economic challenges. On the positive side, Ukrainian apple exports seem promising, surpassing the past three years, with active involvement from Uzbekistan and Turkey ... Ukraine has seen a significant increase in apple exports from the 2022/23 season, with a total of 47,000 tons exported from July 2023 to June 2024, a rise of 11,000 tons. The majority of these exports were concentrated in the second half of 2023 and the first half of 2024, particularly in January-March. Volodymyr Gurzhii, the head of USPA Fruit, has predicted further growth in Ukrainian apple ...\u001b[0m\n",
            "Thought:\u001b[32;1m\u001b[1;3m Based on the information from the search results, it appears that Ukrainian apple prices have reached record highs, exports have increased significantly, and global apple production is expected to decrease by 11.3% in 2024/2025 compared to the previous year. However, I cannot find specific information about Ukrainian apple production or weather forecasts for 2025. I will need to search for more information to make an accurate prediction.\n",
            "Action: duckduckgo_search\n",
            "Action Input: Ukrainian apple production forecast 2025, weather forecast Ukraine 2024, apple exports Ukraine 2025, apple prices 2025, apple production Ukraine 2025, apple harvest Ukraine 2025\u001b[0m\n",
            "Observation: \u001b[36;1m\u001b[1;3mThe Ukrainian market is experiencing record prices for industrial apples, in some cases surpassing Polish prices. Small to medium-sized producers are struggling to sell on the local market and are finding it more profitable to sell for processing. Larger producers, with export contracts, are facing a dilemma as they want to increase prices due to the current market situation. The estimated ... Apple prices in Ukraine have surged due to a reduced supply of winter apples and continued high demand, as reported by EastFruit analysts. As of October 19, prices have risen to UAH 17-25/kg, a 13% increase from the previous week and the highest in at least seven years. The scarcity of high-quality apples is because producers are storing their stock, anticipating further price increases ... In Ukraine, a trend of increasing apple prices has been observed, reports EastFruit project analysts. The positive trend is primarily linked to the seasonal reduction in the supply of autumn… Despite ongoing Russian attack and the blockade on the Ukrainian frontier by Poles, Ukrainian apple growers and traders are continuing to increase their export capabilities of fresh apples. Based on EastFruit experts, Ukraine made wholesale shipments of apples that were fresh to 22 countries across various continents during January 2024. During this meeting, the World Apple and Pear Association (WAPA) published forecasts for the apple and pear harvest for the 2024/2025 season. Apple Forecasts. The apple production in EU countries that provided data for the report is expected to reach 10.2 million tons, representing a decrease of 11.3% compared to the previous year.\u001b[0m\n",
            "Thought:\u001b[32;1m\u001b[1;3m Based on the information from the search results, it appears that Ukrainian apple prices have reached record highs, exports have increased significantly, and global apple production is expected to decrease by 11.3% in 2024/2025 compared to the previous year. The scarcity of high-quality apples is due to producers storing their stock in anticipation of further price increases. I cannot find specific information about Ukrainian apple production or weather forecasts for 2025. I will need to search for more information to make an accurate prediction.\n",
            "Action: duckduckgo_search\n",
            "Action Input: Ukrainian apple production forecast 2025, weather forecast Ukraine 2024, apple exports Ukraine 2025, apple prices 2025, apple production Ukraine 2025, apple harvest Ukraine 2025, apple weather forecast Ukraine 2025\u001b[0m\n",
            "Observation: \u001b[36;1m\u001b[1;3mThe Ukrainian market is experiencing record prices for industrial apples, in some cases surpassing Polish prices. Small to medium-sized producers are struggling to sell on the local market and are finding it more profitable to sell for processing. Larger producers, with export contracts, are facing a dilemma as they want to increase prices due to the current market situation. The estimated ... Apple prices in Ukraine have surged due to a reduced supply of winter apples and continued high demand, as reported by EastFruit analysts. As of October 19, prices have risen to UAH 17-25/kg, a 13% increase from the previous week and the highest in at least seven years. The scarcity of high-quality apples is because producers are storing their stock, anticipating further price increases ... Currently, Ukrainian orchardists are offering apples for sale at 15-22 UAH/kg ($0.36-.53/kg), depending on the variety, quality, and batch volume, which is, on average, 23% higher than at the end ... The latest USDA world market and trade report forecasts an increase in production on fresh apples, grapes, and pears with apples leading the list in both production and exports. 2023/24 world apple production is forecast to rise more than 700,000 tons to 83.7 million and exports are projected up 10% to 6.0 million tons on higher shipments from ... Despite ongoing Russian attack and the blockade on the Ukrainian frontier by Poles, Ukrainian apple growers and traders are continuing to increase their export capabilities of fresh apples. Based on EastFruit experts, Ukraine made wholesale shipments of apples that were fresh to 22 countries across various continents during January 2024.\u001b[0m\n",
            "Thought:\u001b[32;1m\u001b[1;3m Based on the information from the search results, it appears that Ukrainian apple prices have reached record highs, exports have increased significantly, and global apple production is expected to increase in 2023/2024. However, I cannot find specific information about Ukrainian apple production or weather forecasts for 2025. I will need to search for more information to make an accurate prediction.\n",
            "Action: duckduckgo_search\n",
            "Action Input: Ukrainian apple production forecast 2025, weather forecast Ukraine 2024, apple exports Ukraine 2025, apple prices 2025, apple production Ukraine 2025, apple harvest Ukraine 2025, apple weather forecast Ukraine 2025, apple production trend Ukraine\u001b[0m\n",
            "Observation: \u001b[36;1m\u001b[1;3mThe Ukrainian market is experiencing record prices for industrial apples, in some cases surpassing Polish prices. Small to medium-sized producers are struggling to sell on the local market and are finding it more profitable to sell for processing. Larger producers, with export contracts, are facing a dilemma as they want to increase prices due to the current market situation. The estimated ... Apple prices in Ukraine have surged due to a reduced supply of winter apples and continued high demand, as reported by EastFruit analysts. As of October 19, prices have risen to UAH 17-25/kg, a 13% increase from the previous week and the highest in at least seven years. The scarcity of high-quality apples is because producers are storing their stock, anticipating further price increases ... Despite ongoing Russian attack and the blockade on the Ukrainian frontier by Poles, Ukrainian apple growers and traders are continuing to increase their export capabilities of fresh apples. Based on EastFruit experts, Ukraine made wholesale shipments of apples that were fresh to 22 countries across various continents during January 2024. Prognosfruit 2024 took place in Budapest, Hungary. During the conference, WAPA (World Apple and Pear Association) released its forecast for the upcoming season of 2024/2025. The forecast for apples is set at 10,2 million t, 11,3 % lower than last year. The pear crop shows a slight recovery from 2023, increasing by 4,9 % to 1,79 million t. In Ukraine, a trend of increasing apple prices has been observed, reports EastFruit project analysts. The positive trend is primarily linked to the seasonal reduction in the supply of autumn…\u001b[0m\n",
            "Thought:\u001b[32;1m\u001b[1;3m Based on the information from the search results, it appears that Ukrainian apple prices have reached record highs, exports have increased significantly, and global apple production is expected to decrease by 11.3% in 2024/2025 compared to the previous year. However, I cannot find specific information about Ukrainian apple production or weather forecasts for 2025. I will need to search for more information to make an accurate prediction.\n",
            "Action: duckduckgo_search\n",
            "Action Input: Ukrainian apple production forecast 2025, weather forecast Ukraine 2024, apple exports Ukraine 2025, apple prices 2025, apple production Ukraine 2025, apple harvest Ukraine 2025, apple weather forecast Ukraine 2025, apple production trend Ukraine, apple production data Ukraine\u001b[0m\n",
            "Observation: \u001b[36;1m\u001b[1;3mOn the positive side, Ukraine's GDP growth for 2026 is estimated at 7%. The World Bank has slightly raised its growth forecast for Russia, with estimated growth of 3.2% and 1.6% for 2024 and 2025, respectively. However, Russia's growth estimate for 2026 remains unchanged at 1.1%. In September, Ukrainian grain exports remained near pre-war levels. As of September 18, 2024, Ukrainian grain exports have reached nearly 10 million tons since the beginning of the 2024/25 ... Projections indicate that U.S. apple exports will climb by 274,000 tons to reach 885,000 tons. This growth is facilitated by heightened production and stronger demand from international markets, particularly Mexico, Taiwan, and India. Washington State plays a pivotal role in this export surge, as it exports about 30% of its apples globally. The World Apple and Pear Association (WAPA) presented its 2024-25 projections during the 2024 Prognosfruit conference in Budapest, Hungary. The organization is forecasting an 11.3% decline in European apple production, while pear volumes are expected to show a slight recovery, increasing by nearly 5%. The Central and Eastern regions of the ... During this meeting, the World Apple and Pear Association (WAPA) published forecasts for the apple and pear harvest for the 2024/2025 season. Apple Forecasts. The apple production in EU countries that provided data for the report is expected to reach 10.2 million tons, representing a decrease of 11.3% compared to the previous year.\u001b[0m\n",
            "Thought:\u001b[32;1m\u001b[1;3m Based on the information from the search results, it appears that Ukrainian apple exports have increased significantly, and global apple production is expected to decrease by 11.3% in 2024/2025 compared to the previous year. However, I cannot find specific information about Ukrainian apple production or weather forecasts for 2025. I will need to search for more information to make an accurate prediction.\n",
            "Action: duckduckgo_search\n",
            "Action Input: Ukrainian apple production forecast 2025, weather forecast Ukraine 2024, apple exports Ukraine 2025, apple prices 2025, apple production Ukraine 2025, apple harvest Ukraine 2025, apple weather forecast Ukraine 2025, apple production trend Ukraine, apple production data Ukraine, apple production outlook Ukraine\u001b[0m\n",
            "Observation: \u001b[36;1m\u001b[1;3mThe Ukrainian market is experiencing record prices for industrial apples, in some cases surpassing Polish prices. Small to medium-sized producers are struggling to sell on the local market and are finding it more profitable to sell for processing. Larger producers, with export contracts, are facing a dilemma as they want to increase prices due to the current market situation. The estimated ... Currently, Ukrainian orchardists are offering apples for sale at 15-22 UAH/kg ($0.36-.53/kg), depending on the variety, quality, and batch volume, which is, on average, 23% higher than at the end ... In W52 in the apple landscape, the global fresh apple and pear production is anticipated to reach 83.1 million metric tons (mmt) in the 2023-2024 season. Meanwhile, Egypt grapples with a substantial drop in apple imports due to economic challenges. On the positive side, Ukrainian apple exports seem promising, surpassing the past three years, with active involvement from Uzbekistan and Turkey ... The final USApple 2024/25 crop year forecast is an adjustment of the USDA numbers based on those conversations. U.S. Production According to USApple's analysis, total U.S. apple production for the 2024/25 crop year (CY) will be 259,517,252 bushels. This represents a 10.1% decrease compared to last year's final production figure. Ukraine has seen a significant increase in apple exports from the 2022/23 season, with a total of 47,000 tons exported from July 2023 to June 2024, a rise of 11,000 tons. The majority of these exports were concentrated in the second half of 2023 and the first half of 2024, particularly in January-March. Volodymyr Gurzhii, the head of USPA Fruit, has predicted further growth in Ukrainian apple ...\u001b[0m\n",
            "Thought:\u001b[32;1m\u001b[1;3m Based on the information from the search results, it appears that Ukrainian apple prices have reached record highs, exports have increased significantly, and global apple production is expected to decrease by 10.1% in the U.S. in 2024/2025 compared to the previous year. However, I cannot find specific information about Ukrainian apple production or weather forecasts for 2025. I will need to search for more information to make an accurate prediction.\n",
            "Action: duckduckgo_search\n",
            "Action Input: Ukrainian apple production forecast 2025, weather forecast Ukraine 2024, apple exports Ukraine 2025, apple prices 2025, apple production Ukraine 2025, apple harvest Ukraine 2025, apple weather forecast Ukraine 2025, apple production trend Ukraine, apple production data Ukraine, apple production outlook Ukraine, apple production forecast Ukraine\u001b[0m\n",
            "Observation: \u001b[36;1m\u001b[1;3mThe final USApple 2024/25 crop year forecast is an adjustment of the USDA numbers based on those conversations. U.S. Production According to USApple's analysis, total U.S. apple production for the 2024/25 crop year (CY) will be 259,517,252 bushels. This represents a 10.1% decrease compared to last year's final production figure. In W52 in the apple landscape, the global fresh apple and pear production is anticipated to reach 83.1 million metric tons (mmt) in the 2023-2024 season. Meanwhile, Egypt grapples with a substantial drop in apple imports due to economic challenges. On the positive side, Ukrainian apple exports seem promising, surpassing the past three years, with active involvement from Uzbekistan and Turkey ... Ukraine has seen a significant increase in apple exports from the 2022/23 season, with a total of 47,000 tons exported from July 2023 to June 2024, a rise of 11,000 tons. The majority of these exports were concentrated in the second half of 2023 and the first half of 2024, particularly in January-March. Volodymyr Gurzhii, the head of USPA Fruit, has predicted further growth in Ukrainian apple ... During the conference, WAPA (World Apple and Pear Association) released its forecast for the upcoming season of 2024/2025. The forecast for apples is set at 10,2 million t, 11,3 % lower than last year. The pear crop shows a slight recovery from 2023, increasing by 4,9 % to 1,79 million t. Prognosfruit, the leading annual event for the apple and ... In Ukraine, particularly in the Vinnytsia region, the harvest of apples is expected to be half of last year's yield due to a cold spring and dry summer. The head of the \"Vinnytsiasadvinprom\"…\u001b[0m\n",
            "Thought:\u001b[32;1m\u001b[1;3m Based on the information from the search results, it appears that Ukrainian apple exports have increased significantly, and global apple production is expected to decrease by 11.3% in 2024/2025 compared to the previous year. However, Ukrainian apple production in 2025 is expected to be lower than previous years due to a cold spring and dry summer. I will need to search for more information to make an accurate prediction.\n",
            "Action: duckduckgo_search\n",
            "Action Input: Ukrainian apple production forecast 2025, weather forecast Ukraine 2024, apple exports Ukraine 2025, apple prices 2025, apple production Ukraine 2025, apple harvest Ukraine 2025, apple weather forecast Ukraine 2025, apple production trend Ukraine, apple production data Ukraine, apple production outlook Ukraine, apple production forecast Ukraine, apple production in Ukraine 2\u001b[0m\n",
            "Observation: \u001b[36;1m\u001b[1;3mUkraine has seen a significant increase in apple exports from the 2022/23 season, with a total of 47,000 tons exported from July 2023 to June 2024, a rise of 11,000 tons. The majority of these exports were concentrated in the second half of 2023 and the first half of 2024, particularly in January-March. Volodymyr Gurzhii, the head of USPA Fruit, has predicted further growth in Ukrainian apple ... The Ukrainian market is experiencing record prices for industrial apples, in some cases surpassing Polish prices. Small to medium-sized producers are struggling to sell on the local market and are finding it more profitable to sell for processing. Larger producers, with export contracts, are facing a dilemma as they want to increase prices due to the current market situation. The estimated ... The final USApple 2024/25 crop year forecast is an adjustment of the USDA numbers based on those conversations. U.S. Production According to USApple's analysis, total U.S. apple production for the 2024/25 crop year (CY) will be 259,517,252 bushels. This represents a 10.1% decrease compared to last year's final production figure. In Ukraine, particularly in the Vinnytsia region, the harvest of apples is expected to be half of last year's yield due to a cold spring and dry summer. The head of the \"Vinnytsiasadvinprom\"… Prognosfruit 2024 took place in Budapest, Hungary. During the conference, WAPA (World Apple and Pear Association) released its forecast for the upcoming season of 2024/2025. The forecast for apples is set at 10,2 million t, 11,3 % lower than last year. The pear crop shows a slight recovery from 2023, increasing by 4,9 % to 1,79 million t.\u001b[0m\n",
            "Thought:\u001b[32;1m\u001b[1;3m Based on the information from the search results, it appears that Ukrainian apple exports have increased significantly, and global apple production is expected to decrease by 11.3% in 2024/2025 compared to the previous year. However, Ukrainian apple production in 2025 is expected to be lower than previous years due to a cold spring and dry summer. I will need to search for more information to make an accurate prediction.\n",
            "Action: duckduckgo_search\n",
            "Action Input: Ukrainian apple production forecast 2025, weather forecast Ukraine 2024, apple exports Ukraine 2025, apple prices 2025, apple production Ukraine 2025, apple harvest Ukraine 2025, apple weather forecast Ukraine 2025, apple production trend Ukraine, apple production data Ukraine, apple production outlook Ukraine, apple production forecast Ukraine, apple production in Ukraine 2\u001b[0m\n",
            "Observation: \u001b[36;1m\u001b[1;3mThe Ukrainian market is experiencing record prices for industrial apples, in some cases surpassing Polish prices. Small to medium-sized producers are struggling to sell on the local market and are finding it more profitable to sell for processing. Larger producers, with export contracts, are facing a dilemma as they want to increase prices due to the current market situation. The estimated ... Apple prices in Ukraine have surged due to a reduced supply of winter apples and continued high demand, as reported by EastFruit analysts. As of October 19, prices have risen to UAH 17-25/kg, a 13% increase from the previous week and the highest in at least seven years. The scarcity of high-quality apples is because producers are storing their stock, anticipating further price increases ... Ukraine has seen a significant increase in apple exports from the 2022/23 season, with a total of 47,000 tons exported from July 2023 to June 2024, a rise of 11,000 tons. The majority of these exports were concentrated in the second half of 2023 and the first half of 2024, particularly in January-March. Volodymyr Gurzhii, the head of USPA Fruit, has predicted further growth in Ukrainian apple ... Currently, Ukrainian orchardists are offering apples for sale at 15-22 UAH/kg ($0.36-.53/kg), depending on the variety, quality, and batch volume, which is, on average, 23% higher than at the end ... According to USApple's analysis, total U.S. apple production for the 2024/25 crop year (CY) will be 259,517,252 bushels. This represents a 10.1% decrease compared to last year's final production figure. \"Growers from across the U.S. are reporting the crop quality is excellent,\" said Gerlach. These figures are more comprehensive than ...\u001b[0m\n",
            "Thought:\u001b[32;1m\u001b[1;3m Based on the information from the search results, it appears that Ukrainian apple exports have increased significantly, and global apple production is expected to decrease by 11.3% in 2024/2025 compared to the previous year. However, Ukrainian apple production in 2025 is expected to be lower than previous years due to a cold spring and dry summer. I will need to search for more information to make an accurate prediction.\n",
            "Action: duckduckgo_search\n",
            "Action Input: Ukrainian apple production forecast 2025, weather forecast Ukraine 2024, apple exports Ukraine 2025, apple prices 2025, apple production Ukraine 2025, apple harvest Ukraine 2025, apple weather forecast Ukraine 2025, apple production trend Ukraine, apple production data Ukraine, apple production outlook Ukraine, apple production forecast Ukraine, apple production in Ukraine 2\u001b[0m\n",
            "Observation: \u001b[36;1m\u001b[1;3mAccording to USApple's analysis, total U.S. apple production for the 2024/25 crop year (CY) will be 259,517,252 bushels. This represents a 10.1% decrease compared to last year's final production figure. \"Growers from across the U.S. are reporting the crop quality is excellent,\" said Gerlach. These figures are more comprehensive than ... In W52 in the apple landscape, the global fresh apple and pear production is anticipated to reach 83.1 million metric tons (mmt) in the 2023-2024 season. Meanwhile, Egypt grapples with a substantial drop in apple imports due to economic challenges. On the positive side, Ukrainian apple exports seem promising, surpassing the past three years, with active involvement from Uzbekistan and Turkey ... The Ukrainian market is experiencing record prices for industrial apples, in some cases surpassing Polish prices. Small to medium-sized producers are struggling to sell on the local market and are finding it more profitable to sell for processing. Larger producers, with export contracts, are facing a dilemma as they want to increase prices due to the current market situation. The estimated ... Monthly Crop Stage and Harvest Calendars; Monthly Production and Trade Maps; Other Global USDA Reports. World Agricultural Supply and Demand Estimates (WASDE) ... Ukraine Production. Sorted by Market Year (MY) 2024/2025. Click on the headers for sorting. Crops 5-yr Avg (2019-2023) (1000 Tons) 2023/24 (1000 Tons) 2024/25 Ukraine has seen a significant increase in apple exports from the 2022/23 season, with a total of 47,000 tons exported from July 2023 to June 2024, a rise of 11,000 tons. The majority of these exports were concentrated in the second half of 2023 and the first half of 2024, particularly in January-March. Volodymyr Gurzhii, the head of USPA Fruit, has predicted further growth in Ukrainian apple ...\u001b[0m\n",
            "Thought:\u001b[32;1m\u001b[1;3m Based on the information from the search results, it appears that Ukrainian apple exports have increased significantly, and global apple production is expected to decrease by 11.3% in 2024/2025 compared to the previous year. However, Ukrainian apple production in 2025 is expected to be lower than previous years due to a cold spring and dry summer. I will need to search for more information to make an accurate prediction.\n",
            "Action: duckduckgo_search\n",
            "Action Input: Ukrainian apple production forecast 2025, weather forecast Ukraine 2024, apple exports Ukraine 2025, apple prices 2025, apple production Ukraine 2025, apple harvest Ukraine 2025, apple weather forecast Ukraine 2025, apple production trend Ukraine, apple production data Ukraine, apple production outlook Ukraine, apple production forecast Ukraine, apple production in Ukraine 2\u001b[0m\n",
            "Observation: \u001b[36;1m\u001b[1;3mThe Ukrainian market is experiencing record prices for industrial apples, in some cases surpassing Polish prices. Small to medium-sized producers are struggling to sell on the local market and are finding it more profitable to sell for processing. Larger producers, with export contracts, are facing a dilemma as they want to increase prices due to the current market situation. The estimated ... The final USApple 2024/25 crop year forecast is an adjustment of the USDA numbers based on those conversations. U.S. Production According to USApple's analysis, total U.S. apple production for the 2024/25 crop year (CY) will be 259,517,252 bushels. This represents a 10.1% decrease compared to last year's final production figure. In W52 in the apple landscape, the global fresh apple and pear production is anticipated to reach 83.1 million metric tons (mmt) in the 2023-2024 season. Meanwhile, Egypt grapples with a substantial drop in apple imports due to economic challenges. On the positive side, Ukrainian apple exports seem promising, surpassing the past three years, with active involvement from Uzbekistan and Turkey ... Prognosfruit 2024 took place in Budapest, Hungary. During the conference, WAPA (World Apple and Pear Association) released its forecast for the upcoming season of 2024/2025. The forecast for apples is set at 10,2 million t, 11,3 % lower than last year. The pear crop shows a slight recovery from 2023, increasing by 4,9 % to 1,79 million t. Rounding out the top five were Poland (4.4%) and India (2.7%). USApple's Industry Outlook 2024 provides data and analysis on U.S. and global apple production, utilization and trade. Authored by Gerlach, the report takes an in-depth look at the trends and forces, from political headwinds to weather events, that shape the U.S. apple industry.\u001b[0m\n",
            "Thought:\u001b[32;1m\u001b[1;3m\u001b[0m\n",
            "\n",
            "\u001b[1m> Finished chain.\u001b[0m\n",
            "Результати бізнес-аналізу:\n",
            "Agent stopped due to iteration limit or time limit.\n"
          ]
        }
      ]
    },
    {
      "cell_type": "markdown",
      "source": [
        "Більш склдану задачу модель вже не змогла розв'язати. Тобто ще є над чим працювати та покращувати )"
      ],
      "metadata": {
        "id": "6TnPPCuscdgb"
      }
    },
    {
      "cell_type": "code",
      "source": [
        "user_input3 = (\n",
        "    \"У нас є дані про продажі груш. \"\n",
        "    \"У 2021 році продали 300т, у 2022 - 320т, у 2023 - 350т. \"\n",
        "    \"Який прогноз продажів груш на 2024 рік?\"\n",
        ")\n",
        "# Виклик агента для виконання запиту\n",
        "response3 = agent.run(user_input3)\n",
        "\n",
        "# Виведення результатів\n",
        "print(\"Результати бізнес-аналізу:\")\n",
        "print(response3)"
      ],
      "metadata": {
        "colab": {
          "base_uri": "https://localhost:8080/"
        },
        "id": "gxZgVWzncA01",
        "outputId": "3e890970-0e83-4029-89a3-67427836a183"
      },
      "execution_count": 41,
      "outputs": [
        {
          "output_type": "stream",
          "name": "stdout",
          "text": [
            "\n",
            "\n",
            "\u001b[1m> Entering new AgentExecutor chain...\u001b[0m\n",
            "\u001b[32;1m\u001b[1;3m This question is about apple sales data for the years 2021, 2022, and 2023. The question asks for a prediction of sales for the year 2024. I can use the given data to make a linear trend prediction.\n",
            "Action: duckduckgo_search\n",
            "Action Input: apple sales trend 2024\u001b[0m\n",
            "Observation: \u001b[36;1m\u001b[1;3mThe Company posted quarterly revenue of $119.6 billion, up 2 percent year over year, and quarterly earnings per diluted share of $2.18, up 16 percent year over year. \"Today Apple is reporting revenue growth for the December quarter fueled by iPhone sales, and an all-time revenue record in Services,\" said Tim Cook, Apple's CEO. Apple registered an annual revenue of $383.29 billion in 2023. There are around 2.2 billion active Apple devices worldwide. iPhone is the largest category by sales, accounting for 50.46% of Apple's total quarterly revenue in Q2 2024. 161,000 employees work at Apple. 3.84 million apps are available in the Apple App Store; Apple Annual Revenue Samuel Axon - Aug 1, 2024 3:06 PM | 132. Apple CEO Tim Cook. Credit: Lionel Hahn/Getty Images. Apple reported its earnings results for the third quarter of the 2024 fiscal year, and it satisfied ... CUPERTINO, CALIFORNIA Apple today announced financial results for its fiscal 2024 second quarter ended March 30, 2024. The Company posted quarterly revenue of $90.8 billion, down 4 percent year over year, and quarterly earnings per diluted share of $1.53. \"Today Apple is reporting revenue of $90.8 billion for the March quarter, including an ... Apple Key Statistics. Apple generated $383.2 billion revenue in 2023, 52% came from iPhone sales. Apple Services is the second largest division, responsible for 22% of revenue in 2023. 231 million iPhones, 49 million iPads and 22 million Mac and MacBook units were sold in 2023. Apple's home and wearables division declined by 3.6% in 2023.\u001b[0m\n",
            "Thought:\u001b[32;1m\u001b[1;3m The search results do not provide the apple sales data for the year 2024. However, I can use the given data to calculate the linear trend of apple sales from 2021 to 2023.\n",
            "Action: duckduckgo_search\n",
            "Action Input: apple sales trend 2021-2023\u001b[0m\n",
            "Observation: \u001b[36;1m\u001b[1;3mApple Key Statistics. Apple generated $383.2 billion revenue in 2023, 52% came from iPhone sales. Apple Services is the second largest division, responsible for 22% of revenue in 2023. 231 million iPhones, 49 million iPads and 22 million Mac and MacBook units were sold in 2023. Apple's home and wearables division declined by 3.6% in 2023. Other than the US, China is the only country that consistently contributed more than 10% to Apple's net sales across 2023, 2022, and 2021. Greater China segment sales declined 2% YoY and achieved an operating income of $30 billion, with an operating margin of 42%. 10. Japan and rest of Asia Pacific business. In 2007, Macs represented 43% of the company's revenue, while iPods accounted for 35%. Since 2015, however, services and accessories/wearables (such as the Apple Watch and AirPods) have contributed increasingly to the company's revenue shares. Mac revenue declined by 27% year over year in 2023, making up only 8% of Apple's total revenue. Apple Statistics 2024: Top Picks. Apple recorded a revenue of $176.64 billion in the first half of 2024. In 2023, Apple's annual revenue was $383.2 billion. $87.7 billion in revenue was generated in the Americas region in H1 2024. The iPhone sales generated $45.96 billion in Q2 2024, accounting for 50.46% of Apple's total quarterly revenue. NEEDHAM, Mass., January 15, 2024 - The last time a company not named Samsung was at the top of the smartphone market was 2010, and for 2023 it is now Apple. A sort of shifting of power at the top of the largest consumer electronics market was driven by an all-time high market share for Apple and a first time at the top.\u001b[0m\n",
            "Thought:\u001b[32;1m\u001b[1;3m The search results provide the apple sales data for the year 2023, which is the last data point in the given data. I can use this data and the given data to calculate the linear trend of apple sales from 2021 to 2023.\n",
            "Action: None\n",
            "Thought: The given data shows that apple sold 300t of apples in 2021, 320t in 2022, and 350t in 2023. Using this data, the linear trend of apple sales is an increase of approximately 33.33t per year. Therefore, the prediction for apple sales in 2024 would be 350t + 33.33t = 383.33t.\n",
            "Final Answer: The prediction for apple sales in 2024 is approximately 383.33\u001b[0m\n",
            "\n",
            "\u001b[1m> Finished chain.\u001b[0m\n",
            "Результати бізнес-аналізу:\n",
            "The prediction for apple sales in 2024 is approximately 383.33\n"
          ]
        }
      ]
    },
    {
      "cell_type": "code",
      "source": [],
      "metadata": {
        "id": "AHdRq9kwcnBa"
      },
      "execution_count": null,
      "outputs": []
    }
  ]
}