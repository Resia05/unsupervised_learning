{
  "nbformat": 4,
  "nbformat_minor": 0,
  "metadata": {
    "colab": {
      "provenance": [],
      "include_colab_link": true
    },
    "kernelspec": {
      "name": "python3",
      "display_name": "Python 3"
    },
    "language_info": {
      "name": "python"
    }
  },
  "cells": [
    {
      "cell_type": "markdown",
      "metadata": {
        "id": "view-in-github",
        "colab_type": "text"
      },
      "source": [
        "<a href=\"https://colab.research.google.com/github/Resia05/unsupervised_learning/blob/main/%D0%9A%D0%BE%D0%BF%D1%96%D1%8F_%D0%B7%D0%B0%D0%BF%D0%B8%D1%81%D0%BD%D0%B8%D0%BA%D0%B0_%22LSTM_%D0%B4%D0%BB%D1%8F_%D0%BF%D1%80%D0%BE%D0%B3%D0%BD%D0%BE%D0%B7%D1%83%D0%B2%D0%B0%D0%BD%D0%BD%D1%8F_%D1%87%D0%B0%D1%81%D0%BE%D0%B2%D0%B8%D1%85_%D1%80%D1%8F%D0%B4%D1%96%D0%B2_ipynb%22.ipynb\" target=\"_parent\"><img src=\"https://colab.research.google.com/assets/colab-badge.svg\" alt=\"Open In Colab\"/></a>"
      ]
    },
    {
      "cell_type": "code",
      "source": [
        "from google.colab import drive\n",
        "drive.mount('/content/drive')"
      ],
      "metadata": {
        "colab": {
          "base_uri": "https://localhost:8080/"
        },
        "id": "iQJANuOQy_I2",
        "outputId": "5f3768b4-feea-4691-f03d-2b7b7b9187aa"
      },
      "execution_count": 1,
      "outputs": [
        {
          "output_type": "stream",
          "name": "stdout",
          "text": [
            "Mounted at /content/drive\n"
          ]
        }
      ]
    },
    {
      "cell_type": "markdown",
      "source": [
        "Давайте подивимося, як LSTM можна використовувати для побудови нейронної мережі прогнозування часових.\n",
        "\n",
        "Будемо працювати з задачею прогнозування кількості пасажирів міжнародних авіаліній. З цим набором даних ми вже працювали в лекції \"Time Series Analysis\" і ви зможете порівняти результати :)\n",
        "\n",
        "Задача полягає в тому, щоб за заданими роком і місяцем передбачити кількість пасажирів міжнародних авіаліній в одиницях виміру 1,000. Дані охоплюють період з січня 1949 року по грудень 1960 року, тобто 12 років, зі 144 спостереженнями.\n",
        "\n",
        "Це регресійна задача. Тобто, знаючи кількість пасажирів (в тисячах) за останні місяці, можна передбачити, якою буде кількість пасажирів у наступному місяці. Набір даних має лише одну характеристику: \"Кількість пасажирів\" - `Passengers`.\n",
        "\n",
        "Далі вже наведений код для читання даних, але нам їх ще треба буде трошки обробити."
      ],
      "metadata": {
        "id": "QVNVsLwJvV9S"
      }
    },
    {
      "cell_type": "code",
      "execution_count": 2,
      "metadata": {
        "id": "hw3dGYsyluYm",
        "colab": {
          "base_uri": "https://localhost:8080/",
          "height": 237
        },
        "outputId": "98c66e57-de7b-421c-886b-eb7ea5df554f"
      },
      "outputs": [
        {
          "output_type": "display_data",
          "data": {
            "text/plain": [
              "         Passengers\n",
              "Month              \n",
              "1949-01         112\n",
              "1949-02         118\n",
              "1949-03         132\n",
              "1949-04         129\n",
              "1949-05         121"
            ],
            "text/html": [
              "\n",
              "  <div id=\"df-73977b01-d14e-49cd-bab1-3b41eb1cc8ca\" class=\"colab-df-container\">\n",
              "    <div>\n",
              "<style scoped>\n",
              "    .dataframe tbody tr th:only-of-type {\n",
              "        vertical-align: middle;\n",
              "    }\n",
              "\n",
              "    .dataframe tbody tr th {\n",
              "        vertical-align: top;\n",
              "    }\n",
              "\n",
              "    .dataframe thead th {\n",
              "        text-align: right;\n",
              "    }\n",
              "</style>\n",
              "<table border=\"1\" class=\"dataframe\">\n",
              "  <thead>\n",
              "    <tr style=\"text-align: right;\">\n",
              "      <th></th>\n",
              "      <th>Passengers</th>\n",
              "    </tr>\n",
              "    <tr>\n",
              "      <th>Month</th>\n",
              "      <th></th>\n",
              "    </tr>\n",
              "  </thead>\n",
              "  <tbody>\n",
              "    <tr>\n",
              "      <th>1949-01</th>\n",
              "      <td>112</td>\n",
              "    </tr>\n",
              "    <tr>\n",
              "      <th>1949-02</th>\n",
              "      <td>118</td>\n",
              "    </tr>\n",
              "    <tr>\n",
              "      <th>1949-03</th>\n",
              "      <td>132</td>\n",
              "    </tr>\n",
              "    <tr>\n",
              "      <th>1949-04</th>\n",
              "      <td>129</td>\n",
              "    </tr>\n",
              "    <tr>\n",
              "      <th>1949-05</th>\n",
              "      <td>121</td>\n",
              "    </tr>\n",
              "  </tbody>\n",
              "</table>\n",
              "</div>\n",
              "    <div class=\"colab-df-buttons\">\n",
              "\n",
              "  <div class=\"colab-df-container\">\n",
              "    <button class=\"colab-df-convert\" onclick=\"convertToInteractive('df-73977b01-d14e-49cd-bab1-3b41eb1cc8ca')\"\n",
              "            title=\"Convert this dataframe to an interactive table.\"\n",
              "            style=\"display:none;\">\n",
              "\n",
              "  <svg xmlns=\"http://www.w3.org/2000/svg\" height=\"24px\" viewBox=\"0 -960 960 960\">\n",
              "    <path d=\"M120-120v-720h720v720H120Zm60-500h600v-160H180v160Zm220 220h160v-160H400v160Zm0 220h160v-160H400v160ZM180-400h160v-160H180v160Zm440 0h160v-160H620v160ZM180-180h160v-160H180v160Zm440 0h160v-160H620v160Z\"/>\n",
              "  </svg>\n",
              "    </button>\n",
              "\n",
              "  <style>\n",
              "    .colab-df-container {\n",
              "      display:flex;\n",
              "      gap: 12px;\n",
              "    }\n",
              "\n",
              "    .colab-df-convert {\n",
              "      background-color: #E8F0FE;\n",
              "      border: none;\n",
              "      border-radius: 50%;\n",
              "      cursor: pointer;\n",
              "      display: none;\n",
              "      fill: #1967D2;\n",
              "      height: 32px;\n",
              "      padding: 0 0 0 0;\n",
              "      width: 32px;\n",
              "    }\n",
              "\n",
              "    .colab-df-convert:hover {\n",
              "      background-color: #E2EBFA;\n",
              "      box-shadow: 0px 1px 2px rgba(60, 64, 67, 0.3), 0px 1px 3px 1px rgba(60, 64, 67, 0.15);\n",
              "      fill: #174EA6;\n",
              "    }\n",
              "\n",
              "    .colab-df-buttons div {\n",
              "      margin-bottom: 4px;\n",
              "    }\n",
              "\n",
              "    [theme=dark] .colab-df-convert {\n",
              "      background-color: #3B4455;\n",
              "      fill: #D2E3FC;\n",
              "    }\n",
              "\n",
              "    [theme=dark] .colab-df-convert:hover {\n",
              "      background-color: #434B5C;\n",
              "      box-shadow: 0px 1px 3px 1px rgba(0, 0, 0, 0.15);\n",
              "      filter: drop-shadow(0px 1px 2px rgba(0, 0, 0, 0.3));\n",
              "      fill: #FFFFFF;\n",
              "    }\n",
              "  </style>\n",
              "\n",
              "    <script>\n",
              "      const buttonEl =\n",
              "        document.querySelector('#df-73977b01-d14e-49cd-bab1-3b41eb1cc8ca button.colab-df-convert');\n",
              "      buttonEl.style.display =\n",
              "        google.colab.kernel.accessAllowed ? 'block' : 'none';\n",
              "\n",
              "      async function convertToInteractive(key) {\n",
              "        const element = document.querySelector('#df-73977b01-d14e-49cd-bab1-3b41eb1cc8ca');\n",
              "        const dataTable =\n",
              "          await google.colab.kernel.invokeFunction('convertToInteractive',\n",
              "                                                    [key], {});\n",
              "        if (!dataTable) return;\n",
              "\n",
              "        const docLinkHtml = 'Like what you see? Visit the ' +\n",
              "          '<a target=\"_blank\" href=https://colab.research.google.com/notebooks/data_table.ipynb>data table notebook</a>'\n",
              "          + ' to learn more about interactive tables.';\n",
              "        element.innerHTML = '';\n",
              "        dataTable['output_type'] = 'display_data';\n",
              "        await google.colab.output.renderOutput(dataTable, element);\n",
              "        const docLink = document.createElement('div');\n",
              "        docLink.innerHTML = docLinkHtml;\n",
              "        element.appendChild(docLink);\n",
              "      }\n",
              "    </script>\n",
              "  </div>\n",
              "\n",
              "\n",
              "<div id=\"df-f3c1bde8-8f51-4e03-8275-55f54ac5551f\">\n",
              "  <button class=\"colab-df-quickchart\" onclick=\"quickchart('df-f3c1bde8-8f51-4e03-8275-55f54ac5551f')\"\n",
              "            title=\"Suggest charts\"\n",
              "            style=\"display:none;\">\n",
              "\n",
              "<svg xmlns=\"http://www.w3.org/2000/svg\" height=\"24px\"viewBox=\"0 0 24 24\"\n",
              "     width=\"24px\">\n",
              "    <g>\n",
              "        <path d=\"M19 3H5c-1.1 0-2 .9-2 2v14c0 1.1.9 2 2 2h14c1.1 0 2-.9 2-2V5c0-1.1-.9-2-2-2zM9 17H7v-7h2v7zm4 0h-2V7h2v10zm4 0h-2v-4h2v4z\"/>\n",
              "    </g>\n",
              "</svg>\n",
              "  </button>\n",
              "\n",
              "<style>\n",
              "  .colab-df-quickchart {\n",
              "      --bg-color: #E8F0FE;\n",
              "      --fill-color: #1967D2;\n",
              "      --hover-bg-color: #E2EBFA;\n",
              "      --hover-fill-color: #174EA6;\n",
              "      --disabled-fill-color: #AAA;\n",
              "      --disabled-bg-color: #DDD;\n",
              "  }\n",
              "\n",
              "  [theme=dark] .colab-df-quickchart {\n",
              "      --bg-color: #3B4455;\n",
              "      --fill-color: #D2E3FC;\n",
              "      --hover-bg-color: #434B5C;\n",
              "      --hover-fill-color: #FFFFFF;\n",
              "      --disabled-bg-color: #3B4455;\n",
              "      --disabled-fill-color: #666;\n",
              "  }\n",
              "\n",
              "  .colab-df-quickchart {\n",
              "    background-color: var(--bg-color);\n",
              "    border: none;\n",
              "    border-radius: 50%;\n",
              "    cursor: pointer;\n",
              "    display: none;\n",
              "    fill: var(--fill-color);\n",
              "    height: 32px;\n",
              "    padding: 0;\n",
              "    width: 32px;\n",
              "  }\n",
              "\n",
              "  .colab-df-quickchart:hover {\n",
              "    background-color: var(--hover-bg-color);\n",
              "    box-shadow: 0 1px 2px rgba(60, 64, 67, 0.3), 0 1px 3px 1px rgba(60, 64, 67, 0.15);\n",
              "    fill: var(--button-hover-fill-color);\n",
              "  }\n",
              "\n",
              "  .colab-df-quickchart-complete:disabled,\n",
              "  .colab-df-quickchart-complete:disabled:hover {\n",
              "    background-color: var(--disabled-bg-color);\n",
              "    fill: var(--disabled-fill-color);\n",
              "    box-shadow: none;\n",
              "  }\n",
              "\n",
              "  .colab-df-spinner {\n",
              "    border: 2px solid var(--fill-color);\n",
              "    border-color: transparent;\n",
              "    border-bottom-color: var(--fill-color);\n",
              "    animation:\n",
              "      spin 1s steps(1) infinite;\n",
              "  }\n",
              "\n",
              "  @keyframes spin {\n",
              "    0% {\n",
              "      border-color: transparent;\n",
              "      border-bottom-color: var(--fill-color);\n",
              "      border-left-color: var(--fill-color);\n",
              "    }\n",
              "    20% {\n",
              "      border-color: transparent;\n",
              "      border-left-color: var(--fill-color);\n",
              "      border-top-color: var(--fill-color);\n",
              "    }\n",
              "    30% {\n",
              "      border-color: transparent;\n",
              "      border-left-color: var(--fill-color);\n",
              "      border-top-color: var(--fill-color);\n",
              "      border-right-color: var(--fill-color);\n",
              "    }\n",
              "    40% {\n",
              "      border-color: transparent;\n",
              "      border-right-color: var(--fill-color);\n",
              "      border-top-color: var(--fill-color);\n",
              "    }\n",
              "    60% {\n",
              "      border-color: transparent;\n",
              "      border-right-color: var(--fill-color);\n",
              "    }\n",
              "    80% {\n",
              "      border-color: transparent;\n",
              "      border-right-color: var(--fill-color);\n",
              "      border-bottom-color: var(--fill-color);\n",
              "    }\n",
              "    90% {\n",
              "      border-color: transparent;\n",
              "      border-bottom-color: var(--fill-color);\n",
              "    }\n",
              "  }\n",
              "</style>\n",
              "\n",
              "  <script>\n",
              "    async function quickchart(key) {\n",
              "      const quickchartButtonEl =\n",
              "        document.querySelector('#' + key + ' button');\n",
              "      quickchartButtonEl.disabled = true;  // To prevent multiple clicks.\n",
              "      quickchartButtonEl.classList.add('colab-df-spinner');\n",
              "      try {\n",
              "        const charts = await google.colab.kernel.invokeFunction(\n",
              "            'suggestCharts', [key], {});\n",
              "      } catch (error) {\n",
              "        console.error('Error during call to suggestCharts:', error);\n",
              "      }\n",
              "      quickchartButtonEl.classList.remove('colab-df-spinner');\n",
              "      quickchartButtonEl.classList.add('colab-df-quickchart-complete');\n",
              "    }\n",
              "    (() => {\n",
              "      let quickchartButtonEl =\n",
              "        document.querySelector('#df-f3c1bde8-8f51-4e03-8275-55f54ac5551f button');\n",
              "      quickchartButtonEl.style.display =\n",
              "        google.colab.kernel.accessAllowed ? 'block' : 'none';\n",
              "    })();\n",
              "  </script>\n",
              "</div>\n",
              "    </div>\n",
              "  </div>\n"
            ],
            "application/vnd.google.colaboratory.intrinsic+json": {
              "type": "dataframe",
              "summary": "{\n  \"name\": \"display(df\",\n  \"rows\": 5,\n  \"fields\": [\n    {\n      \"column\": \"Month\",\n      \"properties\": {\n        \"dtype\": \"object\",\n        \"num_unique_values\": 5,\n        \"samples\": [\n          \"1949-02\",\n          \"1949-05\",\n          \"1949-03\"\n        ],\n        \"semantic_type\": \"\",\n        \"description\": \"\"\n      }\n    },\n    {\n      \"column\": \"Passengers\",\n      \"properties\": {\n        \"dtype\": \"number\",\n        \"std\": 8,\n        \"min\": 112,\n        \"max\": 132,\n        \"num_unique_values\": 5,\n        \"samples\": [\n          118,\n          121,\n          132\n        ],\n        \"semantic_type\": \"\",\n        \"description\": \"\"\n      }\n    }\n  ]\n}"
            }
          },
          "metadata": {}
        }
      ],
      "source": [
        "import pandas as pd\n",
        "import numpy as np\n",
        "from matplotlib import pyplot as plt\n",
        "\n",
        "# Завантаження даних\n",
        "url = \"https://raw.githubusercontent.com/jbrownlee/Datasets/master/airline-passengers.csv\"\n",
        "df = pd.read_csv(url)\n",
        "df.set_index('Month', inplace=True)\n",
        "display(df.head())"
      ]
    },
    {
      "cell_type": "markdown",
      "source": [
        "**Завдання 1.** Створіть змінну типу `numpy.ndarray`, яка містить значення кількості пасажирів в форматі `float32`. Такий формат даних нам треба для тренування нейромережі."
      ],
      "metadata": {
        "id": "BCcNvF28wSH3"
      }
    },
    {
      "cell_type": "code",
      "source": [
        "# Перетворення стовпця \"Passengers\" у формат numpy.ndarray з типом float32\n",
        "passengers_data = df['Passengers'].values.astype('float32')\n",
        "passengers_data"
      ],
      "metadata": {
        "id": "7PcJkPAoBOH5",
        "colab": {
          "base_uri": "https://localhost:8080/"
        },
        "outputId": "27d25107-234e-45cc-d307-4033bf4e25cd"
      },
      "execution_count": 4,
      "outputs": [
        {
          "output_type": "execute_result",
          "data": {
            "text/plain": [
              "array([112., 118., 132., 129., 121., 135., 148., 148., 136., 119., 104.,\n",
              "       118., 115., 126., 141., 135., 125., 149., 170., 170., 158., 133.,\n",
              "       114., 140., 145., 150., 178., 163., 172., 178., 199., 199., 184.,\n",
              "       162., 146., 166., 171., 180., 193., 181., 183., 218., 230., 242.,\n",
              "       209., 191., 172., 194., 196., 196., 236., 235., 229., 243., 264.,\n",
              "       272., 237., 211., 180., 201., 204., 188., 235., 227., 234., 264.,\n",
              "       302., 293., 259., 229., 203., 229., 242., 233., 267., 269., 270.,\n",
              "       315., 364., 347., 312., 274., 237., 278., 284., 277., 317., 313.,\n",
              "       318., 374., 413., 405., 355., 306., 271., 306., 315., 301., 356.,\n",
              "       348., 355., 422., 465., 467., 404., 347., 305., 336., 340., 318.,\n",
              "       362., 348., 363., 435., 491., 505., 404., 359., 310., 337., 360.,\n",
              "       342., 406., 396., 420., 472., 548., 559., 463., 407., 362., 405.,\n",
              "       417., 391., 419., 461., 472., 535., 622., 606., 508., 461., 390.,\n",
              "       432.], dtype=float32)"
            ]
          },
          "metadata": {},
          "execution_count": 4
        }
      ]
    },
    {
      "cell_type": "markdown",
      "source": [
        "Очікуваний результат:\n",
        "```array([112., 118., 132., 129., 121.], dtype=float32)```"
      ],
      "metadata": {
        "id": "Vms2Pxp1xCrB"
      }
    },
    {
      "cell_type": "markdown",
      "source": [
        "**Завдання 2**. Розбийте дані на тренувальні і валідаційні у співвідношенні 67% йде у тренування, 33 - у валідацію. Памʼятаємо, що ми працюємо з tim series, відповідно, навчаємось на давніших, валідуємось - на новіших."
      ],
      "metadata": {
        "id": "vESTxq-OxLRK"
      }
    },
    {
      "cell_type": "code",
      "source": [
        "# Визначення індексу для поділу (67% на тренувальний набір)\n",
        "train_size = int(len(passengers_data) * 0.67)\n",
        "\n",
        "# Поділ на тренувальні та валідаційні дані\n",
        "train_data = passengers_data[:train_size]\n",
        "val_data = passengers_data[train_size:]\n",
        "\n",
        "# Перевірка розмірів наборів\n",
        "print(f\"Розмір тренувального набору: {len(train_data)}\")\n",
        "print(f\"Розмір валідаційного набору: {len(val_data)}\")\n"
      ],
      "metadata": {
        "id": "USpGte_tBPR1",
        "colab": {
          "base_uri": "https://localhost:8080/"
        },
        "outputId": "2662f45e-9cd1-43b8-9fdb-1dba99337a3c"
      },
      "execution_count": 5,
      "outputs": [
        {
          "output_type": "stream",
          "name": "stdout",
          "text": [
            "Розмір тренувального набору: 96\n",
            "Розмір валідаційного набору: 48\n"
          ]
        }
      ]
    },
    {
      "cell_type": "markdown",
      "source": [
        "**Завдання 3**.\n",
        "\n",
        "Реалізуйте функцію `create_dataset`, яка перетворить одномірний часовий ряд (набір даних) у формат, придатний для тренування нейромережі.\n",
        "\n",
        "Функція повинна приймати два аргументи:\n",
        "- `dataset` — numpy-масив часового ряду,\n",
        "- `lookback` — кількість попередніх кроків, які використовуватимуться для передбачення.\n",
        "\n",
        "Функція повинна повернути два **тензори** PyTorch:\n",
        "- `X` — набір ознак (вікно попередніх значень),\n",
        "- `y` — цільові значення (наступні після вікна кроки).\n",
        "\n",
        "Дані ми будемо подавати моделі в наступному форматі:\n",
        "`\n",
        "tensor([[112.],\n",
        "        [118.],\n",
        "        [132.],\n",
        "        [129.],\n",
        "        [121.]])\n",
        "`\n",
        "Відповідно першою розмірністю буде йти розмір вхідного батча, а другою - розмір вхіднизх даних і в нас це 1, бо лише одне значення на вході щоразу.\n",
        "\n",
        "Після виконання завдання запустіть код нижче. Ми будемо передбачати на основі кількості пасажирів в попередній день кількість пасажирів в наступний, тому `lookback == 1`."
      ],
      "metadata": {
        "id": "YB-e-vEDx3bn"
      }
    },
    {
      "cell_type": "code",
      "source": [
        "import torch\n",
        "import numpy as np\n",
        "\n",
        "def create_dataset(dataset, lookback=1):\n",
        "    X, y = [], []\n",
        "\n",
        "    # Проходимо по всьому масиву з урахуванням lookback\n",
        "    for i in range(len(dataset) - lookback):\n",
        "        window = dataset[i:(i + lookback)]\n",
        "        X.append(window)\n",
        "        y.append(dataset[i + lookback])\n",
        "\n",
        "    # Перетворюємо списки в numpy масиви для підвищення швидкості\n",
        "    X = np.array(X)\n",
        "    y = np.array(y)\n",
        "\n",
        "    # Перетворюємо numpy масиви у тензори PyTorch\n",
        "    X = torch.tensor(X)\n",
        "    y = torch.tensor(y).unsqueeze(1)  # Додаємо зайву розмірність для цільових значень\n",
        "\n",
        "    return X, y"
      ],
      "metadata": {
        "id": "s5UXOiAHBVwe"
      },
      "execution_count": 12,
      "outputs": []
    },
    {
      "cell_type": "code",
      "source": [
        "lookback = 1\n",
        "X_train, y_train = create_dataset(train_data, lookback=lookback)\n",
        "X_test, y_test = create_dataset(val_data, lookback=lookback)\n",
        "\n",
        "print(X_train.shape, y_train.shape)\n",
        "print(X_test.shape, y_test.shape)\n"
      ],
      "metadata": {
        "colab": {
          "base_uri": "https://localhost:8080/"
        },
        "id": "dA8FwOfwuPyl",
        "outputId": "59ec9317-1758-4455-f816-35439eb4f0d8"
      },
      "execution_count": 13,
      "outputs": [
        {
          "output_type": "stream",
          "name": "stdout",
          "text": [
            "torch.Size([95, 1]) torch.Size([95, 1])\n",
            "torch.Size([47, 1]) torch.Size([47, 1])\n"
          ]
        }
      ]
    },
    {
      "cell_type": "markdown",
      "source": [
        "Очікуваний результат:\n",
        "```\n",
        "torch.Size([95, 1]) torch.Size([95, 1])\n",
        "torch.Size([47, 1]) torch.Size([47, 1])\n",
        "```"
      ],
      "metadata": {
        "id": "dvEA-D-SzcWf"
      }
    },
    {
      "cell_type": "markdown",
      "source": [
        "**Завдання 4**.\n",
        "\n",
        "Зверніть увагу на розмірності в попередньому завданні. Ми\n",
        "З допомогою модуля `torch.nn` опишіть клас `AirModel`, який є нейронною мережею для прогнозування кількості пасажирів за допомогою LSTM.\n",
        "\n",
        "1. **Конструктор класу** повинен приймати параметри `hidden_size`, `num_layers` та ініціювати шари:\n",
        "   - LSTM-шар з наступними параметрами:\n",
        "     - `input_size` — кожна точка часового ряду є окремим входом,,\n",
        "     - `hidden_size` — заданий в конструкторі класу мережі,\n",
        "     - `num_layers=1` — кількість шарів LSTM, задана в конструкторі мережі,\n",
        "     - `batch_first=True` — визначає, що першим виміром є розмір батчу.\n",
        "   - Лінійний шар (`nn.Linear`) для перетворення виходу LSTM на прогноз однієї точки.\n",
        "\n",
        "2. **Метод forward** повинен виконувати наступні дії:\n",
        "   - Передати вхідний тензор через LSTM-шар і отримати виходи (ігноруючи приховані стани).\n",
        "   - Пропустити вихід LSTM через лінійний шар для отримання остаточного прогнозу.\n",
        "\n",
        "Створіть об'єкт класу `AirModel` зі значеннями параметрів `hidden_size=50`, `num_layers=1` і протестуйте роботу моделі на вхідному тензорі `tensor([[112.]])`. На цьому етапі ми маємо переконатись, що модель здатна генерувати передбачення з рандомно ініційованими вагами."
      ],
      "metadata": {
        "id": "eeiFJ-jDznj5"
      }
    },
    {
      "cell_type": "code",
      "source": [
        "import torch.nn as nn\n",
        "\n",
        "# Визначення класу AirModel на основі LSTM\n",
        "class AirModel(nn.Module):\n",
        "    def __init__(self, input_size, hidden_size, num_layers):\n",
        "        super(AirModel, self).__init__()\n",
        "        self.lstm = nn.LSTM(input_size, hidden_size, num_layers=num_layers, batch_first=True)\n",
        "        self.linear = nn.Linear(hidden_size, 1)\n",
        "\n",
        "    def forward(self, x):\n",
        "        # Переконайтеся, що x має форму [batch_size, sequence_length, input_size]\n",
        "        if x.dim() == 2:  # Якщо x має форму [batch_size, 1]\n",
        "            x = x.unsqueeze(1)  # Додаємо розмірність\n",
        "\n",
        "        lstm_out, _ = self.lstm(x)  # ігноруємо приховані стани\n",
        "        output = self.linear(lstm_out[:, -1, :])  # беремо тільки останню точку для прогнозу\n",
        "        return output\n",
        "\n",
        "# Створюємо модель\n",
        "model = AirModel(input_size=1, hidden_size=50, num_layers=1)\n",
        "\n",
        "# Тестуємо модель на одному вході\n",
        "test_input = torch.tensor([[112.]], dtype=torch.float32).unsqueeze(0)  # Додаємо розмір батчу\n",
        "output = model(test_input)\n",
        "print(output)"
      ],
      "metadata": {
        "colab": {
          "base_uri": "https://localhost:8080/"
        },
        "id": "VnW_GF5f2u4h",
        "outputId": "d4f01e62-2614-4155-d577-97f20ea1d0ec"
      },
      "execution_count": 17,
      "outputs": [
        {
          "output_type": "stream",
          "name": "stdout",
          "text": [
            "tensor([[0.2696]], grad_fn=<AddmmBackward0>)\n"
          ]
        }
      ]
    },
    {
      "cell_type": "markdown",
      "source": [
        "**Завдання 5**.\n",
        "\n",
        "Створіть об'єкт DataLoader для завантаження даних, використовуючи тренувальні вибірки `X_train` та `y_train`. Ваш DataLoader повинен виконувати наступні вимоги:\n",
        "\n",
        "1. Використовувати клас `TensorDataset`, щоб об'єднати тензори ознак `X_train` і цільових значень `y_train`.\n",
        "2. Дані повинні завантажуватися невеликими батчами розміром 8 за допомогою параметра `batch_size`.\n",
        "3. Використовувати параметр `shuffle=True`, щоб дані перемішувалися перед кожною епохою тренування.\n"
      ],
      "metadata": {
        "id": "-R6zv9nu2tWB"
      }
    },
    {
      "cell_type": "code",
      "source": [
        "from torch.utils.data import TensorDataset, DataLoader\n",
        "\n",
        "# Створюємо TensorDataset на основі X_train та y_train\n",
        "train_dataset = TensorDataset(X_train, y_train)\n",
        "\n",
        "# Створюємо DataLoader з батчами по 8 та перемішуванням даних\n",
        "train_loader = DataLoader(dataset=train_dataset, batch_size=8, shuffle=True)\n",
        "\n",
        "# Перевіряємо, що DataLoader працює\n",
        "for batch_X, batch_y in train_loader:\n",
        "    print(f'Batch X: {batch_X}')\n",
        "    print(f'Batch y: {batch_y}')\n",
        "    break  # Зупиняємо після першого батчу для перевірки"
      ],
      "metadata": {
        "id": "WKdkptY7DMAc",
        "colab": {
          "base_uri": "https://localhost:8080/"
        },
        "outputId": "838212dd-6d84-477b-f9d5-2fe1b9570ec4"
      },
      "execution_count": 18,
      "outputs": [
        {
          "output_type": "stream",
          "name": "stdout",
          "text": [
            "Batch X: tensor([[199.],\n",
            "        [129.],\n",
            "        [191.],\n",
            "        [233.],\n",
            "        [277.],\n",
            "        [178.],\n",
            "        [201.],\n",
            "        [269.]])\n",
            "Batch y: tensor([[199.],\n",
            "        [121.],\n",
            "        [172.],\n",
            "        [267.],\n",
            "        [317.],\n",
            "        [199.],\n",
            "        [204.],\n",
            "        [270.]])\n"
          ]
        }
      ]
    },
    {
      "cell_type": "markdown",
      "source": [
        "**Завдання 6**.\n",
        "\n",
        "1. Реалізуйте навчання нейронної мережі `AirModel` для прогнозування часових рядів, використовуючи Adam-оптимізатор та функцію втрат MSE (середньоквадратичну похибку).\n",
        "2. Створіть цикл тренування для 2000 епох, у якому на кожній епосі:\n",
        "   - Виконуйте крок тренування моделі (прямий прохід, обчислення похибки, зворотний прохід і оновлення ваг).\n",
        "   - Підраховуйте середню похибку на кожному батчі даних і зберігайте її у списку `losses`.\n",
        "3. Раз на 100 епох проводьте валідацію моделі:\n",
        "   - Перевіряйте модель на тренувальних та тестових даних без оновлення ваг.\n",
        "   - Обчислюйте корінь середньоквадратичної похибки (RMSE) для тренувальної та тестової вибірок і виводьте результати на екран.\n",
        "   \n",
        "**Примітка:**\n",
        "- Використовуйте вже створений `DataLoader` для отримання батчів даних.\n",
        "- Валідацію виконуйте в режимі `eval()`, вимикаючи обчислення градієнтів з `torch.no_grad()`.\n",
        "\n",
        "**Приклад виходу:**\n",
        "```\n",
        "Epoch 0: train RMSE 12.3456, test RMSE 15.6789\n",
        "Epoch 100: train RMSE 9.8765, test RMSE 12.3456\n",
        "...\n",
        "```"
      ],
      "metadata": {
        "id": "6ZaGh7IF2nfT"
      }
    },
    {
      "cell_type": "code",
      "source": [
        "import torch.optim as optim\n",
        "\n",
        "# Ініціалізація моделі\n",
        "model = AirModel(input_size=1, hidden_size=50, num_layers=1)\n",
        "\n",
        "# Визначення оптимізатора та функції втрат\n",
        "criterion = nn.MSELoss()\n",
        "optimizer = optim.Adam(model.parameters(), lr=0.001)\n",
        "\n",
        "# Список для зберігання середніх похибок\n",
        "losses = []\n",
        "\n",
        "# Кількість епох\n",
        "num_epochs = 2000\n",
        "\n",
        "# Цикл навчання\n",
        "for epoch in range(num_epochs):\n",
        "    model.train()  # Переход на тренувальний режим\n",
        "    epoch_loss = 0\n",
        "\n",
        "    for batch_X, batch_y in train_loader:\n",
        "        # Обнулення градієнтів\n",
        "        optimizer.zero_grad()\n",
        "\n",
        "        # Прямий прохід\n",
        "        output = model(batch_X)\n",
        "\n",
        "        # Обчислення втрат\n",
        "        loss = criterion(output, batch_y)\n",
        "\n",
        "        # Зворотний прохід\n",
        "        loss.backward()\n",
        "\n",
        "        # Оновлення ваг\n",
        "        optimizer.step()\n",
        "\n",
        "        # Додаємо втрату до загальної\n",
        "        epoch_loss += loss.item()\n",
        "\n",
        "    # Середня втрата на епосі\n",
        "    avg_loss = epoch_loss / len(train_loader)\n",
        "    losses.append(avg_loss)\n",
        "\n",
        "    # Валідація раз на 100 епох\n",
        "    if epoch % 100 == 0:\n",
        "        model.eval()  # Переход на режим валідації\n",
        "        train_rmse, test_rmse = 0, 0\n",
        "\n",
        "        # Валідація на тренувальних даних\n",
        "        with torch.no_grad():\n",
        "            for batch_X, batch_y in train_loader:\n",
        "                output = model(batch_X)\n",
        "                train_rmse += torch.sqrt(criterion(output, batch_y)).item()\n",
        "\n",
        "            train_rmse /= len(train_loader)\n",
        "\n",
        "        # Валідація на тестових даних\n",
        "        with torch.no_grad():\n",
        "            output_test = model(X_test)  # Використовуємо X_test\n",
        "            test_rmse = torch.sqrt(criterion(output_test, y_test)).item()  # Використовуємо y_test\n",
        "\n",
        "        # Виводимо результати\n",
        "        print(f'Epoch {epoch}: train RMSE {train_rmse:.4f}, test RMSE {test_rmse:.4f}')\n"
      ],
      "metadata": {
        "id": "pEVnWusrDNTt",
        "colab": {
          "base_uri": "https://localhost:8080/"
        },
        "outputId": "6439fef7-6304-47af-9303-f7dd71b8798f"
      },
      "execution_count": 20,
      "outputs": [
        {
          "output_type": "stream",
          "name": "stdout",
          "text": [
            "Epoch 0: train RMSE 223.5693, test RMSE 422.4164\n",
            "Epoch 100: train RMSE 184.5529, test RMSE 381.2113\n",
            "Epoch 200: train RMSE 151.5768, test RMSE 346.9228\n",
            "Epoch 300: train RMSE 122.7247, test RMSE 314.8175\n",
            "Epoch 400: train RMSE 100.2470, test RMSE 285.9444\n",
            "Epoch 500: train RMSE 81.2253, test RMSE 260.0429\n",
            "Epoch 600: train RMSE 63.6984, test RMSE 235.0665\n",
            "Epoch 700: train RMSE 52.2158, test RMSE 212.0420\n",
            "Epoch 800: train RMSE 42.6364, test RMSE 191.3963\n",
            "Epoch 900: train RMSE 35.0994, test RMSE 172.8494\n",
            "Epoch 1000: train RMSE 30.1685, test RMSE 157.1363\n",
            "Epoch 1100: train RMSE 26.5713, test RMSE 143.7413\n",
            "Epoch 1200: train RMSE 25.7541, test RMSE 133.3161\n",
            "Epoch 1300: train RMSE 25.2407, test RMSE 124.8870\n",
            "Epoch 1400: train RMSE 24.5436, test RMSE 117.9592\n",
            "Epoch 1500: train RMSE 23.3211, test RMSE 113.9873\n",
            "Epoch 1600: train RMSE 22.7450, test RMSE 109.2287\n",
            "Epoch 1700: train RMSE 23.2829, test RMSE 105.9526\n",
            "Epoch 1800: train RMSE 23.0051, test RMSE 103.9404\n",
            "Epoch 1900: train RMSE 23.5243, test RMSE 100.6686\n"
          ]
        }
      ]
    },
    {
      "cell_type": "markdown",
      "source": [
        "**Завдання 7.** Побудуйте графік лосів. Зробіть висновок з графіку, чи навчилась модель?"
      ],
      "metadata": {
        "id": "m0sIo4kp5X_s"
      }
    },
    {
      "cell_type": "code",
      "source": [
        "import matplotlib.pyplot as plt\n",
        "\n",
        "# Побудова графіка лосів\n",
        "plt.figure(figsize=(10, 6))\n",
        "plt.plot(losses, label='Training Loss', color='blue')\n",
        "plt.title('Training Loss Over Epochs')\n",
        "plt.xlabel('Epochs (batches)')\n",
        "plt.ylabel('Loss (MSE)')\n",
        "plt.legend()\n",
        "plt.grid()\n",
        "plt.show()\n"
      ],
      "metadata": {
        "id": "AS2USLRq76up",
        "colab": {
          "base_uri": "https://localhost:8080/",
          "height": 564
        },
        "outputId": "6481cd17-ca0e-4df4-c0ad-837e88b8f633"
      },
      "execution_count": 21,
      "outputs": [
        {
          "output_type": "display_data",
          "data": {
            "text/plain": [
              "<Figure size 1000x600 with 1 Axes>"
            ],
            "image/png": "[encoded data removed]"
          },
          "metadata": {}
        }
      ]
    },
    {
      "cell_type": "markdown",
      "source": [
        "Загалом, модель демонструє позитивну динаміку у навчанні та зниженні втрат. Якщо тенденція збережеться, модель може стати досить ефективною для прогнозування."
      ],
      "metadata": {
        "id": "ZhzuIXal4Ykm"
      }
    },
    {
      "cell_type": "markdown",
      "source": [
        "Модель навчилась, але не факт, що точно)"
      ],
      "metadata": {
        "id": "8eBoUQVB5p0h"
      }
    },
    {
      "cell_type": "markdown",
      "source": [
        "Доволі неочікувано, що середньоквадратичне відхилення тестового набору даних буде на порядок більшим за одиниці в нашому наборі даних. Середньоквадратичне відхилення 100 означає, що прогноз і фактичне значення будуть відрізнятися в середньому на 100 (тобто, 100 000 пасажирів у цьому наборі даних).\n",
        "\n"
      ],
      "metadata": {
        "id": "-vCiGfQw7sEK"
      }
    },
    {
      "cell_type": "markdown",
      "source": [
        "Щоб краще зрозуміти якість прогнозу, ви можете побудувати графік з кодом нижче (а ще нижче - описано, що відбувається в цьому коді, бо це теж корисно зрозуміти):"
      ],
      "metadata": {
        "id": "bgtO7NZh77vU"
      }
    },
    {
      "cell_type": "code",
      "source": [
        "# Визначення timeseries з нашого DataFrame\n",
        "timeseries = passengers_data"
      ],
      "metadata": {
        "id": "zAnPsqyG5e8U"
      },
      "execution_count": 27,
      "outputs": []
    },
    {
      "cell_type": "code",
      "source": [
        "def plot_predicts():\n",
        "  with torch.no_grad():\n",
        "      # Зсув прогнозів для тренувальних даних\n",
        "      train_plot = np.ones_like(timeseries) * np.nan\n",
        "      y_pred = model(X_train)\n",
        "      y_pred = y_pred[:, -1]\n",
        "      train_plot[lookback:train_size] = model(X_train)[:, -1]\n",
        "\n",
        "      # Зсув прогнозів для тестових даних\n",
        "      test_plot = np.ones_like(timeseries) * np.nan\n",
        "      test_plot[train_size+lookback:len(timeseries)] = model(X_test)[:, -1]\n",
        "\n",
        "  # Візуалізація результатів\n",
        "  plt.plot(timeseries, c='b')  # Реальні дані\n",
        "  plt.plot(train_plot, c='r')  # Прогнози на тренувальних даних\n",
        "  plt.plot(test_plot, c='g')   # Прогнози на тестових даних\n",
        "  plt.show()\n",
        "\n",
        "plot_predicts()"
      ],
      "metadata": {
        "id": "ZznU2AK0vES5",
        "colab": {
          "base_uri": "https://localhost:8080/",
          "height": 430
        },
        "outputId": "3a107ec1-8d28-421b-f872-e7a98be52fd2"
      },
      "execution_count": 28,
      "outputs": [
        {
          "output_type": "display_data",
          "data": {
            "text/plain": [
              "<Figure size 640x480 with 1 Axes>"
            ],
            "image/png": "[encoded data removed]"
          },
          "metadata": {}
        }
      ]
    },
    {
      "cell_type": "markdown",
      "source": [
        "**Що відбувається в коді вище.** В цьому коді здійснюється процес прогнозування часових рядів за допомогою LSTM моделі, а також виведення графіку, який показує реальні значення, тренувальні та тестові прогнози. Ось що відбувається на кожному етапі:\n",
        "\n",
        "1. **`torch.no_grad()`**: Цей контекстний менеджер вимикає обчислення градієнтів, що означає, що під час прогнозування не будуть зберігатися проміжні обчислення для зворотного проходу (backpropagation). Це підвищує ефективність під час прогнозування і зменшує використання пам'яті.\n",
        "\n",
        "2. **Зсув прогнозів для тренувальних даних:**\n",
        "   - Створюється масив `train_plot`, який має такий самий розмір, як і часовий ряд (`timeseries`), і заповнюється значеннями NaN (`np.nan`), щоб залишити місце для реальних значень.\n",
        "   - Модель передбачає виходи для тренувальних даних `X_train`.\n",
        "   - Використовується лише останнє передбачене значення для кожного входу LSTM (`y_pred[:, -1]`).\n",
        "   - Прогнози зсуваються, починаючи з індексу `lookback` до кінця тренувальних даних (індекс `train_size`). Цей зсув потрібен, щоб зробити прогноз на основі попередніх даних і відобразити його на правильній частині графіку.\n",
        "\n",
        "3. **Зсув прогнозів для тестових даних:**\n",
        "   - Створюється масив `test_plot`, який також заповнюється NaN.\n",
        "   - Прогнози для тестових даних додаються з індексу `train_size + lookback` до кінця реальних даних, щоб відобразити, де модель починає прогнозувати тестову вибірку.\n",
        "\n",
        "4. **Побудова графіка:**\n",
        "   - `plt.plot(timeseries, c='b')`: Виводить реальні значення часового ряду (синя лінія).\n",
        "   - `plt.plot(train_plot, c='r')`: Виводить тренувальні прогнози (червона лінія).\n",
        "   - `plt.plot(test_plot, c='g')`: Виводить тестові прогнози (зелена лінія).\n",
        "\n",
        "**Чому це робиться:**\n",
        "- Зсув прогнозів для тренувальних і тестових даних дозволяє візуально зрівняти, наскільки добре модель прогнозує як на тренувальній, так і на тестовій вибірках. Зазвичай, червона лінія (тренувальні прогнози) повинна точно відповідати синій лінії (реальні дані), а зелена лінія (тестові прогнози) дає змогу побачити, наскільки модель добре працює на нових даних, яких вона раніше не бачила."
      ],
      "metadata": {
        "id": "ahPW3iiJDg1R"
      }
    },
    {
      "cell_type": "markdown",
      "source": [
        "**Завдання 8**. Навчіть модель з hidden_size=100 та порівняйте результати прогнозів з попередніми."
      ],
      "metadata": {
        "id": "PhoeHLus-xIr"
      }
    },
    {
      "cell_type": "code",
      "source": [
        "# Ініціалізація моделі\n",
        "model = AirModel(input_size=1, hidden_size=100, num_layers=1)\n",
        "\n",
        "# Визначення оптимізатора та функції втрат\n",
        "criterion = nn.MSELoss()\n",
        "optimizer = optim.Adam(model.parameters(), lr=0.001)\n",
        "\n",
        "# Список для зберігання середніх похибок\n",
        "losses = []\n",
        "\n",
        "# Кількість епох\n",
        "num_epochs = 2000\n",
        "\n",
        "# Цикл навчання\n",
        "for epoch in range(num_epochs):\n",
        "    model.train()  # Переход на тренувальний режим\n",
        "    epoch_loss = 0\n",
        "\n",
        "    for batch_X, batch_y in train_loader:\n",
        "        # Обнулення градієнтів\n",
        "        optimizer.zero_grad()\n",
        "\n",
        "        # Прямий прохід\n",
        "        output = model(batch_X)\n",
        "\n",
        "        # Обчислення втрат\n",
        "        loss = criterion(output, batch_y)\n",
        "\n",
        "        # Зворотний прохід\n",
        "        loss.backward()\n",
        "\n",
        "        # Оновлення ваг\n",
        "        optimizer.step()\n",
        "\n",
        "        # Додаємо втрату до загальної\n",
        "        epoch_loss += loss.item()\n",
        "\n",
        "    # Середня втрата на епосі\n",
        "    avg_loss = epoch_loss / len(train_loader)\n",
        "    losses.append(avg_loss)\n",
        "\n",
        "    # Валідація раз на 100 епох\n",
        "    if epoch % 100 == 0:\n",
        "        model.eval()  # Переход на режим валідації\n",
        "        train_rmse, test_rmse = 0, 0\n",
        "\n",
        "        # Валідація на тренувальних даних\n",
        "        with torch.no_grad():\n",
        "            for batch_X, batch_y in train_loader:\n",
        "                output = model(batch_X)\n",
        "                train_rmse += torch.sqrt(criterion(output, batch_y)).item()\n",
        "\n",
        "            train_rmse /= len(train_loader)\n",
        "\n",
        "        # Валідація на тестових даних\n",
        "        with torch.no_grad():\n",
        "            output_test = model(X_test)  # Використовуємо X_test\n",
        "            test_rmse = torch.sqrt(criterion(output_test, y_test)).item()  # Використовуємо y_test\n",
        "\n",
        "        # Виводимо результати\n",
        "        print(f'Epoch {epoch}: train RMSE {train_rmse:.4f}, test RMSE {test_rmse:.4f}')\n"
      ],
      "metadata": {
        "id": "92032N_E_PxY",
        "colab": {
          "base_uri": "https://localhost:8080/"
        },
        "outputId": "c7c7acae-6bc7-47e2-8d50-31c0cc4f1eea"
      },
      "execution_count": 29,
      "outputs": [
        {
          "output_type": "stream",
          "name": "stdout",
          "text": [
            "Epoch 0: train RMSE 222.4265, test RMSE 421.6346\n",
            "Epoch 100: train RMSE 139.8392, test RMSE 335.7085\n",
            "Epoch 200: train RMSE 92.6840, test RMSE 276.0660\n",
            "Epoch 300: train RMSE 60.9394, test RMSE 231.2607\n",
            "Epoch 400: train RMSE 45.4085, test RMSE 194.6735\n",
            "Epoch 500: train RMSE 32.9727, test RMSE 166.1276\n",
            "Epoch 600: train RMSE 26.9544, test RMSE 144.1673\n",
            "Epoch 700: train RMSE 25.3866, test RMSE 127.8055\n",
            "Epoch 800: train RMSE 25.3945, test RMSE 117.5580\n",
            "Epoch 900: train RMSE 23.4343, test RMSE 107.7606\n",
            "Epoch 1000: train RMSE 22.5697, test RMSE 102.6046\n",
            "Epoch 1100: train RMSE 22.5216, test RMSE 98.8142\n",
            "Epoch 1200: train RMSE 22.9772, test RMSE 94.1427\n",
            "Epoch 1300: train RMSE 23.0111, test RMSE 92.1460\n",
            "Epoch 1400: train RMSE 22.6337, test RMSE 90.9014\n",
            "Epoch 1500: train RMSE 23.3404, test RMSE 89.9411\n",
            "Epoch 1600: train RMSE 22.7289, test RMSE 90.0387\n",
            "Epoch 1700: train RMSE 22.9641, test RMSE 88.0430\n",
            "Epoch 1800: train RMSE 22.2554, test RMSE 86.1036\n",
            "Epoch 1900: train RMSE 22.4450, test RMSE 88.2988\n"
          ]
        }
      ]
    },
    {
      "cell_type": "markdown",
      "source": [
        "**Тренувальна RMSE:**\n",
        "\n",
        "У другому наборі з hidden_size=100 тренувальна RMSE (222.4265 на Epoch 0) знижується до 22.4450 на Epoch 1900, що показує значне поліпшення.\n",
        "У першому наборі з hidden_size=50 RMSE також зменшується (223.5693 на Epoch 0 знижується до 23.5243 на Epoch 1900), але результати не такі вражаючі, як у другому наборі.\n",
        "\n",
        "**Тестова RMSE:**\n",
        "\n",
        "У другому наборі тестова RMSE зменшується з 421.6346 на Epoch 0 до 88.2988 на Epoch 1900, що також демонструє значне поліпшення.\n",
        "У першому наборі тестова RMSE також знижується, але залишається на вищих значеннях (422.4164 на Epoch 0 знижується до 100.6686 на Epoch 1900).\n",
        "Спостереження:\n",
        "\n",
        "Другий набір результатів з hidden_size=100 демонструє більш швидке та значне зменшення як тренувальної, так і тестової RMSE порівняно з першим набором, де hidden_size=50.\n",
        "\n",
        "Це може свідчити про те, що більший hidden_size дозволяє моделі краще вчитися на даних і, відповідно, узагальнювати результати.\n",
        "\n",
        "**Висновок**\n",
        "\n",
        "Загалом, другий набір результатів з hidden_size=100 виглядає більш обнадійливо, оскільки модель демонструє краще навчання та узагальнення на тестових даних. Це може бути пов'язано з підвищеною ємністю моделі, яка дозволяє їй краще захоплювати складність даних."
      ],
      "metadata": {
        "id": "wb7TNNhx8GyX"
      }
    },
    {
      "cell_type": "markdown",
      "source": [
        "Зробимо ще один тест для покращення якості моделі. В наступному коді реалізовано:\n",
        "\n",
        "Збільшення кількості шарів LSTM та зміну hidden_size; Регуляризацію за допомогою Dropout; Використання оптимізатора RMSprop.\n",
        "\n",
        "А також зібрано весь код в один запуск"
      ],
      "metadata": {
        "id": "DJuIgDEC-xZS"
      }
    },
    {
      "cell_type": "code",
      "source": [
        "import pandas as pd\n",
        "import numpy as np\n",
        "import torch\n",
        "import torch.nn as nn\n",
        "import torch.optim as optim\n",
        "from torch.utils.data import TensorDataset, DataLoader\n",
        "from matplotlib import pyplot as plt\n",
        "\n",
        "# Завантаження даних\n",
        "url = \"https://raw.githubusercontent.com/jbrownlee/Datasets/master/airline-passengers.csv\"\n",
        "df = pd.read_csv(url)\n",
        "df.set_index('Month', inplace=True)\n",
        "\n",
        "# Перетворення стовпця \"Passengers\" у формат numpy.ndarray з типом float32\n",
        "passengers_data = df['Passengers'].values.astype('float32')\n",
        "\n",
        "# Визначення індексу для поділу (67% на тренувальний набір)\n",
        "train_size = int(len(passengers_data) * 0.67)\n",
        "\n",
        "# Поділ на тренувальні та валідаційні дані\n",
        "train_data = passengers_data[:train_size]\n",
        "val_data = passengers_data[train_size:]\n",
        "\n",
        "# Функція для створення набору даних\n",
        "def create_dataset(dataset, lookback=1):\n",
        "    X, y = [], []\n",
        "    for i in range(len(dataset) - lookback):\n",
        "        window = dataset[i:(i + lookback)]\n",
        "        X.append(window)\n",
        "        y.append(dataset[i + lookback])\n",
        "    X = np.array(X)\n",
        "    y = np.array(y)\n",
        "    X = torch.tensor(X).unsqueeze(-1)  # Додаємо останню розмірність для LSTM\n",
        "    y = torch.tensor(y).unsqueeze(1)  # Додаємо зайву розмірність для цільових значень\n",
        "    return X, y\n",
        "\n",
        "lookback = 1\n",
        "X_train, y_train = create_dataset(train_data, lookback=lookback)\n",
        "X_test, y_test = create_dataset(val_data, lookback=lookback)\n",
        "\n",
        "# Визначення класу моделі з регуляризацією Dropout\n",
        "class AirModel(nn.Module):\n",
        "    def __init__(self, input_size, hidden_size, num_layers, dropout_rate=0.2):\n",
        "        super(AirModel, self).__init__()\n",
        "        self.lstm = nn.LSTM(input_size, hidden_size, num_layers=num_layers, batch_first=True, dropout=dropout_rate)\n",
        "        self.linear = nn.Linear(hidden_size, 1)\n",
        "\n",
        "    def forward(self, x):\n",
        "        lstm_out, _ = self.lstm(x)\n",
        "        output = self.linear(lstm_out[:, -1, :])  # Беремо тільки останню точку для прогнозу\n",
        "        return output\n",
        "\n",
        "# Ініціалізація оригінальної моделі\n",
        "model1 = AirModel(input_size=1, hidden_size=50, num_layers=1)\n",
        "criterion = nn.MSELoss()\n",
        "optimizer1 = optim.Adam(model1.parameters(), lr=0.001)\n",
        "\n",
        "# Ініціалізація нової моделі з змінами\n",
        "model2 = AirModel(input_size=1, hidden_size=100, num_layers=2)\n",
        "optimizer2 = optim.RMSprop(model2.parameters(), lr=0.001)\n",
        "\n",
        "# Створення DataLoader для батчів\n",
        "train_dataset = TensorDataset(X_train, y_train)\n",
        "train_loader = DataLoader(dataset=train_dataset, batch_size=8, shuffle=True)\n",
        "\n",
        "# Функція для навчання моделі\n",
        "def train_model(model, optimizer, num_epochs=2000):\n",
        "    losses = []\n",
        "    for epoch in range(num_epochs):\n",
        "        model.train()\n",
        "        epoch_loss = 0\n",
        "\n",
        "        for batch_X, batch_y in train_loader:\n",
        "            optimizer.zero_grad()\n",
        "            output = model(batch_X)\n",
        "            loss = criterion(output, batch_y)\n",
        "            loss.backward()\n",
        "            optimizer.step()\n",
        "            epoch_loss += loss.item()\n",
        "\n",
        "        avg_loss = epoch_loss / len(train_loader)\n",
        "        losses.append(avg_loss)\n",
        "\n",
        "        # Валідація раз на 100 епох\n",
        "        if epoch % 100 == 0:\n",
        "            model.eval()\n",
        "            with torch.no_grad():\n",
        "                output_test = model(X_test)\n",
        "                test_rmse = torch.sqrt(criterion(output_test, y_test)).item()\n",
        "                print(f'Epoch {epoch}: test RMSE {test_rmse:.4f}')\n",
        "\n",
        "    return losses\n",
        "\n",
        "# Навчання оригінальної моделі\n",
        "print(\"Training Original Model:\")\n",
        "losses1 = train_model(model1, optimizer1)\n",
        "\n",
        "# Навчання нової моделі\n",
        "print(\"Training New Model:\")\n",
        "losses2 = train_model(model2, optimizer2)\n",
        "\n",
        "# Порівняння результатів\n",
        "plt.plot(losses1, label='Original Model')\n",
        "plt.plot(losses2, label='New Model', linestyle='--')\n",
        "plt.title('Training Loss Comparison')\n",
        "plt.xlabel('Epochs (batches)')\n",
        "plt.ylabel('Average Loss')\n",
        "plt.legend()\n",
        "plt.show()\n"
      ],
      "metadata": {
        "colab": {
          "base_uri": "https://localhost:8080/",
          "height": 1000
        },
        "id": "cPlQtvzP8KIK",
        "outputId": "c28ff166-c367-499e-d439-70cf86abfc87"
      },
      "execution_count": 30,
      "outputs": [
        {
          "output_type": "stream",
          "name": "stderr",
          "text": [
            "/usr/local/lib/python3.10/dist-packages/torch/nn/modules/rnn.py:88: UserWarning: dropout option adds dropout after all but last recurrent layer, so non-zero dropout expects num_layers greater than 1, but got dropout=0.2 and num_layers=1\n",
            "  warnings.warn(\"dropout option adds dropout after all but last \"\n"
          ]
        },
        {
          "output_type": "stream",
          "name": "stdout",
          "text": [
            "Training Original Model:\n",
            "Epoch 0: test RMSE 422.1708\n",
            "Epoch 100: test RMSE 379.9864\n",
            "Epoch 200: test RMSE 344.9369\n",
            "Epoch 300: test RMSE 312.8955\n",
            "Epoch 400: test RMSE 283.7630\n",
            "Epoch 500: test RMSE 257.5422\n",
            "Epoch 600: test RMSE 232.3257\n",
            "Epoch 700: test RMSE 209.2902\n",
            "Epoch 800: test RMSE 188.5415\n",
            "Epoch 900: test RMSE 170.4101\n",
            "Epoch 1000: test RMSE 154.3252\n",
            "Epoch 1100: test RMSE 141.4720\n",
            "Epoch 1200: test RMSE 131.2805\n",
            "Epoch 1300: test RMSE 123.4203\n",
            "Epoch 1400: test RMSE 116.7608\n",
            "Epoch 1500: test RMSE 111.7857\n",
            "Epoch 1600: test RMSE 107.4893\n",
            "Epoch 1700: test RMSE 104.7915\n",
            "Epoch 1800: test RMSE 102.7269\n",
            "Epoch 1900: test RMSE 102.4952\n",
            "Training New Model:\n",
            "Epoch 0: test RMSE 414.2326\n",
            "Epoch 100: test RMSE 321.3185\n",
            "Epoch 200: test RMSE 245.8032\n",
            "Epoch 300: test RMSE 184.5637\n",
            "Epoch 400: test RMSE 148.4167\n",
            "Epoch 500: test RMSE 130.1469\n",
            "Epoch 600: test RMSE 119.9098\n",
            "Epoch 700: test RMSE 113.1810\n",
            "Epoch 800: test RMSE 108.9189\n",
            "Epoch 900: test RMSE 103.5208\n",
            "Epoch 1000: test RMSE 105.6832\n",
            "Epoch 1100: test RMSE 104.1410\n",
            "Epoch 1200: test RMSE 98.4855\n",
            "Epoch 1300: test RMSE 101.3187\n",
            "Epoch 1400: test RMSE 94.6771\n",
            "Epoch 1500: test RMSE 96.2697\n",
            "Epoch 1600: test RMSE 94.5729\n",
            "Epoch 1700: test RMSE 92.8062\n",
            "Epoch 1800: test RMSE 89.7689\n",
            "Epoch 1900: test RMSE 91.7312\n"
          ]
        },
        {
          "output_type": "display_data",
          "data": {
            "text/plain": [
              "<Figure size 640x480 with 1 Axes>"
            ],
            "image/png": "[encoded data removed]"
          },
          "metadata": {}
        }
      ]
    },
    {
      "cell_type": "markdown",
      "source": [
        "Порівняння\n",
        "Початковий RMSE (Epoch 0):\n",
        "\n",
        "Оригінальна модель: 422.1708\n",
        "Нова модель: 414.2326\n",
        "Висновок: Нова модель починає з дещо нижчого RMSE.\n",
        "\n",
        "Кінець навчання (Epoch 1900):\n",
        "\n",
        "Оригінальна модель: 102.4952\n",
        "Нова модель: 91.7312\n",
        "Висновок: Нова модель досягає нижчого RMSE на тестовому наборі, що свідчить про її кращу якість.\n",
        "\n",
        "Швидкість навчання:\n",
        "\n",
        "Нова модель швидше знижує RMSE, досягаючи значних покращень вже на ранніх етапах навчання (порівняно з оригінальною моделлю).\n",
        "Стабільність:\n",
        "\n",
        "Оригінальна модель демонструє коливання RMSE на більш пізніх етапах, в той час як нова модель поступово зменшує RMSE без значних коливань.\n",
        "Загальний висновок\n",
        "Нова модель, завдяки збільшеній кількості шарів, більшим розміром прихованого шару та використанню регуляризації через Dropout, демонструє значно кращу продуктивність у порівнянні з оригінальною моделлю. Це підтверджує важливість налаштувань архітектури моделі для покращення її якості."
      ],
      "metadata": {
        "id": "IxuNOsuR_deB"
      }
    }
  ]
}