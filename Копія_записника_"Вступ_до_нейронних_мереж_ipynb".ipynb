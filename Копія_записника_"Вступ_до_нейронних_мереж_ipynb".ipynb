{
  "nbformat": 4,
  "nbformat_minor": 0,
  "metadata": {
    "colab": {
      "provenance": [],
      "include_colab_link": true
    },
    "kernelspec": {
      "name": "python3",
      "display_name": "Python 3"
    },
    "language_info": {
      "name": "python"
    }
  },
  "cells": [
    {
      "cell_type": "markdown",
      "metadata": {
        "id": "view-in-github",
        "colab_type": "text"
      },
      "source": [
        "<a href=\"https://colab.research.google.com/github/Resia05/unsupervised_learning/blob/main/%D0%9A%D0%BE%D0%BF%D1%96%D1%8F_%D0%B7%D0%B0%D0%BF%D0%B8%D1%81%D0%BD%D0%B8%D0%BA%D0%B0_%22%D0%92%D1%81%D1%82%D1%83%D0%BF_%D0%B4%D0%BE_%D0%BD%D0%B5%D0%B9%D1%80%D0%BE%D0%BD%D0%BD%D0%B8%D1%85_%D0%BC%D0%B5%D1%80%D0%B5%D0%B6_ipynb%22.ipynb\" target=\"_parent\"><img src=\"https://colab.research.google.com/assets/colab-badge.svg\" alt=\"Open In Colab\"/></a>"
      ]
    },
    {
      "cell_type": "markdown",
      "source": [
        "**Секція 1. Логістична регресія з нуля.**\n",
        "\n",
        "Будемо крок за кроком будувати модель лог регресії з нуля для передбачення, чи буде врожай більше за 80 яблук (задача подібна до лекційної, але на класифікацію).\n",
        "\n",
        "Давайте нагадаємо основні формули для логістичної регресії.\n",
        "\n",
        "### Функція гіпотези - обчислення передбачення у логістичній регресії:\n",
        "\n",
        "$$\n",
        "\\hat{y} = \\sigma(x W^T + b) = \\frac{1}{1 + e^{-(x W^T + b)}}\n",
        "$$\n",
        "\n",
        "Де:\n",
        "- $ \\hat{y} $ — це ймовірність \"позитивного\" класу.\n",
        "- $ x $ — це вектор (або матриця для набору прикладів) вхідних даних.\n",
        "- $ W $ — це вектор (або матриця) вагових коефіцієнтів моделі.\n",
        "- $ b $ — це зміщення (bias).\n",
        "- $ \\sigma(z) $ — це сигмоїдна функція активації.\n",
        "\n",
        "### Як обчислюється сигмоїдна функція:\n",
        "\n",
        "Сигмоїдна функція $ \\sigma(z) $ має вигляд:\n",
        "\n",
        "$$\n",
        "\\sigma(z) = \\frac{1}{1 + e^{-z}}\n",
        "$$\n",
        "\n",
        "Ця функція перетворює будь-яке дійсне значення $ z $ в інтервал від 0 до 1, що дозволяє інтерпретувати вихід як ймовірність для логістичної регресії.\n",
        "\n",
        "### Формула функції втрат для логістичної регресії (бінарна крос-ентропія):\n",
        "\n",
        "Функція втрат крос-ентропії оцінює, наскільки добре модель передбачає класи, порівнюючи передбачені ймовірності $ \\hat{y} $ із справжніми мітками $ y $. Формула наступна:\n",
        "\n",
        "$$\n",
        "L(y, \\hat{y}) = - \\left[ y \\cdot \\log(\\hat{y}) + (1 - y) \\cdot \\log(1 - \\hat{y}) \\right]\n",
        "$$\n",
        "\n",
        "Де:\n",
        "- $ y $ — це справжнє значення (мітка класу, 0 або 1).\n",
        "- $ \\hat{y} $ — це передбачене значення (ймовірність).\n",
        "\n"
      ],
      "metadata": {
        "id": "lbLHTNfSclli"
      }
    },
    {
      "cell_type": "markdown",
      "source": [
        "1.\n",
        "Тут вже наведений код для ініціювання набору даних в форматі numpy. Перетворіть `inputs`, `targets` на `torch` тензори. Виведіть результат на екран."
      ],
      "metadata": {
        "id": "GtOYB-RHfc_r"
      }
    },
    {
      "cell_type": "code",
      "source": [
        "import torch\n",
        "import numpy as np"
      ],
      "metadata": {
        "id": "3BNXSR-VdYKQ"
      },
      "execution_count": 1,
      "outputs": []
    },
    {
      "cell_type": "code",
      "execution_count": 2,
      "metadata": {
        "id": "QLKZ77x4v_-v"
      },
      "outputs": [],
      "source": [
        "# Вхідні дані (temp, rainfall, humidity)\n",
        "inputs = np.array([[73, 67, 43],\n",
        "                   [91, 88, 64],\n",
        "                   [87, 134, 58],\n",
        "                   [102, 43, 37],\n",
        "                   [69, 96, 70]], dtype='float32')\n",
        "\n",
        "# Таргети (apples > 80)\n",
        "targets = np.array([[0],\n",
        "                    [1],\n",
        "                    [1],\n",
        "                    [0],\n",
        "                    [1]], dtype='float32')"
      ]
    },
    {
      "cell_type": "code",
      "source": [
        "# Перетворення на torch тензори\n",
        "inputs_tensor = torch.from_numpy(inputs)\n",
        "targets_tensor = torch.from_numpy(targets)\n",
        "\n",
        "# Виведення результату\n",
        "inputs_tensor, targets_tensor"
      ],
      "metadata": {
        "id": "KjoeaDrk6fO7",
        "colab": {
          "base_uri": "https://localhost:8080/"
        },
        "outputId": "12d70fc5-0949-4346-9e36-5b4b0ba00313"
      },
      "execution_count": 3,
      "outputs": [
        {
          "output_type": "execute_result",
          "data": {
            "text/plain": [
              "(tensor([[ 73.,  67.,  43.],\n",
              "         [ 91.,  88.,  64.],\n",
              "         [ 87., 134.,  58.],\n",
              "         [102.,  43.,  37.],\n",
              "         [ 69.,  96.,  70.]]),\n",
              " tensor([[0.],\n",
              "         [1.],\n",
              "         [1.],\n",
              "         [0.],\n",
              "         [1.]]))"
            ]
          },
          "metadata": {},
          "execution_count": 3
        }
      ]
    },
    {
      "cell_type": "markdown",
      "source": [
        "2. Ініціюйте ваги `w`, `b` для моделі логістичної регресії потрібної форми зважаючи на розмірності даних випадковими значеннями з нормального розподілу. Лишаю тут код для фіксації `random_seed`."
      ],
      "metadata": {
        "id": "iKzbJKfOgGV8"
      }
    },
    {
      "cell_type": "code",
      "source": [
        "torch.random.manual_seed(1)"
      ],
      "metadata": {
        "id": "aXhKw6Tdj1-d",
        "colab": {
          "base_uri": "https://localhost:8080/"
        },
        "outputId": "c8fa203a-ed6a-4d17-ece5-343f112179a2"
      },
      "execution_count": 4,
      "outputs": [
        {
          "output_type": "execute_result",
          "data": {
            "text/plain": [
              "<torch._C.Generator at 0x7cc7502b8cd0>"
            ]
          },
          "metadata": {},
          "execution_count": 4
        }
      ]
    },
    {
      "cell_type": "code",
      "source": [
        "# Ініціалізація ваг w та зміщення b з requires_grad=True\n",
        "w = torch.randn(inputs.shape[1], 1, requires_grad=True)  # Вектор ваг (3x1)\n",
        "b = torch.randn(1, requires_grad=True)  # Зсув (скаляр)\n",
        "\n",
        "# Виведення ініційованих значень\n",
        "w, b"
      ],
      "metadata": {
        "id": "eApcB7eb6h9o",
        "colab": {
          "base_uri": "https://localhost:8080/"
        },
        "outputId": "d96e88b8-f31f-4701-e06e-8c3977ea878c"
      },
      "execution_count": 21,
      "outputs": [
        {
          "output_type": "execute_result",
          "data": {
            "text/plain": [
              "(tensor([[-1.0276],\n",
              "         [-0.5631],\n",
              "         [-0.8923]], requires_grad=True),\n",
              " tensor([-0.0583], requires_grad=True))"
            ]
          },
          "metadata": {},
          "execution_count": 21
        }
      ]
    },
    {
      "cell_type": "markdown",
      "source": [
        "3. Напишіть функцію `model`, яка буде обчислювати функцію гіпотези в логістичній регресії і дозволяти робити передбачення на основі введеного рядка даних і коефіцієнтів в змінних `w`, `b`.\n",
        "\n",
        "  **Важливий момент**, що функція `model` робить обчислення на `torch.tensors`, тож для математичних обчислень використовуємо фукнціонал `torch`, наприклад:\n",
        "  - обчсилення $e^x$: `torch.exp(x)`\n",
        "  - обчсилення $log(x)$: `torch.log(x)`\n",
        "  - обчислення середнього значення вектору `x`: `torch.mean(x)`\n",
        "\n",
        "  Використайте функцію `model` для обчислення передбачень з поточними значеннями `w`, `b`.Виведіть результат обчислень на екран.\n",
        "\n",
        "  Проаналізуйте передбачення. Чи не викликають вони у вас підозр? І якщо викликають, то чим це може бути зумовлено?"
      ],
      "metadata": {
        "id": "nYGxNGTaf5s6"
      }
    },
    {
      "cell_type": "code",
      "source": [
        "# Сигмоїдна функція\n",
        "def sigmoid(x):\n",
        "    return 1 / (1 + torch.exp(-x))\n",
        "\n",
        "# Функція моделі логістичної регресії\n",
        "def model(x, w, b):\n",
        "    z = torch.matmul(x, w) + b  # Обчислення лінійної комбінації вхідних даних та ваг\n",
        "    y_hat = sigmoid(z)  # Застосування сигмоїдної функції\n",
        "    return y_hat\n",
        "\n",
        "# Приклад обчислення передбачень\n",
        "predictions = model(inputs_tensor, w, b)\n",
        "\n",
        "# Виведення передбачень\n",
        "predictions"
      ],
      "metadata": {
        "id": "pSz2j4Fh6jBv",
        "colab": {
          "base_uri": "https://localhost:8080/"
        },
        "outputId": "9e1d866b-362a-4010-ed82-29cca16affe2"
      },
      "execution_count": 22,
      "outputs": [
        {
          "output_type": "execute_result",
          "data": {
            "text/plain": [
              "tensor([[0.],\n",
              "        [0.],\n",
              "        [0.],\n",
              "        [0.],\n",
              "        [0.]], grad_fn=<MulBackward0>)"
            ]
          },
          "metadata": {},
          "execution_count": 22
        }
      ]
    },
    {
      "cell_type": "markdown",
      "source": [
        "Якщо значення ваг\n",
        "𝑊\n",
        "та зміщення\n",
        "𝑏\n",
        "недостатньо великі (особливо якщо\n",
        "𝑏\n",
        "є від'ємним), значення\n",
        "𝑧\n",
        "можуть вийти від'ємними або близькими до нуля.  Якщо\n",
        "𝑧\n",
        "є від'ємним, ми отримаємо передбачення, що наближаються до 0"
      ],
      "metadata": {
        "id": "Sur3S4F_-eI4"
      }
    },
    {
      "cell_type": "markdown",
      "source": [
        "4. Напишіть функцію `binary_cross_entropy`, яка приймає на вхід передбачення моделі `predicted_probs` та справжні мітки в даних `true_labels` і обчислює значення втрат (loss)  за формулою бінарної крос-ентропії для кожного екземпляра та вертає середні втрати по всьому набору даних.\n",
        "  Використайте функцію `binary_cross_entropy` для обчислення втрат для поточних передбачень моделі."
      ],
      "metadata": {
        "id": "O2AGM0Mb2yHa"
      }
    },
    {
      "cell_type": "code",
      "source": [
        "import torch\n",
        "\n",
        "def binary_cross_entropy(predicted_probs, true_labels):\n",
        "    # Обчислення крос-ентропії для кожного екземпляра\n",
        "    loss = - (true_labels * torch.log(predicted_probs) + (1 - true_labels) * torch.log(1 - predicted_probs))\n",
        "    # Обчислення середнього значення втрат\n",
        "    mean_loss = torch.mean(loss)\n",
        "    return mean_loss\n",
        "\n",
        "# Використовуємо поточні передбачення для обчислення втрат\n",
        "loss_value = binary_cross_entropy(predictions, targets_tensor)\n",
        "\n",
        "# Виведення втрат\n",
        "loss_value\n"
      ],
      "metadata": {
        "id": "1bWlovvx6kZS",
        "colab": {
          "base_uri": "https://localhost:8080/"
        },
        "outputId": "cc071dc3-75b3-45ae-95d0-95377ff1fc84"
      },
      "execution_count": 14,
      "outputs": [
        {
          "output_type": "execute_result",
          "data": {
            "text/plain": [
              "tensor(nan, grad_fn=<MeanBackward0>)"
            ]
          },
          "metadata": {},
          "execution_count": 14
        }
      ]
    },
    {
      "cell_type": "markdown",
      "source": [
        "5. Зробіть зворотнє поширення помилки і виведіть градієнти за параметрами `w`, `b`. Проаналізуйте їх значення. Як гадаєте, чому вони саме такі?"
      ],
      "metadata": {
        "id": "ZFKpQxdHi1__"
      }
    },
    {
      "cell_type": "code",
      "source": [
        "# Обчислення передбачень\n",
        "predictions = model(inputs_tensor, w, b)\n",
        "\n",
        "# Обчислення втрат\n",
        "loss = binary_cross_entropy(predictions, targets_tensor)\n",
        "\n",
        "# Зворотнє поширення помилки\n",
        "loss.backward()\n",
        "\n",
        "# Виведення градієнтів для ваг та зміщення\n",
        "print(f'Градієнти для ваг (w): {w.grad}')\n",
        "print(f'Градієнти для зміщення (b): {b.grad}')\n"
      ],
      "metadata": {
        "id": "YAbXUNSJ6mCl",
        "colab": {
          "base_uri": "https://localhost:8080/"
        },
        "outputId": "5c28b0ef-0b2e-419f-cf1d-9fc6ec1d3e21"
      },
      "execution_count": 15,
      "outputs": [
        {
          "output_type": "stream",
          "name": "stdout",
          "text": [
            "Градієнти для ваг (w): tensor([[nan],\n",
            "        [nan],\n",
            "        [nan]])\n",
            "Градієнти для зміщення (b): tensor([nan])\n"
          ]
        }
      ]
    },
    {
      "cell_type": "markdown",
      "source": [
        "nan ймовірно виникає через 0 у прогнозах. При обчисленнях це призводить до помилок."
      ],
      "metadata": {
        "id": "L5cFlQhACUDb"
      }
    },
    {
      "cell_type": "markdown",
      "source": [
        "**Що сталось?**\n",
        "\n",
        "В цій задачі, коли ми ініціювали значення випадковими значеннями з нормального розподілу, насправді ці значення не були дуже гарними стартовими значеннями і привели до того, що градієнти стали дуже малими або навіть рівними нулю (це призводить до того, що градієнти \"зникають\"), і відповідно при оновленні ваг у нас не буде нічого змінюватись. Це називається `gradient vanishing`. Це відбувається через **насичення сигмоїдної функції активації.**\n",
        "\n",
        "У нашій задачі ми використовуємо сигмоїдну функцію активації, яка має такий вигляд:\n",
        "\n",
        "   $$\n",
        "   \\sigma(z) = \\frac{1}{1 + e^{-z}}\n",
        "   $$\n",
        "\n",
        "\n",
        "Коли значення $z$ дуже велике або дуже мале, сигмоїдна функція починає \"насичуватись\". Це означає, що для великих позитивних $z$ сигмоїда наближається до 1, а для великих негативних — до 0. В цих діапазонах градієнти починають стрімко зменшуватись і наближаються до нуля (бо градієнт - це похідна, похідна на проміжку функції, де вона паралельна осі ОХ, дорівнює 0), що робить оновлення ваг неможливим.\n",
        "\n",
        "![](https://editor.analyticsvidhya.com/uploads/27889vaegp.png)\n",
        "\n",
        "У логістичній регресії $ z = x \\cdot w + b $. Якщо ваги $w, b$ - великі, значення $z$ також буде великим, і сигмоїда перейде в насичену область, де градієнти дуже малі.\n",
        "\n",
        "Саме це сталося в нашій задачі, де великі випадкові значення ваг викликали насичення сигмоїдної функції. Це в свою чергу призводить до того, що під час зворотного поширення помилки (backpropagation) модель оновлює ваги дуже повільно або зовсім не оновлює. Це називається проблемою **зникнення градієнтів** (gradient vanishing problem).\n",
        "\n",
        "**Що ж робити?**\n",
        "Ініціювати ваги маленькими значеннями навколо нуля. Наприклад ми можемо просто в існуючій ініціалізації ваги розділити на 1000. Можна також використати інший спосіб ініціалізації вагів - інформація про це [тут](https://www.geeksforgeeks.org/initialize-weights-in-pytorch/).\n",
        "\n",
        "Як це робити - показую нижче. **Виконайте код та знову обчисліть передбачення, лосс і виведіть градієнти.**\n",
        "\n",
        "А я пишу пояснення, чому просто не зробити\n",
        "\n",
        "```\n",
        "w = torch.randn(1, 3, requires_grad=True)/1000\n",
        "b = torch.randn(1, requires_grad=True)/1000\n",
        "```\n",
        "\n",
        "Нам потрібно, аби тензори вагів були листовими (leaf tensors).\n",
        "\n",
        "1. **Що таке листовий тензор**\n",
        "Листовий тензор — це тензор, який був створений користувачем безпосередньо і з якого починається обчислювальний граф. Якщо такий тензор має `requires_grad=True`, PyTorch буде відслідковувати всі операції, виконані над ним, щоб правильно обчислювати градієнти під час навчання.\n",
        "\n",
        "2. **Чому ми використовуємо `w.data` замість звичайних операцій**\n",
        "Якщо ми просто виконали б операції, такі як `(w - 0.5) / 100`, ми б отримали **новий тензор**, який вже не був би листовим тензором, оскільки ці операції створюють **новий** тензор, а не модифікують існуючий.\n",
        "\n",
        "  Проте, щоб залишити наші тензори ваги `w` та зміщення `b` листовими і продовжити можливість відстеження градієнтів під час тренування, ми використовуємо атрибут `.data`. Цей атрибут дозволяє **виконувати операції in-place (прямо на існуючому тензорі)** без зміни самого об'єкта тензора. Отже, тензор залишається листовим, і PyTorch може коректно обчислювати його градієнти.\n",
        "\n",
        "3. **Чому важливо залишити тензор листовим**\n",
        "Якщо тензор більше не є листовим (наприклад, через проведення операцій, що створюють нові тензори), ви не зможете отримати градієнти за допомогою `w.grad` чи `b.grad` після виклику `loss.backward()`. Це може призвести до втрати можливості оновлення параметрів під час тренування моделі. В нашому випадку ми хочемо, щоб тензори `w` та `b` накопичували градієнти, тому вони повинні залишатись листовими.\n",
        "\n",
        "**Висновок:**\n",
        "Ми використовуємо `.data`, щоб виконати операції зміни значень на ваги і зміщення **in-place**, залишаючи їх листовими тензорами, які можуть накопичувати градієнти під час навчання. Це дозволяє коректно працювати механізму зворотного поширення помилки (backpropagation) і оновлювати ваги моделі."
      ],
      "metadata": {
        "id": "nDN1t1RujQsK"
      }
    },
    {
      "cell_type": "markdown",
      "source": [
        "5. Виконайте код та знову обчисліть передбачення, лосс і знайдіть градієнти та виведіть всі ці тензори на екран."
      ],
      "metadata": {
        "id": "rOPSQyttpVjO"
      }
    },
    {
      "cell_type": "code",
      "source": [
        "torch.random.manual_seed(1)\n",
        "# w = torch.randn(1, 3, requires_grad=True)  # Листовий тензор\n",
        "w = torch.randn(inputs.shape[1], 1, requires_grad=True)\n",
        "b = torch.randn(1, requires_grad=True)     # Листовий тензор\n",
        "\n",
        "# in-place операції\n",
        "w.data = w.data / 1000\n",
        "b.data = b.data / 1000\n",
        "\n",
        "# Виведення ініційованих значень\n",
        "w, b"
      ],
      "metadata": {
        "id": "-EBOJ3tsnRaD",
        "colab": {
          "base_uri": "https://localhost:8080/"
        },
        "outputId": "f1780f3d-3d2a-4568-9ded-eb03bcf09674"
      },
      "execution_count": 24,
      "outputs": [
        {
          "output_type": "execute_result",
          "data": {
            "text/plain": [
              "(tensor([[6.6135e-04],\n",
              "         [2.6692e-04],\n",
              "         [6.1677e-05]], requires_grad=True),\n",
              " tensor([0.0006], requires_grad=True))"
            ]
          },
          "metadata": {},
          "execution_count": 24
        }
      ]
    },
    {
      "cell_type": "code",
      "source": [
        "# Обчислення передбачень з новими вагами та зміщенням\n",
        "predictions = model(inputs_tensor, w, b)\n",
        "\n",
        "# Обчислення втрат\n",
        "loss = binary_cross_entropy(predictions, targets_tensor)\n",
        "\n",
        "# Зворотне поширення помилки\n",
        "loss.backward()\n",
        "\n",
        "# Виведення нових результатів\n",
        "print(\"Нове передбачення:\", predictions)\n",
        "print(\"Нове втрати (Loss):\", loss.item())\n",
        "print(\"Нові градієнти для ваг (w):\", w.grad)\n",
        "print(\"Нові градієнти для зміщення (b):\", b.grad)"
      ],
      "metadata": {
        "id": "-JwXiSpX6orh",
        "colab": {
          "base_uri": "https://localhost:8080/"
        },
        "outputId": "a0d59939-d319-4a9f-88b8-cf5613e6e69d"
      },
      "execution_count": 26,
      "outputs": [
        {
          "output_type": "stream",
          "name": "stdout",
          "text": [
            "Нове передбачення: tensor([[0.5174],\n",
            "        [0.5220],\n",
            "        [0.5244],\n",
            "        [0.5204],\n",
            "        [0.5190]], grad_fn=<MulBackward0>)\n",
            "Нове втрати (Loss): 0.6829456686973572\n",
            "Нові градієнти для ваг (w): tensor([[ -5.4417],\n",
            "        [-18.9853],\n",
            "        [-10.0682]])\n",
            "Нові градієнти для зміщення (b): tensor([-0.0794])\n"
          ]
        }
      ]
    },
    {
      "cell_type": "markdown",
      "source": [
        "6. Напишіть алгоритм градієнтного спуску, який буде навчати модель з використанням написаних раніше функцій і виконуючи оновлення ваг. Алгоритм має включати наступні кроки:\n",
        "\n",
        "  1. Генерація прогнозів\n",
        "  2. Обчислення втрат\n",
        "  3. Обчислення градієнтів (gradients) loss-фукнції відносно ваг і зсувів\n",
        "  4. Налаштування ваг шляхом віднімання невеликої величини, пропорційної градієнту (`learning_rate` домножений на градієнт)\n",
        "  5. Скидання градієнтів на нуль\n",
        "\n",
        "Виконайте градієнтний спуск протягом 1000 епох, обчисліть фінальні передбачення і проаналізуйте, чи вони точні?"
      ],
      "metadata": {
        "id": "RCdi44IT334o"
      }
    },
    {
      "cell_type": "code",
      "source": [
        "import numpy as np\n",
        "import torch\n",
        "\n",
        "# Вхідні дані (temp, rainfall, humidity)\n",
        "inputs = np.array([[73, 67, 43],\n",
        "                   [91, 88, 64],\n",
        "                   [87, 134, 58],\n",
        "                   [102, 43, 37],\n",
        "                   [69, 96, 70]], dtype='float32')\n",
        "\n",
        "# Таргети (apples > 80)\n",
        "targets = np.array([[0],\n",
        "                    [1],\n",
        "                    [1],\n",
        "                    [0],\n",
        "                    [1]], dtype='float32')\n",
        "\n",
        "# Перетворення на torch тензори\n",
        "inputs_tensor = torch.from_numpy(inputs)\n",
        "targets_tensor = torch.from_numpy(targets)\n",
        "\n",
        "# Ініціалізація ваг та зсуву\n",
        "torch.random.manual_seed(1)\n",
        "w = torch.randn(inputs.shape[1], 1, requires_grad=True)  # Вектор ваг (3x1)\n",
        "b = torch.randn(1, requires_grad=True)  # Зсув (скаляр)\n",
        "\n",
        "# in-place операції\n",
        "w.data = w.data / 1000\n",
        "b.data = b.data / 1000\n",
        "\n",
        "# Налаштування гіперпараметрів\n",
        "learning_rate = 0.01\n",
        "num_epochs = 1000\n",
        "\n",
        "# Сигмоїдна функція\n",
        "def sigmoid(x):\n",
        "    return 1 / (1 + torch.exp(-x))\n",
        "\n",
        "# Функція моделі логістичної регресії\n",
        "def model(x, w, b):\n",
        "    z = torch.matmul(x, w) + b\n",
        "    y_hat = sigmoid(z)\n",
        "    return y_hat\n",
        "\n",
        "# Функція для обчислення втрат з обмеженнями\n",
        "def binary_cross_entropy(predicted_probs, true_labels):\n",
        "    # Обмеження для уникнення log(0)\n",
        "    predicted_probs = torch.clamp(predicted_probs, 1e-7, 1 - 1e-7)\n",
        "    loss = - (true_labels * torch.log(predicted_probs) + (1 - true_labels) * torch.log(1 - predicted_probs))\n",
        "    mean_loss = torch.mean(loss)\n",
        "    return mean_loss\n",
        "\n",
        "# Градієнтний спуск\n",
        "for epoch in range(num_epochs):\n",
        "    # Генерація прогнозів\n",
        "    predictions = model(inputs_tensor, w, b)\n",
        "\n",
        "    # Обчислення втрат\n",
        "    loss = binary_cross_entropy(predictions, targets_tensor)\n",
        "\n",
        "    # Обчислення градієнтів\n",
        "    loss.backward()\n",
        "\n",
        "    # Налаштування ваг\n",
        "    with torch.no_grad():  # Вимкнення відстеження градієнтів для оновлення\n",
        "        w -= learning_rate * w.grad\n",
        "        b -= learning_rate * b.grad\n",
        "\n",
        "    # Скидання градієнтів на нуль\n",
        "    w.grad.zero_()\n",
        "    b.grad.zero_()\n",
        "\n",
        "    # Кожні 100 епох виводимо втрати для моніторингу\n",
        "    if (epoch + 1) % 100 == 0:\n",
        "        print(f'Епоха {epoch + 1}, Втрати: {loss.item()}')\n",
        "\n",
        "# Обчислення фінальних передбачень\n",
        "final_predictions = model(inputs_tensor, w, b)\n",
        "\n",
        "# Аналіз точності передбачень\n",
        "final_predictions_binary = (final_predictions > 0.5).float()  # Перетворення ймовірностей в класи\n",
        "\n",
        "accuracy = (final_predictions_binary.eq(targets_tensor).sum().item()) / targets_tensor.size(0)\n",
        "print(\"Фінальні передбачення:\", final_predictions_binary)\n",
        "print(\"Точність моделі:\", accuracy)\n"
      ],
      "metadata": {
        "id": "mObHPyE06qsO",
        "colab": {
          "base_uri": "https://localhost:8080/"
        },
        "outputId": "0eec4383-0e9d-4a90-c94a-e30c085b7cb3"
      },
      "execution_count": 29,
      "outputs": [
        {
          "output_type": "stream",
          "name": "stdout",
          "text": [
            "Епоха 100, Втрати: 6.376954078674316\n",
            "Епоха 200, Втрати: 6.376954078674316\n",
            "Епоха 300, Втрати: 6.376954078674316\n",
            "Епоха 400, Втрати: 6.376954078674316\n",
            "Епоха 500, Втрати: 6.376954078674316\n",
            "Епоха 600, Втрати: 6.376954078674316\n",
            "Епоха 700, Втрати: 6.376954078674316\n",
            "Епоха 800, Втрати: 6.376954078674316\n",
            "Епоха 900, Втрати: 6.376954078674316\n",
            "Епоха 1000, Втрати: 6.376954078674316\n",
            "Фінальні передбачення: tensor([[1.],\n",
            "        [1.],\n",
            "        [1.],\n",
            "        [1.],\n",
            "        [1.]])\n",
            "Точність моделі: 0.6\n"
          ]
        }
      ]
    },
    {
      "cell_type": "markdown",
      "source": [
        "Цей код працює невірно, так як втрати не оновлюються. Спроба 2."
      ],
      "metadata": {
        "id": "aG7iBhoXU0Fl"
      }
    },
    {
      "cell_type": "code",
      "source": [
        "import numpy as np\n",
        "import torch\n",
        "\n",
        "# Вхідні дані (temp, rainfall, humidity)\n",
        "inputs = np.array([[73, 67, 43],\n",
        "                   [91, 88, 64],\n",
        "                   [87, 134, 58],\n",
        "                   [102, 43, 37],\n",
        "                   [69, 96, 70]], dtype='float32')\n",
        "\n",
        "# Таргети (apples > 80)\n",
        "targets = np.array([[0],\n",
        "                    [1],\n",
        "                    [1],\n",
        "                    [0],\n",
        "                    [1]], dtype='float32')\n",
        "\n",
        "# Перетворення вхідних даних і цілей у тензори\n",
        "inputs = torch.from_numpy(inputs)\n",
        "targets = torch.from_numpy(targets)\n",
        "\n",
        "# Гіперпараметри\n",
        "learning_rate = 1e-5\n",
        "num_epochs = 1000\n",
        "\n",
        "# Визначаємо ваги і зсуви\n",
        "w = torch.randn(1, 3, requires_grad=True)  # Зміна з (2, 3) на (1, 3)\n",
        "b = torch.randn(1, requires_grad=True)      # Зміна з (2) на (1)\n",
        "\n",
        "# Визначаємо модель\n",
        "def model(x, w, b):\n",
        "    return x @ w.t() + b\n",
        "\n",
        "# MSE loss\n",
        "def mse(t1, t2):\n",
        "    diff = t1 - t2\n",
        "    return torch.sum(diff * diff) / diff.numel()\n",
        "\n",
        "# Головна функція тренування\n",
        "def train(inputs, targets, w, b, learning_rate, num_epochs):\n",
        "    for epoch in range(num_epochs):\n",
        "        preds = model(inputs, w, b)\n",
        "        loss = mse(preds, targets)\n",
        "        loss.backward()\n",
        "\n",
        "        with torch.no_grad():\n",
        "            w -= learning_rate * w.grad\n",
        "            b -= learning_rate * b.grad\n",
        "            w.grad.zero_()\n",
        "            b.grad.zero_()\n",
        "\n",
        "        # Виводимо втрати кожні 100 епох\n",
        "        if epoch % 100 == 0:\n",
        "            print(f'Epoch {epoch}: Loss = {loss.item()}')\n",
        "\n",
        "    return preds\n",
        "\n",
        "# Тренування моделі\n",
        "final_preds = train(inputs, targets, w, b, learning_rate, num_epochs)\n",
        "\n",
        "# Виводимо фінальні передбачення та таргети\n",
        "print(\"Final Predictions:\", final_preds)\n",
        "print(\"Targets:\", targets)\n"
      ],
      "metadata": {
        "colab": {
          "base_uri": "https://localhost:8080/"
        },
        "id": "qYdeTMQPUdzA",
        "outputId": "d3755510-53ea-4dd8-afd7-cc0796913fe8"
      },
      "execution_count": 99,
      "outputs": [
        {
          "output_type": "stream",
          "name": "stdout",
          "text": [
            "Epoch 0: Loss = 6522.38720703125\n",
            "Epoch 100: Loss = 47.66027069091797\n",
            "Epoch 200: Loss = 26.315210342407227\n",
            "Epoch 300: Loss = 17.621707916259766\n",
            "Epoch 400: Loss = 12.107441902160645\n",
            "Epoch 500: Loss = 8.349320411682129\n",
            "Epoch 600: Loss = 5.765992164611816\n",
            "Epoch 700: Loss = 3.988471269607544\n",
            "Epoch 800: Loss = 2.7652735710144043\n",
            "Epoch 900: Loss = 1.923520803451538\n",
            "Final Predictions: tensor([[ 0.3812],\n",
            "        [ 1.5041],\n",
            "        [-0.7443],\n",
            "        [-0.5279],\n",
            "        [ 2.7391]], grad_fn=<AddBackward0>)\n",
            "Targets: tensor([[0.],\n",
            "        [1.],\n",
            "        [1.],\n",
            "        [0.],\n",
            "        [1.]])\n"
          ]
        }
      ]
    },
    {
      "cell_type": "code",
      "source": [
        "# Перевірка точності\n",
        "predicted_classes = (final_preds > 0.5).float()\n",
        "accuracy = (predicted_classes == targets).float().mean()\n",
        "print(f'Accuracy: {accuracy.item() * 100:.2f}%')\n"
      ],
      "metadata": {
        "colab": {
          "base_uri": "https://localhost:8080/"
        },
        "id": "fMlK6a41Ur8I",
        "outputId": "d79f364c-e4c6-4f3a-b420-2f6034f7da2b"
      },
      "execution_count": 100,
      "outputs": [
        {
          "output_type": "stream",
          "name": "stdout",
          "text": [
            "Accuracy: 80.00%\n"
          ]
        }
      ]
    },
    {
      "cell_type": "markdown",
      "source": [
        "**Секція 2. Створення лог регресії з використанням функціоналу `torch.nn`.**\n",
        "\n",
        "Давайте повторно реалізуємо ту ж модель, використовуючи деякі вбудовані функції та класи з PyTorch.\n",
        "\n",
        "Даних у нас буде побільше - тож, визначаємо нові масиви."
      ],
      "metadata": {
        "id": "fuRhlyF9qAia"
      }
    },
    {
      "cell_type": "code",
      "source": [
        "import torch.nn as nn\n",
        "import torch.optim as optim\n",
        "from torch.utils.data import TensorDataset\n",
        "import torch.nn.functional as F\n",
        "from torch.utils.data import DataLoader"
      ],
      "metadata": {
        "id": "RQ4nNbOPGtBN"
      },
      "execution_count": 39,
      "outputs": []
    },
    {
      "cell_type": "code",
      "source": [
        "# Вхідні дані (temp, rainfall, humidity)\n",
        "inputs = np.array([[73, 67, 43],\n",
        "                   [91, 88, 64],\n",
        "                   [87, 134, 58],\n",
        "                   [102, 43, 37],\n",
        "                   [69, 96, 70],\n",
        "                   [73, 67, 43],\n",
        "                   [91, 88, 64],\n",
        "                   [87, 134, 58],\n",
        "                   [102, 43, 37],\n",
        "                   [69, 96, 70],\n",
        "                   [73, 67, 43],\n",
        "                   [91, 88, 64],\n",
        "                   [87, 134, 58],\n",
        "                   [102, 43, 37],\n",
        "                   [69, 96, 70]], dtype='float32')\n",
        "\n",
        "# Таргети (apples > 80)\n",
        "targets = np.array([[0],\n",
        "                    [1],\n",
        "                    [1],\n",
        "                    [0],\n",
        "                    [1],\n",
        "                    [0],\n",
        "                    [1],\n",
        "                    [1],\n",
        "                    [0],\n",
        "                    [1],\n",
        "                    [0],\n",
        "                    [1],\n",
        "                    [1],\n",
        "                    [0],\n",
        "                    [1]], dtype='float32')"
      ],
      "metadata": {
        "id": "IX8Bhm74rV4M"
      },
      "execution_count": 82,
      "outputs": []
    },
    {
      "cell_type": "markdown",
      "source": [
        "7. Завантажте вхідні дані та мітки в PyTorch тензори та з них створіть датасет, який поєднує вхідні дані з мітками, використовуючи клас `TensorDataset`. Виведіть перші 3 елементи в датасеті.\n",
        "\n"
      ],
      "metadata": {
        "id": "7X2dV30KtAPu"
      }
    },
    {
      "cell_type": "code",
      "source": [
        "# Перетворення на torch тензори\n",
        "inputs = torch.from_numpy(inputs)\n",
        "targets = torch.from_numpy(targets)\n",
        "\n",
        "# Визначаємо dataset\n",
        "train_ds = TensorDataset(inputs, targets)\n",
        "train_ds[0:3]\n",
        "\n",
        "# Виведення перших 3 елементів у датасеті\n",
        "for i in range(3):\n",
        "    print(f'Елемент {i + 1}: Вхідні дані: {train_ds[i][0]}, Мітка: {train_ds[i][1]}')"
      ],
      "metadata": {
        "id": "chrvMfBs6vjo",
        "colab": {
          "base_uri": "https://localhost:8080/"
        },
        "outputId": "d658808d-cbfb-4751-c139-da1203e84056"
      },
      "execution_count": 83,
      "outputs": [
        {
          "output_type": "stream",
          "name": "stdout",
          "text": [
            "Елемент 1: Вхідні дані: tensor([73., 67., 43.]), Мітка: tensor([0.])\n",
            "Елемент 2: Вхідні дані: tensor([91., 88., 64.]), Мітка: tensor([1.])\n",
            "Елемент 3: Вхідні дані: tensor([ 87., 134.,  58.]), Мітка: tensor([1.])\n"
          ]
        }
      ]
    },
    {
      "cell_type": "markdown",
      "source": [
        "8. Визначте data loader з класом **DataLoader** для підготовленого датасету `train_ds`, встановіть розмір батчу на 5 та увімкніть перемішування даних для ефективного навчання моделі. Виведіть перший елемент в дата лоадері."
      ],
      "metadata": {
        "id": "4nMFaa8suOd3"
      }
    },
    {
      "cell_type": "code",
      "source": [
        "# Визначаємо data loader\n",
        "batch_size = 5\n",
        "train_dl = DataLoader(train_ds, batch_size, shuffle=True)\n",
        "next(iter(train_dl))"
      ],
      "metadata": {
        "id": "ZCsRo5Mx6wEI",
        "colab": {
          "base_uri": "https://localhost:8080/"
        },
        "outputId": "f11d1449-c8da-4a32-a4eb-fd54fbd93126"
      },
      "execution_count": 84,
      "outputs": [
        {
          "output_type": "execute_result",
          "data": {
            "text/plain": [
              "[tensor([[ 73.,  67.,  43.],\n",
              "         [102.,  43.,  37.],\n",
              "         [ 91.,  88.,  64.],\n",
              "         [ 73.,  67.,  43.],\n",
              "         [102.,  43.,  37.]]),\n",
              " tensor([[0.],\n",
              "         [0.],\n",
              "         [1.],\n",
              "         [0.],\n",
              "         [0.]])]"
            ]
          },
          "metadata": {},
          "execution_count": 84
        }
      ]
    },
    {
      "cell_type": "markdown",
      "source": [
        "9. Створіть клас `LogReg` для логістичної регресії, наслідуючи модуль `torch.nn.Module` за прикладом в лекції (в частині про FeedForward мережі).\n",
        "\n",
        "  У нас модель складається з лінійної комбінації вхідних значень і застосування фукнції сигмоїда. Тож, нейромережа буде складатись з лінійного шару `nn.Linear` і використання активації `nn.Sigmid`. У створеному класі мають бути реалізовані методи `__init__` з ініціалізацією шарів і метод `forward` для виконання прямого проходу моделі через лінійний шар і функцію активації.\n",
        "\n",
        "  Створіть екземпляр класу `LogReg` в змінній `model`."
      ],
      "metadata": {
        "id": "ymcQOo_hum6I"
      }
    },
    {
      "cell_type": "code",
      "source": [
        "class LogReg(nn.Module):\n",
        "    def __init__(self, input_dim):\n",
        "        super(LogReg, self).__init__()\n",
        "        self.linear = nn.Linear(input_dim, 1)  # Лінійний шар\n",
        "        self.sigmoid = nn.Sigmoid()  # Сигмоїдальна активація\n",
        "\n",
        "    def forward(self, x):\n",
        "        x = self.linear(x)  # Прямий прохід через лінійний шар\n",
        "        x = self.sigmoid(x)  # Застосування сигмоїдальної активації\n",
        "        return x\n",
        "\n",
        "# Визначаємо модель\n",
        "model = nn.Linear(3, 2)\n",
        "print(model.weight)\n",
        "print(model.bias)"
      ],
      "metadata": {
        "id": "EyAwhTBW6xxz",
        "colab": {
          "base_uri": "https://localhost:8080/"
        },
        "outputId": "432e8a74-dd75-4cd2-ab52-17ecc153189d"
      },
      "execution_count": 85,
      "outputs": [
        {
          "output_type": "stream",
          "name": "stdout",
          "text": [
            "Parameter containing:\n",
            "tensor([[ 0.4808,  0.4642,  0.2608],\n",
            "        [ 0.0806, -0.2977,  0.3369]], requires_grad=True)\n",
            "Parameter containing:\n",
            "tensor([ 0.5664, -0.0066], requires_grad=True)\n"
          ]
        }
      ]
    },
    {
      "cell_type": "markdown",
      "source": [
        "10. Задайте оптимізатор `Stockastic Gradient Descent` в змінній `opt` для навчання моделі логістичної регресії. А також визначіть в змінній `loss` функцію втрат `binary_cross_entropy` з модуля `torch.nn.functional` для обчислення втрат моделі. Обчисліть втрати для поточних передбачень і міток, а потім виведіть їх. Зробіть висновок, чи моделі вдалось навчитись?"
      ],
      "metadata": {
        "id": "RflV7xeVyoJy"
      }
    },
    {
      "cell_type": "code",
      "source": [
        "# Define optimizer\n",
        "opt = torch.optim.SGD(model.parameters(), lr=1e-5)\n",
        "\n",
        "# Визначаємо loss функцію\n",
        "loss_fn = F.mse_loss\n",
        "\n",
        "loss = loss_fn(model(inputs), targets)\n",
        "print(loss)"
      ],
      "metadata": {
        "id": "3QCATPU_6yfa",
        "colab": {
          "base_uri": "https://localhost:8080/"
        },
        "outputId": "cb29eec6-d2ee-4f44-a97e-9dbefc1443d6"
      },
      "execution_count": 87,
      "outputs": [
        {
          "output_type": "stream",
          "name": "stdout",
          "text": [
            "tensor(4602.0620, grad_fn=<MseLossBackward0>)\n"
          ]
        },
        {
          "output_type": "stream",
          "name": "stderr",
          "text": [
            "<ipython-input-87-935d2e67c9ea>:7: UserWarning: Using a target size (torch.Size([15, 1])) that is different to the input size (torch.Size([15, 2])). This will likely lead to incorrect results due to broadcasting. Please ensure they have the same size.\n",
            "  loss = loss_fn(model(inputs), targets)\n"
          ]
        }
      ]
    },
    {
      "cell_type": "markdown",
      "source": [
        "11. Візьміть з лекції функцію для тренування моделі з відстеженням значень втрат і навчіть щойно визначену модель на 1000 епохах. Виведіть після цього графік зміни loss, фінальні передбачення і значення таргетів."
      ],
      "metadata": {
        "id": "ch-WrYnKzMzq"
      }
    },
    {
      "cell_type": "code",
      "source": [
        "# Визначаэмо функцію для навчання моделі\n",
        "def fit(num_epochs, model, loss_fn, opt, train_dl):\n",
        "    for epoch in range(num_epochs):\n",
        "        for xb,yb in train_dl:\n",
        "            # Створення передбачень\n",
        "            pred = model(xb)\n",
        "            loss = loss_fn(pred, yb)\n",
        "\n",
        "            # Виконання градієнтного спуску\n",
        "            loss.backward()\n",
        "            opt.step()\n",
        "            opt.zero_grad()\n",
        "    print('Training loss: ', loss_fn(model(inputs), targets))"
      ],
      "metadata": {
        "id": "MZwFEgDoMOGL"
      },
      "execution_count": 88,
      "outputs": []
    },
    {
      "cell_type": "code",
      "source": [
        "# Модифікована функцію fit для відстеження втрат\n",
        "def fit_return_loss(num_epochs, model, loss_fn, opt, train_dl):\n",
        "    losses = []\n",
        "    for epoch in range(num_epochs):\n",
        "        # Ініціалізуємо акумулятор для втрат\n",
        "        total_loss = 0\n",
        "\n",
        "        for xb, yb in train_dl:\n",
        "            # Генеруємо передбачення\n",
        "            pred = model(xb)\n",
        "\n",
        "            # Обчислюємо втрати\n",
        "            loss = loss_fn(pred, yb)\n",
        "\n",
        "            # Виконуємо градієнтний спуск\n",
        "            loss.backward()\n",
        "            opt.step()\n",
        "            opt.zero_grad()\n",
        "\n",
        "            # Накопичуємо втрати\n",
        "            total_loss += loss.item()\n",
        "\n",
        "        # Обчислюємо середні втрати для епохи\n",
        "        avg_loss = total_loss / len(train_dl)\n",
        "        losses.append(avg_loss)\n",
        "\n",
        "        # Виводимо підсумок епохи\n",
        "        if (epoch + 1) % 10 == 0:\n",
        "          print(f'Epoch [{epoch+1}/{num_epochs}], Loss: {avg_loss:.4f}')\n",
        "    return losses"
      ],
      "metadata": {
        "id": "cEHQH9qE626k"
      },
      "execution_count": 89,
      "outputs": []
    },
    {
      "cell_type": "code",
      "source": [
        "# Train the model for 1000 epochs\n",
        "loss = fit_return_loss(1000, model, loss_fn, opt, train_dl)"
      ],
      "metadata": {
        "colab": {
          "base_uri": "https://localhost:8080/"
        },
        "id": "pDiz2wzMJ-dP",
        "outputId": "53ccee74-bb18-4f2c-b8a3-549c5e4a694e"
      },
      "execution_count": 90,
      "outputs": [
        {
          "output_type": "stream",
          "name": "stderr",
          "text": [
            "<ipython-input-89-4880dda8734d>:13: UserWarning: Using a target size (torch.Size([5, 1])) that is different to the input size (torch.Size([5, 2])). This will likely lead to incorrect results due to broadcasting. Please ensure they have the same size.\n",
            "  loss = loss_fn(pred, yb)\n"
          ]
        },
        {
          "output_type": "stream",
          "name": "stdout",
          "text": [
            "Epoch [10/1000], Loss: 21.0467\n",
            "Epoch [20/1000], Loss: 15.4098\n",
            "Epoch [30/1000], Loss: 12.4970\n",
            "Epoch [40/1000], Loss: 10.1592\n",
            "Epoch [50/1000], Loss: 8.1166\n",
            "Epoch [60/1000], Loss: 6.9484\n",
            "Epoch [70/1000], Loss: 6.3935\n",
            "Epoch [80/1000], Loss: 5.7032\n",
            "Epoch [90/1000], Loss: 5.0995\n",
            "Epoch [100/1000], Loss: 4.4380\n",
            "Epoch [110/1000], Loss: 4.1676\n",
            "Epoch [120/1000], Loss: 3.8614\n",
            "Epoch [130/1000], Loss: 3.5972\n",
            "Epoch [140/1000], Loss: 3.4008\n",
            "Epoch [150/1000], Loss: 3.1816\n",
            "Epoch [160/1000], Loss: 3.0234\n",
            "Epoch [170/1000], Loss: 2.8113\n",
            "Epoch [180/1000], Loss: 2.7870\n",
            "Epoch [190/1000], Loss: 2.5188\n",
            "Epoch [200/1000], Loss: 2.3359\n",
            "Epoch [210/1000], Loss: 2.2672\n",
            "Epoch [220/1000], Loss: 2.1703\n",
            "Epoch [230/1000], Loss: 2.0731\n",
            "Epoch [240/1000], Loss: 1.9032\n",
            "Epoch [250/1000], Loss: 1.7538\n",
            "Epoch [260/1000], Loss: 1.7307\n",
            "Epoch [270/1000], Loss: 1.5636\n",
            "Epoch [280/1000], Loss: 1.4682\n",
            "Epoch [290/1000], Loss: 1.4229\n",
            "Epoch [300/1000], Loss: 1.3491\n",
            "Epoch [310/1000], Loss: 1.2999\n",
            "Epoch [320/1000], Loss: 1.2684\n",
            "Epoch [330/1000], Loss: 1.1389\n",
            "Epoch [340/1000], Loss: 1.1154\n",
            "Epoch [350/1000], Loss: 1.0072\n",
            "Epoch [360/1000], Loss: 1.0128\n",
            "Epoch [370/1000], Loss: 0.9211\n",
            "Epoch [380/1000], Loss: 0.8934\n",
            "Epoch [390/1000], Loss: 0.8257\n",
            "Epoch [400/1000], Loss: 0.7893\n",
            "Epoch [410/1000], Loss: 0.7473\n",
            "Epoch [420/1000], Loss: 0.7269\n",
            "Epoch [430/1000], Loss: 0.7236\n",
            "Epoch [440/1000], Loss: 0.6521\n",
            "Epoch [450/1000], Loss: 0.6277\n",
            "Epoch [460/1000], Loss: 0.6037\n",
            "Epoch [470/1000], Loss: 0.5409\n",
            "Epoch [480/1000], Loss: 0.5492\n",
            "Epoch [490/1000], Loss: 0.5088\n",
            "Epoch [500/1000], Loss: 0.4712\n",
            "Epoch [510/1000], Loss: 0.4424\n",
            "Epoch [520/1000], Loss: 0.4423\n",
            "Epoch [530/1000], Loss: 0.4218\n",
            "Epoch [540/1000], Loss: 0.4059\n",
            "Epoch [550/1000], Loss: 0.3742\n",
            "Epoch [560/1000], Loss: 0.3633\n",
            "Epoch [570/1000], Loss: 0.3352\n",
            "Epoch [580/1000], Loss: 0.3308\n",
            "Epoch [590/1000], Loss: 0.3115\n",
            "Epoch [600/1000], Loss: 0.2979\n",
            "Epoch [610/1000], Loss: 0.2965\n",
            "Epoch [620/1000], Loss: 0.2783\n",
            "Epoch [630/1000], Loss: 0.2770\n",
            "Epoch [640/1000], Loss: 0.2482\n",
            "Epoch [650/1000], Loss: 0.2406\n",
            "Epoch [660/1000], Loss: 0.2474\n",
            "Epoch [670/1000], Loss: 0.2214\n",
            "Epoch [680/1000], Loss: 0.2124\n",
            "Epoch [690/1000], Loss: 0.2191\n",
            "Epoch [700/1000], Loss: 0.1976\n",
            "Epoch [710/1000], Loss: 0.1992\n",
            "Epoch [720/1000], Loss: 0.1987\n",
            "Epoch [730/1000], Loss: 0.1826\n",
            "Epoch [740/1000], Loss: 0.1748\n",
            "Epoch [750/1000], Loss: 0.1676\n",
            "Epoch [760/1000], Loss: 0.1659\n",
            "Epoch [770/1000], Loss: 0.1545\n",
            "Epoch [780/1000], Loss: 0.1573\n",
            "Epoch [790/1000], Loss: 0.1474\n",
            "Epoch [800/1000], Loss: 0.1475\n",
            "Epoch [810/1000], Loss: 0.1396\n",
            "Epoch [820/1000], Loss: 0.1392\n",
            "Epoch [830/1000], Loss: 0.1318\n",
            "Epoch [840/1000], Loss: 0.1253\n",
            "Epoch [850/1000], Loss: 0.1281\n",
            "Epoch [860/1000], Loss: 0.1215\n",
            "Epoch [870/1000], Loss: 0.1227\n",
            "Epoch [880/1000], Loss: 0.1171\n",
            "Epoch [890/1000], Loss: 0.1117\n",
            "Epoch [900/1000], Loss: 0.1087\n",
            "Epoch [910/1000], Loss: 0.1137\n",
            "Epoch [920/1000], Loss: 0.1095\n",
            "Epoch [930/1000], Loss: 0.1034\n",
            "Epoch [940/1000], Loss: 0.1007\n",
            "Epoch [950/1000], Loss: 0.1078\n",
            "Epoch [960/1000], Loss: 0.0965\n",
            "Epoch [970/1000], Loss: 0.0962\n",
            "Epoch [980/1000], Loss: 0.0979\n",
            "Epoch [990/1000], Loss: 0.0931\n",
            "Epoch [1000/1000], Loss: 0.0917\n"
          ]
        }
      ]
    },
    {
      "cell_type": "code",
      "source": [
        "import matplotlib.pyplot as plt\n",
        "plt.plot(loss)\n",
        "plt.xlabel('Epoch')\n",
        "plt.ylabel('Loss')\n",
        "plt.show()"
      ],
      "metadata": {
        "colab": {
          "base_uri": "https://localhost:8080/",
          "height": 449
        },
        "id": "x4xyedf-Obf9",
        "outputId": "9c0675f1-a0a5-4979-b599-1823964cd864"
      },
      "execution_count": 91,
      "outputs": [
        {
          "output_type": "display_data",
          "data": {
            "text/plain": [
              "<Figure size 640x480 with 1 Axes>"
            ],
            "image/png": "[encoded data removed]"
          },
          "metadata": {}
        }
      ]
    },
    {
      "cell_type": "code",
      "source": [
        "# Generate predictions\n",
        "preds = model(inputs)\n",
        "preds"
      ],
      "metadata": {
        "colab": {
          "base_uri": "https://localhost:8080/"
        },
        "id": "Hqb3HjsuOevH",
        "outputId": "e02ee521-011e-429e-8789-544331285550"
      },
      "execution_count": 92,
      "outputs": [
        {
          "output_type": "execute_result",
          "data": {
            "text/plain": [
              "tensor([[ 0.5258,  0.4176],\n",
              "        [ 0.6520,  0.8902],\n",
              "        [ 0.9489,  0.6258],\n",
              "        [-0.0583, -0.1384],\n",
              "        [ 1.0416,  1.3869],\n",
              "        [ 0.5258,  0.4176],\n",
              "        [ 0.6520,  0.8902],\n",
              "        [ 0.9489,  0.6258],\n",
              "        [-0.0583, -0.1384],\n",
              "        [ 1.0416,  1.3869],\n",
              "        [ 0.5258,  0.4176],\n",
              "        [ 0.6520,  0.8902],\n",
              "        [ 0.9489,  0.6258],\n",
              "        [-0.0583, -0.1384],\n",
              "        [ 1.0416,  1.3869]], grad_fn=<AddmmBackward0>)"
            ]
          },
          "metadata": {},
          "execution_count": 92
        }
      ]
    },
    {
      "cell_type": "code",
      "source": [
        "preds.int()"
      ],
      "metadata": {
        "colab": {
          "base_uri": "https://localhost:8080/"
        },
        "id": "DSnFJr6_OhIj",
        "outputId": "78a91611-8b59-4b0a-8a82-c41b05c23f8c"
      },
      "execution_count": 80,
      "outputs": [
        {
          "output_type": "execute_result",
          "data": {
            "text/plain": [
              "tensor([[0, 0],\n",
              "        [0, 0],\n",
              "        [1, 0],\n",
              "        [0, 0],\n",
              "        [0, 1],\n",
              "        [0, 0],\n",
              "        [0, 0],\n",
              "        [1, 0],\n",
              "        [0, 0],\n",
              "        [0, 1],\n",
              "        [0, 0],\n",
              "        [0, 0],\n",
              "        [1, 0],\n",
              "        [0, 0],\n",
              "        [0, 1]], dtype=torch.int32)"
            ]
          },
          "metadata": {},
          "execution_count": 80
        }
      ]
    },
    {
      "cell_type": "code",
      "source": [
        "# Compare with targets\n",
        "targets"
      ],
      "metadata": {
        "colab": {
          "base_uri": "https://localhost:8080/"
        },
        "id": "rWITqiklOj4r",
        "outputId": "68d65e14-59e1-407c-f377-7a13b9686a63"
      },
      "execution_count": 93,
      "outputs": [
        {
          "output_type": "execute_result",
          "data": {
            "text/plain": [
              "tensor([[0.],\n",
              "        [1.],\n",
              "        [1.],\n",
              "        [0.],\n",
              "        [1.],\n",
              "        [0.],\n",
              "        [1.],\n",
              "        [1.],\n",
              "        [0.],\n",
              "        [1.],\n",
              "        [0.],\n",
              "        [1.],\n",
              "        [1.],\n",
              "        [0.],\n",
              "        [1.]])"
            ]
          },
          "metadata": {},
          "execution_count": 93
        }
      ]
    }
  ]
}